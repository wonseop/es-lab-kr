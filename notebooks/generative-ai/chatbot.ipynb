{
 "cells": [
  {
   "cell_type": "markdown",
   "metadata": {},
   "source": [
    "# Chatbot with LangChain conversational chain and OpenAI 🤖💬\n",
    "\n",
    "<a target=\"_blank\" href=\"https://colab.research.google.com/github/elastic/elasticsearch-labs/blob/main/notebooks/generative-ai/chatbot.ipynb\"><img src=\"https://colab.research.google.com/assets/colab-badge.svg\" alt=\"Open In Colab\"/></a>\n",
    "\n",
    "이 노트북에서는 사업주의 정책과 같은 사용자 정의 데이터에 대한 질문에 응답할 수 있는 챗봇을 구축하겠습니다.\n",
    "\n",
    "챗봇은 LangChain의 `ConversationalRetrievalChain`을 사용하며 다음과 같은 기능을 갖습니다.\n",
    "\n",
    "- 자연어로 묻는 질문에 답변\n",
    "- Elasticsearch에서 하이브리드 검색을 실행하여 질문에 답하는 문서를 찾으세요.\n",
    "- OpenAI LLM을 활용하여 답변 추출 및 요약\n",
    "- 후속 질문을 위한 대화 기억 유지"
   ]
  },
  {
   "cell_type": "markdown",
   "metadata": {},
   "source": [
    "## Requirements 🧰\n",
    "\n",
    "이 예에서는 다음이 필요합니다.\n",
    "\n",
    "- Python 3.6 이상\n",
    "- 로컬에 설치된 Elasticsearch\n",
    "- OpenAI 계정"
   ]
  },
  {
   "cell_type": "markdown",
   "metadata": {},
   "source": [
    "## Install packages 📦\n",
    "\n",
    "먼저 이 예제에 필요한 패키지를 `pip install`합니다.\n"
   ]
  },
  {
   "cell_type": "code",
   "execution_count": 1,
   "metadata": {
    "vscode": {
     "languageId": "shellscript"
    }
   },
   "outputs": [
    {
     "name": "stdout",
     "output_type": "stream",
     "text": [
      "Requirement already satisfied: langchain in c:\\users\\refar\\.conda\\envs\\es\\lib\\site-packages (0.0.281)\n",
      "Collecting langchain\n",
      "  Obtaining dependency information for langchain from https://files.pythonhosted.org/packages/30/9e/b8e43b0a0661e5a130c7a20715e649299ebe1cb4189421a92036e0d2b472/langchain-0.0.285-py3-none-any.whl.metadata\n",
      "  Downloading langchain-0.0.285-py3-none-any.whl.metadata (14 kB)\n",
      "Requirement already satisfied: openai in c:\\users\\refar\\.conda\\envs\\es\\lib\\site-packages (0.28.0)\n",
      "Requirement already satisfied: elasticsearch in c:\\users\\refar\\.conda\\envs\\es\\lib\\site-packages (8.9.0)\n",
      "Requirement already satisfied: tiktoken in c:\\users\\refar\\.conda\\envs\\es\\lib\\site-packages (0.4.0)\n",
      "Requirement already satisfied: PyYAML>=5.3 in c:\\users\\refar\\.conda\\envs\\es\\lib\\site-packages (from langchain) (6.0.1)\n",
      "Requirement already satisfied: SQLAlchemy<3,>=1.4 in c:\\users\\refar\\.conda\\envs\\es\\lib\\site-packages (from langchain) (2.0.20)\n",
      "Requirement already satisfied: aiohttp<4.0.0,>=3.8.3 in c:\\users\\refar\\.conda\\envs\\es\\lib\\site-packages (from langchain) (3.8.5)\n",
      "Requirement already satisfied: async-timeout<5.0.0,>=4.0.0 in c:\\users\\refar\\.conda\\envs\\es\\lib\\site-packages (from langchain) (4.0.3)\n",
      "Requirement already satisfied: dataclasses-json<0.6.0,>=0.5.7 in c:\\users\\refar\\.conda\\envs\\es\\lib\\site-packages (from langchain) (0.5.14)\n",
      "Requirement already satisfied: langsmith<0.1.0,>=0.0.21 in c:\\users\\refar\\.conda\\envs\\es\\lib\\site-packages (from langchain) (0.0.33)\n",
      "Requirement already satisfied: numexpr<3.0.0,>=2.8.4 in c:\\users\\refar\\.conda\\envs\\es\\lib\\site-packages (from langchain) (2.8.5)\n",
      "Requirement already satisfied: numpy<2,>=1 in c:\\users\\refar\\.conda\\envs\\es\\lib\\site-packages (from langchain) (1.25.2)\n",
      "Requirement already satisfied: pydantic<3,>=1 in c:\\users\\refar\\.conda\\envs\\es\\lib\\site-packages (from langchain) (2.3.0)\n",
      "Requirement already satisfied: requests<3,>=2 in c:\\users\\refar\\.conda\\envs\\es\\lib\\site-packages (from langchain) (2.31.0)\n",
      "Requirement already satisfied: tenacity<9.0.0,>=8.1.0 in c:\\users\\refar\\.conda\\envs\\es\\lib\\site-packages (from langchain) (8.2.3)\n",
      "Requirement already satisfied: tqdm in c:\\users\\refar\\.conda\\envs\\es\\lib\\site-packages (from openai) (4.66.1)\n",
      "Requirement already satisfied: elastic-transport<9,>=8 in c:\\users\\refar\\.conda\\envs\\es\\lib\\site-packages (from elasticsearch) (8.4.0)\n",
      "Requirement already satisfied: regex>=2022.1.18 in c:\\users\\refar\\.conda\\envs\\es\\lib\\site-packages (from tiktoken) (2023.8.8)\n",
      "Requirement already satisfied: attrs>=17.3.0 in c:\\users\\refar\\.conda\\envs\\es\\lib\\site-packages (from aiohttp<4.0.0,>=3.8.3->langchain) (23.1.0)\n",
      "Requirement already satisfied: charset-normalizer<4.0,>=2.0 in c:\\users\\refar\\.conda\\envs\\es\\lib\\site-packages (from aiohttp<4.0.0,>=3.8.3->langchain) (3.2.0)\n",
      "Requirement already satisfied: multidict<7.0,>=4.5 in c:\\users\\refar\\.conda\\envs\\es\\lib\\site-packages (from aiohttp<4.0.0,>=3.8.3->langchain) (6.0.4)\n",
      "Requirement already satisfied: yarl<2.0,>=1.0 in c:\\users\\refar\\.conda\\envs\\es\\lib\\site-packages (from aiohttp<4.0.0,>=3.8.3->langchain) (1.9.2)\n",
      "Requirement already satisfied: frozenlist>=1.1.1 in c:\\users\\refar\\.conda\\envs\\es\\lib\\site-packages (from aiohttp<4.0.0,>=3.8.3->langchain) (1.4.0)\n",
      "Requirement already satisfied: aiosignal>=1.1.2 in c:\\users\\refar\\.conda\\envs\\es\\lib\\site-packages (from aiohttp<4.0.0,>=3.8.3->langchain) (1.3.1)\n",
      "Requirement already satisfied: marshmallow<4.0.0,>=3.18.0 in c:\\users\\refar\\.conda\\envs\\es\\lib\\site-packages (from dataclasses-json<0.6.0,>=0.5.7->langchain) (3.20.1)\n",
      "Requirement already satisfied: typing-inspect<1,>=0.4.0 in c:\\users\\refar\\.conda\\envs\\es\\lib\\site-packages (from dataclasses-json<0.6.0,>=0.5.7->langchain) (0.9.0)\n",
      "Requirement already satisfied: urllib3<2,>=1.26.2 in c:\\users\\refar\\.conda\\envs\\es\\lib\\site-packages (from elastic-transport<9,>=8->elasticsearch) (1.26.16)\n",
      "Requirement already satisfied: certifi in c:\\users\\refar\\.conda\\envs\\es\\lib\\site-packages (from elastic-transport<9,>=8->elasticsearch) (2023.7.22)\n",
      "Requirement already satisfied: annotated-types>=0.4.0 in c:\\users\\refar\\.conda\\envs\\es\\lib\\site-packages (from pydantic<3,>=1->langchain) (0.5.0)\n",
      "Requirement already satisfied: pydantic-core==2.6.3 in c:\\users\\refar\\.conda\\envs\\es\\lib\\site-packages (from pydantic<3,>=1->langchain) (2.6.3)\n",
      "Requirement already satisfied: typing-extensions>=4.6.1 in c:\\users\\refar\\.conda\\envs\\es\\lib\\site-packages (from pydantic<3,>=1->langchain) (4.7.1)\n",
      "Requirement already satisfied: idna<4,>=2.5 in c:\\users\\refar\\.conda\\envs\\es\\lib\\site-packages (from requests<3,>=2->langchain) (3.4)\n",
      "Requirement already satisfied: greenlet!=0.4.17 in c:\\users\\refar\\.conda\\envs\\es\\lib\\site-packages (from SQLAlchemy<3,>=1.4->langchain) (2.0.2)\n",
      "Requirement already satisfied: colorama in c:\\users\\refar\\.conda\\envs\\es\\lib\\site-packages (from tqdm->openai) (0.4.6)\n",
      "Requirement already satisfied: packaging>=17.0 in c:\\users\\refar\\.conda\\envs\\es\\lib\\site-packages (from marshmallow<4.0.0,>=3.18.0->dataclasses-json<0.6.0,>=0.5.7->langchain) (23.1)\n",
      "Requirement already satisfied: mypy-extensions>=0.3.0 in c:\\users\\refar\\.conda\\envs\\es\\lib\\site-packages (from typing-inspect<1,>=0.4.0->dataclasses-json<0.6.0,>=0.5.7->langchain) (1.0.0)\n",
      "Downloading langchain-0.0.285-py3-none-any.whl (1.7 MB)\n",
      "   ---------------------------------------- 0.0/1.7 MB ? eta -:--:--\n",
      "   ---------------------------------------- 0.0/1.7 MB ? eta -:--:--\n",
      "   ------ --------------------------------- 0.3/1.7 MB 3.2 MB/s eta 0:00:01\n",
      "   ------------------ --------------------- 0.8/1.7 MB 6.1 MB/s eta 0:00:01\n",
      "   ----------------------------- ---------- 1.2/1.7 MB 7.0 MB/s eta 0:00:01\n",
      "   ---------------------------------------  1.6/1.7 MB 8.1 MB/s eta 0:00:01\n",
      "   ---------------------------------------- 1.7/1.7 MB 7.5 MB/s eta 0:00:00\n",
      "Installing collected packages: langchain\n",
      "  Attempting uninstall: langchain\n",
      "    Found existing installation: langchain 0.0.281\n",
      "    Uninstalling langchain-0.0.281:\n",
      "      Successfully uninstalled langchain-0.0.281\n",
      "Successfully installed langchain-0.0.285\n",
      "Note: you may need to restart the kernel to use updated packages.\n"
     ]
    }
   ],
   "source": [
    "%pip install -U langchain openai elasticsearch tiktoken"
   ]
  },
  {
   "cell_type": "markdown",
   "metadata": {},
   "source": [
    "## Initialize clients 🔌\n",
    "\n",
    "다음으로 `getpass`를 사용하여 자격 증명을 입력합니다. `getpass`는 Python 표준 라이브러리의 일부이며 자격 증명을 안전하게 요청하는 데 사용됩니다."
   ]
  },
  {
   "cell_type": "code",
   "execution_count": 2,
   "metadata": {},
   "outputs": [],
   "source": [
    "from getpass import getpass\n",
    "\n",
    "ES_URL = input('Elasticsearch URL(ex:https://127.0.0.1:9200): ')\n",
    "ES_USER = \"elastic\" \n",
    "ES_USER_PASSWORD = getpass('elastic user PW: ')\n",
    "CERT_PATH = input('Elasticsearch pem 파일 경로: ')\n",
    "# pem 생성 방법: https://cdax.ch/2022/02/20/elasticsearch-python-workshop-1-the-basics/\n",
    "\n",
    "# set OpenAI API key\n",
    "OPENAI_API_KEY = getpass(\"OpenAI API key\")\n"
   ]
  },
  {
   "cell_type": "markdown",
   "metadata": {},
   "source": [
    "## Load and process documents 📄\n",
    "\n",
    "데이터를 로드할 시간입니다!   \n",
    "우리는 직원 문서 및 정책 목록인 직장 검색 예제 데이터를 사용할 것입니다.\n"
   ]
  },
  {
   "cell_type": "code",
   "execution_count": 3,
   "metadata": {},
   "outputs": [
    {
     "name": "stdout",
     "output_type": "stream",
     "text": [
      "Successfully loaded 15 documents\n"
     ]
    }
   ],
   "source": [
    "import json\n",
    "from urllib.request import urlopen\n",
    "import os\n",
    "\n",
    "cwd = os.getcwd()\n",
    "url = cwd + \"/data/workplace-docs.json\"\n",
    "response = open(url)\n",
    "\n",
    "workplace_docs = json.loads(response.read())\n",
    "\n",
    "print(f\"Successfully loaded {len(workplace_docs)} documents\")"
   ]
  },
  {
   "cell_type": "markdown",
   "metadata": {},
   "source": [
    "## Chunk documents into passages 🪓\n",
    "\n",
    "봇과 채팅하는 동안 봇은 관련 문서를 찾기 위해 인덱스에서 시멘틱 검색을 실행합니다.   \n",
    "이것이 정확하려면 전체 문서를 작은 청크(chunk) -구절(passage)이라고도 함-로 분할해야 합니다.   \n",
    "이런 방식으로 의미론적 검색은 문서 내에서 우리의 질문에 가장 답할 가능성이 높은 구절을 찾을 것입니다.\n",
    "\n",
    "우리는 LangChain의 `CharacterTextSplitter`를 사용하고 문서의 텍스트를 청크 사이에 약간 겹치도록 800자로 분할할 것입니다."
   ]
  },
  {
   "cell_type": "code",
   "execution_count": 5,
   "metadata": {},
   "outputs": [
    {
     "name": "stderr",
     "output_type": "stream",
     "text": [
      "Created a chunk of size 866, which is longer than the specified 800\n",
      "Created a chunk of size 1120, which is longer than the specified 800\n"
     ]
    },
    {
     "name": "stdout",
     "output_type": "stream",
     "text": [
      "Split 15 documents into 73 passages\n"
     ]
    }
   ],
   "source": [
    "from langchain.text_splitter import CharacterTextSplitter\n",
    "\n",
    "metadata = []\n",
    "content = []\n",
    "\n",
    "for doc in workplace_docs:\n",
    "    content.append(doc[\"content\"])\n",
    "    metadata.append({\n",
    "        \"name\": doc[\"name\"],\n",
    "        \"summary\": doc[\"summary\"]\n",
    "    })\n",
    "\n",
    "text_splitter = CharacterTextSplitter(\n",
    "    chunk_size=800,\n",
    "    chunk_overlap=400\n",
    ")\n",
    "docs = text_splitter.create_documents(content, metadatas=metadata)\n",
    "\n",
    "print(f\"Split {len(workplace_docs)} documents into {len(docs)} passages\")"
   ]
  },
  {
   "cell_type": "code",
   "execution_count": 6,
   "metadata": {},
   "outputs": [],
   "source": [
    "from elasticsearch import Elasticsearch\n",
    "\n",
    "client = Elasticsearch(\n",
    "    ES_URL,\n",
    "    basic_auth=(ES_USER, ES_USER_PASSWORD),\n",
    "    ca_certs=CERT_PATH\n",
    ")\n",
    "\n",
    "if client.indices.exists(index=\"workplace-docs\"):\n",
    "    client.indices.delete(index=\"workplace-docs\")"
   ]
  },
  {
   "cell_type": "markdown",
   "metadata": {},
   "source": [
    "임베딩을 생성하고 이를 사용하여 문서를 인덱싱해 보겠습니다.\n"
   ]
  },
  {
   "cell_type": "code",
   "execution_count": 8,
   "metadata": {},
   "outputs": [],
   "source": [
    "from langchain.vectorstores import ElasticsearchStore\n",
    "from langchain.embeddings import OpenAIEmbeddings\n",
    "\n",
    "embeddings = OpenAIEmbeddings(openai_api_key=OPENAI_API_KEY)\n",
    "\n",
    "vector_store = ElasticsearchStore.from_documents(\n",
    "    docs,\n",
    "    es_connection = client,\n",
    "    index_name=\"workplace-docs\",\n",
    "    embedding=embeddings\n",
    ")"
   ]
  },
  {
   "cell_type": "markdown",
   "metadata": {},
   "source": [
    "## Chat with the chatbot 💬\n",
    "\n",
    "챗봇을 초기화해 보겠습니다.   \n",
    "Elasticsearch를 문서 검색 및 채팅 세션 기록 저장을 위한 저장소로 정의하고,   \n",
    "OpenAI를 질문을 해석하고 답변을 요약하는 LLM으로 정의한 다음, 이를 대화 체인에 전달합니다."
   ]
  },
  {
   "cell_type": "code",
   "execution_count": 9,
   "metadata": {},
   "outputs": [],
   "source": [
    "from langchain.llms import OpenAI\n",
    "from langchain.chains import ConversationalRetrievalChain\n",
    "from lib.elasticsearch_chat_message_history import ElasticsearchChatMessageHistory\n",
    "from uuid import uuid4\n",
    "\n",
    "retriever = vector_store.as_retriever()\n",
    "\n",
    "llm = OpenAI(openai_api_key=OPENAI_API_KEY)\n",
    "\n",
    "chat = ConversationalRetrievalChain.from_llm(\n",
    "    llm=llm,\n",
    "    retriever=retriever,\n",
    "    return_source_documents=True\n",
    ")\n",
    "\n",
    "session_id = str(uuid4())\n",
    "chat_history = ElasticsearchChatMessageHistory(\n",
    "    client=vector_store.client,\n",
    "    session_id=session_id,\n",
    "    index=\"workplace-docs-chat-history\"\n",
    ")"
   ]
  },
  {
   "cell_type": "markdown",
   "metadata": {},
   "source": [
    "이제 챗봇에 질문을 할 수 있습니다!\n",
    "\n",
    "각 질문에 대한 컨텍스트로 채팅 기록이 어떻게 전달되는지 확인하세요."
   ]
  },
  {
   "cell_type": "code",
   "execution_count": 10,
   "metadata": {},
   "outputs": [
    {
     "name": "stdout",
     "output_type": "stream",
     "text": [
      "[CHAT SESSION ID] 1c916fcb-1e91-4208-8504-5f0d2b52ae7f\n",
      "[QUESTION] NASA는 무엇을 뜻하는가?\n",
      "[ANSWER]   NASA는 북미 남미 지역을 뜻하며, 북미는 라우라 마르티나스가 감독하고 남미는 게리 존슨이 감독하는 영역을 의미합니다.\n",
      "          [SUPPORTING DOCUMENTS] ['Sales Organization Overview', 'April Work From Home Update', 'Code Of Conduct', 'Intellectual Property Policy']\n",
      "[QUESTION] 어떤 국가가 속해 있나요?\n",
      "[ANSWER]   The Americas region includes the United States, Canada, Mexico, as well as Central and South America.\n",
      "          [SUPPORTING DOCUMENTS] ['Sales Organization Overview', 'Sales Organization Overview', 'Sales Organization Overview', 'Wfh Policy Update May 2023']\n",
      "[QUESTION] 팀의 리더는 누구인가?\n",
      "[ANSWER]   Laura Martinez is the Area Vice-President of North America, and Gary Johnson is the Area Vice-President of South America.\n",
      "          [SUPPORTING DOCUMENTS] ['Sales Organization Overview', 'Sales Organization Overview', 'Wfh Policy Update May 2023', 'April Work From Home Update']\n"
     ]
    }
   ],
   "source": [
    "# Define a convenience function for Q&A\n",
    "def ask(question, chat_history):\n",
    "    result = chat({\"question\": question, \"chat_history\": chat_history.messages})\n",
    "    print(f\"\"\"[QUESTION] {question}\n",
    "[ANSWER]  {result[\"answer\"]}\n",
    "          [SUPPORTING DOCUMENTS] {list(map(lambda d: d.metadata[\"name\"], list(result[\"source_documents\"])))}\"\"\")\n",
    "    chat_history.add_user_message(result[\"question\"])\n",
    "    chat_history.add_ai_message(result[\"answer\"])\n",
    "\n",
    "# Chat away!\n",
    "print(f\"[CHAT SESSION ID] {session_id}\")\n",
    "# ask(\"What does NASA stand for?\", chat_history)\n",
    "# ask(\"Which countries are part of it?\", chat_history)\n",
    "# ask(\"Who are the team's leads?\", chat_history)\n",
    "ask(\"NASA는 무엇을 뜻하는가?\", chat_history)\n",
    "ask(\"어떤 국가가 속해 있나요?\", chat_history)\n",
    "ask(\"팀의 리더는 누구인가?\", chat_history)"
   ]
  },
  {
   "cell_type": "markdown",
   "metadata": {},
   "source": [
    "💡 _Try experimenting with other questions or after clearing the workplace data, and observe how the responses change._\n"
   ]
  },
  {
   "cell_type": "markdown",
   "metadata": {},
   "source": [
    "# (Optional) Clean up 🧹\n",
    "\n",
    "완료되면 이 세션의 채팅 기록을 정리할 수 있습니다"
   ]
  },
  {
   "cell_type": "code",
   "execution_count": 11,
   "metadata": {},
   "outputs": [],
   "source": [
    "chat_history.clear()"
   ]
  },
  {
   "cell_type": "markdown",
   "metadata": {},
   "source": [
    "... or delete the indices.\n"
   ]
  },
  {
   "cell_type": "code",
   "execution_count": 12,
   "metadata": {},
   "outputs": [
    {
     "data": {
      "text/plain": [
       "ObjectApiResponse({'acknowledged': True})"
      ]
     },
     "execution_count": 12,
     "metadata": {},
     "output_type": "execute_result"
    },
    {
     "ename": "",
     "evalue": "",
     "output_type": "error",
     "traceback": [
      "\u001b[1;31m현재 셀 또는 이전 셀에서 코드를 실행하는 동안 Kernel이 충돌했습니다. 셀의 코드를 검토하여 오류의 가능한 원인을 식별하세요. 자세한 내용을 보려면 <a href='https://aka.ms/vscodeJupyterKernelCrash'> 여기 </a> 를 클릭하세요. 자세한 내용은 Jupyter <a href='command:jupyter.viewOutput'>로그</a>를 참조하세요."
     ]
    }
   ],
   "source": [
    "vector_store.client.indices.delete(index='workplace-docs')\n",
    "vector_store.client.indices.delete(index='workplace-docs-chat-history')"
   ]
  }
 ],
 "metadata": {
  "kernelspec": {
   "display_name": ".venv",
   "language": "python",
   "name": "python3"
  },
  "language_info": {
   "codemirror_mode": {
    "name": "ipython",
    "version": 3
   },
   "file_extension": ".py",
   "mimetype": "text/x-python",
   "name": "python",
   "nbconvert_exporter": "python",
   "pygments_lexer": "ipython3",
   "version": "3.10.12"
  },
  "orig_nbformat": 4
 },
 "nbformat": 4,
 "nbformat_minor": 2
}
