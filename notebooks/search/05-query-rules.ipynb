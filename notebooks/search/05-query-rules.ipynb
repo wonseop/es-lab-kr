{
 "cells": [
  {
   "cell_type": "markdown",
   "id": "87773ce7",
   "metadata": {
    "id": "87773ce7"
   },
   "source": [
    "# Search using query rules\n",
    "\n",
    "<a target=\"_blank\" href=\"https://colab.research.google.com/github/elastic/elasticsearch-labs/blob/main/notebooks/search/05-query-rules.ipynb\"><img src=\"https://colab.research.google.com/assets/colab-badge.svg\" alt=\"Open In Colab\"/></a>\n",
    "\n",
    "이 대화형 노트북은 공식 [Elasticsearch Python 클라이언트](https://www.elastic.co/guide/en/elasticsearch/client/python-api/current/connecting.html)를 사용하여 쿼리 규칙을 사용하는 방법을 소개합니다. [query rules API](https://www.elastic.co/guide/en/elasticsearch/reference/current/query-rules-apis.html)를 사용하여 Elasticsearch에 쿼리 규칙을 저장하고 [rule_query](https://www.elastic.co/guide/en/elasticsearch/reference/current/query-dsl-rule-query.html)를 사용하여 쿼리합니다."
   ]
  },
  {
   "cell_type": "markdown",
   "id": "a32202e2",
   "metadata": {
    "id": "a32202e2"
   },
   "source": [
    "## Elasticsearch/Kibana 실행\n",
    "\n",
    "먼저 Elasticsearch/Kibana를 실행하세요. 단, Elasticsearch 버전이 **8.10.0** 이상인지 확인하세요. 다른 모든 설정은 기본값으로 둡니다."
   ]
  },
  {
   "cell_type": "markdown",
   "id": "52a6a607",
   "metadata": {
    "id": "52a6a607"
   },
   "source": [
    "## 패키지 설치 및 모듈 가져오기\n",
    "\n",
    "시작하려면 Python 클라이언트를 사용하여 Elastic 배포에 연결해야 합니다.\n",
    "\n",
    "먼저 `elasticsearch` Python 클라이언트를 설치해야 합니다."
   ]
  },
  {
   "cell_type": "code",
   "execution_count": 1,
   "id": "ffc5fa6f",
   "metadata": {
    "id": "ffc5fa6f"
   },
   "outputs": [],
   "source": [
    "!pip install -qU elasticsearch"
   ]
  },
  {
   "cell_type": "markdown",
   "id": "0241694c",
   "metadata": {
    "id": "0241694c"
   },
   "source": [
    "## Elasticsearch 클라이언트 초기화\n",
    "\n",
    "이제 [Elasticsearch Python 클라이언트](https://www.elastic.co/guide/en/elasticsearch/client/python-api/current/index.html) 인스턴스를 생성합니다.   \n",
    "Eleasticsearch URL, 사용자 ID, 사용자 Password, 인증서 경로 정보가 필요하며, 인증서 경로는 (auto_install 시) `kibana.yml` 하단에 기재되어 있습니다.\n",
    "Elasticsearch에 로컬로 연결하는 방법에 대해  [자세히 알아보세요](https://www.elastic.co/guide/en/elasticsearch/client/python-api/current/connecting.html#_verifying_https_with_certificate_fingerprints_python_3_10_or_later)"
   ]
  },
  {
   "cell_type": "code",
   "execution_count": 2,
   "id": "f38e0397",
   "metadata": {
    "colab": {
     "base_uri": "https://localhost:8080/"
    },
    "id": "f38e0397",
    "outputId": "ad6df489-d242-4229-a42a-39c5ca19d124"
   },
   "outputs": [],
   "source": [
    "from elasticsearch import Elasticsearch\n",
    "from getpass import getpass\n",
    "\n",
    "ES_URL = input('Elasticsearch URL: ')\n",
    "ES_ID = \"elastic\" \n",
    "ES_PW = getpass('elastic user PW: ')\n",
    "CERT_PATH = input('Elasticsearch cer 파일 경로: ')\n",
    "\n",
    "# Create the client instance\n",
    "client = Elasticsearch(\n",
    "    ES_URL,\n",
    "    basic_auth=(ES_ID, ES_PW),\n",
    "    ca_certs=CERT_PATH\n",
    ")"
   ]
  },
  {
   "cell_type": "markdown",
   "id": "1462ebd8",
   "metadata": {
    "id": "1462ebd8"
   },
   "source": [
    "클라이언트가 이 테스트에 연결되었는지 확인합니다."
   ]
  },
  {
   "cell_type": "code",
   "execution_count": 3,
   "id": "25c618eb",
   "metadata": {
    "colab": {
     "base_uri": "https://localhost:8080/"
    },
    "id": "25c618eb",
    "outputId": "30a6ba5b-5109-4457-ddfe-5633a077ca9b"
   },
   "outputs": [
    {
     "name": "stdout",
     "output_type": "stream",
     "text": [
      "{'name': 'DESKTOP-2AKM6J7', 'cluster_name': 'elasticsearch', 'cluster_uuid': '5tEVK4EEQ0WPUotyTCvXYg', 'version': {'number': '8.11.1', 'build_flavor': 'default', 'build_type': 'zip', 'build_hash': '6f9ff581fbcde658e6f69d6ce03050f060d1fd0c', 'build_date': '2023-11-11T10:05:59.421038163Z', 'build_snapshot': False, 'lucene_version': '9.8.0', 'minimum_wire_compatibility_version': '7.17.0', 'minimum_index_compatibility_version': '7.0.0'}, 'tagline': 'You Know, for Search'}\n"
     ]
    }
   ],
   "source": [
    "print(client.info())"
   ]
  },
  {
   "cell_type": "markdown",
   "id": "61e1e6d8",
   "metadata": {
    "id": "61e1e6d8"
   },
   "source": [
    "## 일부 테스트 데이터 색인화\n",
    "\n",
    "클라이언트가 설정되어 Elastic 배포에 연결되었습니다.\n",
    "이제 Elasticsearch 쿼리의 기본 사항을 테스트하려면 일부 데이터가 필요합니다.\n",
    "다음 필드와 함께 작은 제품 색인을 사용합니다.:\n",
    "\n",
    "- `name`\n",
    "- `description`\n",
    "- `price`\n",
    "- `currency`\n",
    "- `plug_type`\n",
    "- `voltage`"
   ]
  },
  {
   "cell_type": "markdown",
   "id": "075f5eb6",
   "metadata": {
    "id": "075f5eb6"
   },
   "source": [
    "### 인덱스 테스트 데이터\n",
    "\n",
    "다음 명령어를 실행하여 일부 샘플 데이터를 업로드하세요."
   ]
  },
  {
   "cell_type": "code",
   "execution_count": 4,
   "id": "008d723e",
   "metadata": {
    "id": "008d723e"
   },
   "outputs": [
    {
     "data": {
      "text/plain": [
       "ObjectApiResponse({'errors': False, 'took': 2096, 'items': [{'index': {'_index': 'products_index', '_id': 'us1', '_version': 1, 'result': 'created', 'forced_refresh': True, '_shards': {'total': 2, 'successful': 1, 'failed': 0}, '_seq_no': 0, '_primary_term': 1, 'status': 201}}, {'index': {'_index': 'products_index', '_id': 'uk1', '_version': 1, 'result': 'created', 'forced_refresh': True, '_shards': {'total': 2, 'successful': 1, 'failed': 0}, '_seq_no': 1, '_primary_term': 1, 'status': 201}}, {'index': {'_index': 'products_index', '_id': 'eu1', '_version': 1, 'result': 'created', 'forced_refresh': True, '_shards': {'total': 2, 'successful': 1, 'failed': 0}, '_seq_no': 2, '_primary_term': 1, 'status': 201}}, {'index': {'_index': 'products_index', '_id': 'preview1', '_version': 1, 'result': 'created', 'forced_refresh': True, '_shards': {'total': 2, 'successful': 1, 'failed': 0}, '_seq_no': 3, '_primary_term': 1, 'status': 201}}]})"
      ]
     },
     "execution_count": 4,
     "metadata": {},
     "output_type": "execute_result"
    }
   ],
   "source": [
    "import json\n",
    "import os\n",
    "\n",
    "cwd = os.getcwd()\n",
    "url = cwd + \"/query-rules-data.json\"\n",
    "response = open(url)\n",
    "docs = json.loads(response.read())\n",
    "\n",
    "operations = []\n",
    "for doc in docs:\n",
    "    operations.append({\"index\": {\"_index\": \"products_index\", \"_id\": doc[\"id\"]}})\n",
    "    operations.append(doc[\"content\"])\n",
    "client.bulk(index=\"products_index\", operations=operations, refresh=True)"
   ]
  },
  {
   "cell_type": "markdown",
   "id": "985c9992",
   "metadata": {},
   "source": [
    "## 테스트 데이터 검색\n",
    "\n",
    "먼저, 신뢰할 수 있는 무선 충전기를 찾기 위해 데이터를 검색해 보겠습니다.\n",
    "\n",
    "데이터를 검색하기 전에 Elasticsearch의 원시 JSON 응답을 사람이 더 읽기 쉬운 형식으로 출력하는 몇 가지 편의 함수를 정의하겠습니다."
   ]
  },
  {
   "cell_type": "code",
   "execution_count": 5,
   "id": "54b40035",
   "metadata": {
    "source_hidden": true
   },
   "outputs": [],
   "source": [
    "def pretty_response(response):\n",
    "    if len(response['hits']['hits']) == 0:\n",
    "        print('Your search returned no results.')\n",
    "    else:\n",
    "        for hit in response['hits']['hits']:\n",
    "            id = hit['_id']\n",
    "            score = hit['_score']\n",
    "            name = hit['_source']['name']\n",
    "            description = hit['_source']['description']\n",
    "            price = hit[\"_source\"][\"price\"]\n",
    "            currency = hit[\"_source\"][\"currency\"]\n",
    "            plug_type = hit[\"_source\"][\"plug_type\"]\n",
    "            voltage = hit[\"_source\"][\"voltage\"]\n",
    "            pretty_output = (f\"\\nID: {id}\\nName: {name}\\nDescription: {description}\\nPrice: {price}\\nCurrency: {currency}\\nPlug type: {plug_type}\\nVoltage: {voltage}\\nScore: {score}\")\n",
    "            print(pretty_output)\n",
    "\n",
    "def pretty_ruleset(response):\n",
    "    print(\"Ruleset ID: \" + response['ruleset_id'])\n",
    "    for rule in response['rules']:\n",
    "        rule_id = rule['rule_id']\n",
    "        type = rule['type']\n",
    "        print(f\"\\nRule ID: {rule_id}\\n\\tType: {type}\\n\\tCriteria:\")\n",
    "        criteria = rule['criteria']\n",
    "        for rule_criteria in criteria:\n",
    "            criteria_type = rule_criteria['type']\n",
    "            metadata = rule_criteria['metadata']\n",
    "            values = rule_criteria['values']\n",
    "            print(f\"\\t\\t{metadata} {criteria_type} {values}\")\n",
    "        ids = rule['actions']['ids']\n",
    "        print(f\"\\tPinned ids: {ids}\")"
   ]
  },
  {
   "cell_type": "markdown",
   "id": "cdfa3ad0",
   "metadata": {},
   "source": [
    "다음으로 검색을 수행합니다:"
   ]
  },
  {
   "cell_type": "code",
   "execution_count": 6,
   "id": "ed5c572a",
   "metadata": {},
   "outputs": [
    {
     "name": "stdout",
     "output_type": "stream",
     "text": [
      "\n",
      "ID: eu1\n",
      "Name: PureJuice Pro - Wireless Charger suitable for European plugs\n",
      "Description: PureJuice Pro: Elevating wireless charging. Combining unparalleled charging speeds with elegant design, it promises both rapid and dependable energy for your devices. Embrace the future of wireless charging.\n",
      "Price: 18.0\n",
      "Currency: EUR\n",
      "Plug type: C\n",
      "Voltage: 230V\n",
      "Score: 14.5004\n",
      "\n",
      "ID: preview1\n",
      "Name: PureJuice Pro - Pre-order next version\n",
      "Description: Newest version of the PureJuice Pro wireless charger, coming soon! The newest model of the PureJuice Pro boasts a 2x faster charge than the current model, and a sturdier cable with an eighteen month full warranty. We also have a battery backup to charge on-the-go, up to two full charges. Pre-order yours today!\n",
      "Price: 36.0\n",
      "Currency: USD\n",
      "Plug type: ['B', 'C', 'G']\n",
      "Voltage: ['230V', '120V']\n",
      "Score: 1.0668641\n",
      "\n",
      "ID: us1\n",
      "Name: PureJuice Pro\n",
      "Description: PureJuice Pro: Experience the pinnacle of wireless charging. Blending rapid charging tech with sleek design, it ensures your devices are powered swiftly and safely. The future of charging is here.\n",
      "Price: 15.0\n",
      "Currency: USD\n",
      "Plug type: B\n",
      "Voltage: 120v\n",
      "Score: 0.11306982\n",
      "\n",
      "ID: uk1\n",
      "Name: PureJuice Pro - UK Compatible\n",
      "Description: PureJuice Pro: Redefining wireless charging. Seamlessly merging swift charging capabilities with a refined aesthetic, it guarantees your devices receive rapid and secure power. Welcome to the next generation of charging.\n",
      "Price: 20.0\n",
      "Currency: GBP\n",
      "Plug type: G\n",
      "Voltage: 230V\n",
      "Score: 0.11306982\n"
     ]
    }
   ],
   "source": [
    "response = client.search(index=\"products_index\", query={\n",
    "    \"multi_match\": {\n",
    "        \"query\": \"reliable wireless charger for iPhone\",\n",
    "        \"fields\": [ \"name^5\", \"description\" ]\n",
    "    }\n",
    "})\n",
    "\n",
    "pretty_response(response)"
   ]
  },
  {
   "cell_type": "markdown",
   "id": "fa1b4af1",
   "metadata": {},
   "source": [
    "응답에서 볼 수 있듯이 유럽의 결과가 1위를 차지했습니다. 예를 들어, 내 검색자가 플러그와 사양이 다른 미국이나 영국에서 온다는 것을 알고 있는 경우 이는 바람직하지 않을 수 있습니다.\n",
    "\n",
    "여기서 쿼리 규칙이 도움이 될 수 있습니다!"
   ]
  },
  {
   "cell_type": "markdown",
   "id": "39bdefe0",
   "metadata": {
    "id": "39bdefe0"
   },
   "source": [
    "## 규칙 만들기\n",
    "\n",
    "별도로 사용자가 어느 국가에서 왔는지 알고 있다고 가정해 보겠습니다(아마도 IP 주소 또는 로그인한 사용자 계정 정보의 지리적 위치). 이제 우리는 사람들이 `wireless charger(무선 충전기)`라는 문구가 포함된 항목을 검색할 때 해당 정보를 기반으로 무선 충전기를 강화하는 쿼리 규칙을 만들고 싶습니다."
   ]
  },
  {
   "cell_type": "code",
   "execution_count": 9,
   "id": "b109d45d",
   "metadata": {},
   "outputs": [
    {
     "data": {
      "text/plain": [
       "ObjectApiResponse({'result': 'updated'})"
      ]
     },
     "execution_count": 9,
     "metadata": {},
     "output_type": "execute_result"
    }
   ],
   "source": [
    "client.query_ruleset.put(ruleset_id=\"promotion-rules\", rules=[\n",
    "    {\n",
    "      \"rule_id\": \"us-charger\",\n",
    "      \"type\": \"pinned\",\n",
    "      \"criteria\": [\n",
    "        {\n",
    "          \"type\": \"contains\",\n",
    "          \"metadata\": \"my_query\",\n",
    "          \"values\": [\"wireless charger\"]\n",
    "        },\n",
    "        {\n",
    "          \"type\": \"exact\",\n",
    "          \"metadata\": \"country\",\n",
    "          \"values\": [\"us\"]\n",
    "        }\n",
    "      ],\n",
    "      \"actions\": {\n",
    "        \"ids\": [\n",
    "          \"us1\"\n",
    "        ]\n",
    "      }\n",
    "    },\n",
    "    {\n",
    "      \"rule_id\": \"uk-charger\",\n",
    "      \"type\": \"pinned\",\n",
    "      \"criteria\": [\n",
    "        {\n",
    "          \"type\": \"contains\",\n",
    "          \"metadata\": \"my_query\",\n",
    "          \"values\": [\"wireless charger\"]\n",
    "        },\n",
    "        {\n",
    "          \"type\": \"exact\",\n",
    "          \"metadata\": \"country\",\n",
    "          \"values\": [\"uk\"]\n",
    "        }\n",
    "      ],\n",
    "      \"actions\": {\n",
    "        \"ids\": [\n",
    "          \"uk1\"\n",
    "        ]\n",
    "      }\n",
    "    }\n",
    "  ])"
   ]
  },
  {
   "cell_type": "markdown",
   "id": "28ae167a",
   "metadata": {},
   "source": [
    "이러한 규칙이 일치하려면 다음 중 하나가 충족되어야 합니다.:\n",
    "\n",
    "- `my_query` 에는 \"wireless charger\"라는 문자열이 포함되어 있습니다. \" *AND* `country`는 \"us\"입니다.\n",
    "- `my_query` 에는 \"wireless charger\"라는 문자열이 포함되어 있습니다. \" *AND* `country`는 \"uk\"입니다.\n",
    "\n",
    "API를 사용하여 규칙 세트를 볼 수도 있습니다(가독성을 위해 또 다른 `pretty_ruleset` 함수 사용):"
   ]
  },
  {
   "cell_type": "code",
   "execution_count": 10,
   "id": "dcda4989",
   "metadata": {},
   "outputs": [
    {
     "name": "stdout",
     "output_type": "stream",
     "text": [
      "Ruleset ID: promotion-rules\n",
      "\n",
      "Rule ID: us-charger\n",
      "\tType: pinned\n",
      "\tCriteria:\n",
      "\t\tmy_query contains ['wireless charger']\n",
      "\t\tcountry exact ['us']\n",
      "\tPinned ids: ['us1']\n",
      "\n",
      "Rule ID: uk-charger\n",
      "\tType: pinned\n",
      "\tCriteria:\n",
      "\t\tmy_query contains ['wireless charger']\n",
      "\t\tcountry exact ['uk']\n",
      "\tPinned ids: ['uk1']\n"
     ]
    }
   ],
   "source": [
    "response = client.query_ruleset.get(ruleset_id=\"promotion-rules\")\n",
    "pretty_ruleset(response)"
   ]
  },
  {
   "cell_type": "markdown",
   "id": "6369c6fc",
   "metadata": {},
   "source": [
    "다음으로, rule_query를 사용하여 위와 동일한 organic query를 사용하지만 쿼리 규칙을 추가하여 검색을 수행합니다:"
   ]
  },
  {
   "cell_type": "code",
   "execution_count": 11,
   "id": "Df7hwcIjYwMT",
   "metadata": {
    "colab": {
     "base_uri": "https://localhost:8080/"
    },
    "id": "Df7hwcIjYwMT",
    "outputId": "e63884d7-d4a5-4f5d-ea43-fc2f0793f040"
   },
   "outputs": [
    {
     "name": "stdout",
     "output_type": "stream",
     "text": [
      "\n",
      "ID: us1\n",
      "Name: PureJuice Pro\n",
      "Description: PureJuice Pro: Experience the pinnacle of wireless charging. Blending rapid charging tech with sleek design, it ensures your devices are powered swiftly and safely. The future of charging is here.\n",
      "Price: 15.0\n",
      "Currency: USD\n",
      "Plug type: B\n",
      "Voltage: 120v\n",
      "Score: 1.7014122e+38\n",
      "\n",
      "ID: eu1\n",
      "Name: PureJuice Pro - Wireless Charger suitable for European plugs\n",
      "Description: PureJuice Pro: Elevating wireless charging. Combining unparalleled charging speeds with elegant design, it promises both rapid and dependable energy for your devices. Embrace the future of wireless charging.\n",
      "Price: 18.0\n",
      "Currency: EUR\n",
      "Plug type: C\n",
      "Voltage: 230V\n",
      "Score: 14.5004\n",
      "\n",
      "ID: preview1\n",
      "Name: PureJuice Pro - Pre-order next version\n",
      "Description: Newest version of the PureJuice Pro wireless charger, coming soon! The newest model of the PureJuice Pro boasts a 2x faster charge than the current model, and a sturdier cable with an eighteen month full warranty. We also have a battery backup to charge on-the-go, up to two full charges. Pre-order yours today!\n",
      "Price: 36.0\n",
      "Currency: USD\n",
      "Plug type: ['B', 'C', 'G']\n",
      "Voltage: ['230V', '120V']\n",
      "Score: 1.0668641\n",
      "\n",
      "ID: uk1\n",
      "Name: PureJuice Pro - UK Compatible\n",
      "Description: PureJuice Pro: Redefining wireless charging. Seamlessly merging swift charging capabilities with a refined aesthetic, it guarantees your devices receive rapid and secure power. Welcome to the next generation of charging.\n",
      "Price: 20.0\n",
      "Currency: GBP\n",
      "Plug type: G\n",
      "Voltage: 230V\n",
      "Score: 0.11306982\n"
     ]
    }
   ],
   "source": [
    "response = client.search(index=\"products_index\", query={\n",
    "      \"rule_query\": {\n",
    "          \"organic\": {\n",
    "              \"multi_match\": {\n",
    "                  \"query\": \"reliable wireless charger for iPhone\",\n",
    "                  \"fields\": [ \"name^5\", \"description\" ]\n",
    "              }\n",
    "          },\n",
    "          \"match_criteria\": {\n",
    "            \"my_query\": \"reliable wireless charger for iPhone\",\n",
    "            \"country\": \"us\"\n",
    "          },\n",
    "          \"ruleset_id\": \"promotion-rules\"\n",
    "      }\n",
    "})\n",
    "\n",
    "pretty_response(response)"
   ]
  },
  {
   "cell_type": "markdown",
   "id": "ac053cf3",
   "metadata": {},
   "source": [
    "규칙 쿼리는 먼저 표시하려는 문서를 향상시킵니다.\n",
    "\n",
    "규칙을 적용하려면 규칙의 모든 기준이 일치해야 합니다. 예를 들어 `country`를 'ca'로 업데이트하면 두 쿼리 규칙 모두 적용되지 않으며 수정되지 않은 organic 결과 set이 반환됩니다."
   ]
  },
  {
   "cell_type": "code",
   "execution_count": 12,
   "id": "f177d9fa",
   "metadata": {},
   "outputs": [
    {
     "name": "stdout",
     "output_type": "stream",
     "text": [
      "\n",
      "ID: eu1\n",
      "Name: PureJuice Pro - Wireless Charger suitable for European plugs\n",
      "Description: PureJuice Pro: Elevating wireless charging. Combining unparalleled charging speeds with elegant design, it promises both rapid and dependable energy for your devices. Embrace the future of wireless charging.\n",
      "Price: 18.0\n",
      "Currency: EUR\n",
      "Plug type: C\n",
      "Voltage: 230V\n",
      "Score: 14.5004\n",
      "\n",
      "ID: preview1\n",
      "Name: PureJuice Pro - Pre-order next version\n",
      "Description: Newest version of the PureJuice Pro wireless charger, coming soon! The newest model of the PureJuice Pro boasts a 2x faster charge than the current model, and a sturdier cable with an eighteen month full warranty. We also have a battery backup to charge on-the-go, up to two full charges. Pre-order yours today!\n",
      "Price: 36.0\n",
      "Currency: USD\n",
      "Plug type: ['B', 'C', 'G']\n",
      "Voltage: ['230V', '120V']\n",
      "Score: 1.0668641\n",
      "\n",
      "ID: us1\n",
      "Name: PureJuice Pro\n",
      "Description: PureJuice Pro: Experience the pinnacle of wireless charging. Blending rapid charging tech with sleek design, it ensures your devices are powered swiftly and safely. The future of charging is here.\n",
      "Price: 15.0\n",
      "Currency: USD\n",
      "Plug type: B\n",
      "Voltage: 120v\n",
      "Score: 0.11306982\n",
      "\n",
      "ID: uk1\n",
      "Name: PureJuice Pro - UK Compatible\n",
      "Description: PureJuice Pro: Redefining wireless charging. Seamlessly merging swift charging capabilities with a refined aesthetic, it guarantees your devices receive rapid and secure power. Welcome to the next generation of charging.\n",
      "Price: 20.0\n",
      "Currency: GBP\n",
      "Plug type: G\n",
      "Voltage: 230V\n",
      "Score: 0.11306982\n"
     ]
    }
   ],
   "source": [
    "response = client.search(index=\"products_index\", query={\n",
    "      \"rule_query\": {\n",
    "          \"organic\": {\n",
    "              \"multi_match\": {\n",
    "                  \"query\": \"reliable wireless charger for iPhone\",\n",
    "                  \"fields\": [ \"name^5\", \"description\" ]\n",
    "              }\n",
    "          },\n",
    "          \"match_criteria\": {\n",
    "            \"my_query\": \"reliable wireless charger for iPhone\",\n",
    "            \"country\": \"ca\"\n",
    "          },\n",
    "          \"ruleset_id\": \"promotion-rules\"\n",
    "      }\n",
    "})\n",
    "\n",
    "pretty_response(response)"
   ]
  },
  {
   "cell_type": "markdown",
   "id": "f6e18f42",
   "metadata": {},
   "source": [
    "단일 규칙 쿼리에 여러 규칙을 적용하는 것도 가능합니다. 최신 모델의 사전 주문 페이지에 프로모션 결과가 항상 고정되도록 규칙 세트를 업데이트해 보겠습니다.\n",
    "\n",
    "규칙은 순서대로 적용되므로 규칙 세트 시작 부분에 선주문 문서를 넣습니다."
   ]
  },
  {
   "cell_type": "code",
   "execution_count": 11,
   "id": "b78b5bda",
   "metadata": {},
   "outputs": [
    {
     "data": {
      "text/plain": [
       "ObjectApiResponse({'result': 'updated'})"
      ]
     },
     "execution_count": 11,
     "metadata": {},
     "output_type": "execute_result"
    }
   ],
   "source": [
    "client.query_ruleset.put(ruleset_id=\"promotion-rules\", rules=[\n",
    "    {\n",
    "      \"rule_id\": \"preorder\",\n",
    "      \"type\": \"pinned\",\n",
    "      \"criteria\": [\n",
    "        {\n",
    "          \"type\": \"always\"\n",
    "        }\n",
    "      ],\n",
    "      \"actions\": {\n",
    "        \"ids\": [\n",
    "          \"preview1\"\n",
    "        ]\n",
    "      }\n",
    "    },\n",
    "    {\n",
    "      \"rule_id\": \"us-charger\",\n",
    "      \"type\": \"pinned\",\n",
    "      \"criteria\": [\n",
    "        {\n",
    "          \"type\": \"contains\",\n",
    "          \"metadata\": \"my_query\",\n",
    "          \"values\": [\"wireless charger\"]\n",
    "        },\n",
    "        {\n",
    "          \"type\": \"exact\",\n",
    "          \"metadata\": \"country\",\n",
    "          \"values\": [\"us\"]\n",
    "        }\n",
    "      ],\n",
    "      \"actions\": {\n",
    "        \"ids\": [\n",
    "          \"us1\"\n",
    "        ]\n",
    "      }\n",
    "    },\n",
    "    {\n",
    "      \"rule_id\": \"uk-charger\",\n",
    "      \"type\": \"pinned\",\n",
    "      \"criteria\": [\n",
    "        {\n",
    "          \"type\": \"contains\",\n",
    "          \"metadata\": \"my_query\",\n",
    "          \"values\": [\"wireless charger\"]\n",
    "        },\n",
    "        {\n",
    "          \"type\": \"exact\",\n",
    "          \"metadata\": \"country\",\n",
    "          \"values\": [\"uk\"]\n",
    "        }\n",
    "      ],\n",
    "      \"actions\": {\n",
    "        \"ids\": [\n",
    "          \"uk1\"\n",
    "        ]\n",
    "      }\n",
    "    }\n",
    "  ])"
   ]
  },
  {
   "cell_type": "markdown",
   "id": "265501e6",
   "metadata": {},
   "source": [
    "이제 영국에서 검색하면 선주문 페이지가 먼저 고정되고, 영국 결과가 두 번째로 고정된 후 organic search 결과가 반환됩니다"
   ]
  },
  {
   "cell_type": "code",
   "execution_count": 12,
   "id": "b66993ed",
   "metadata": {},
   "outputs": [
    {
     "name": "stdout",
     "output_type": "stream",
     "text": [
      "\n",
      "ID: preview1\n",
      "Name: PureJuice Pro - Pre-order next version\n",
      "Description: Newest version of the PureJuice Pro wireless charger, coming soon! The newest model of the PureJuice Pro boasts a 2x faster charge than the current model, and a sturdier cable with an eighteen month full warranty. We also have a battery backup to charge on-the-go, up to two full charges. Pre-order yours today!\n",
      "Price: 36.0\n",
      "Currency: USD\n",
      "Plug type: ['B', 'C', 'G']\n",
      "Voltage: ['230V', '120V']\n",
      "Score: 1.7014124e+38\n",
      "\n",
      "ID: uk1\n",
      "Name: PureJuice Pro - UK Compatible\n",
      "Description: PureJuice Pro: Redefining wireless charging. Seamlessly merging swift charging capabilities with a refined aesthetic, it guarantees your devices receive rapid and secure power. Welcome to the next generation of charging.\n",
      "Price: 20.0\n",
      "Currency: GBP\n",
      "Plug type: G\n",
      "Voltage: 230V\n",
      "Score: 1.7014122e+38\n",
      "\n",
      "ID: eu1\n",
      "Name: PureJuice Pro - Wireless Charger suitable for European plugs\n",
      "Description: PureJuice Pro: Elevating wireless charging. Combining unparalleled charging speeds with elegant design, it promises both rapid and dependable energy for your devices. Embrace the future of wireless charging.\n",
      "Price: 18.0\n",
      "Currency: EUR\n",
      "Plug type: C\n",
      "Voltage: 230V\n",
      "Score: 14.5004\n",
      "\n",
      "ID: us1\n",
      "Name: PureJuice Pro\n",
      "Description: PureJuice Pro: Experience the pinnacle of wireless charging. Blending rapid charging tech with sleek design, it ensures your devices are powered swiftly and safely. The future of charging is here.\n",
      "Price: 15.0\n",
      "Currency: USD\n",
      "Plug type: B\n",
      "Voltage: 120v\n",
      "Score: 0.11306982\n"
     ]
    }
   ],
   "source": [
    "response = client.search(index=\"products_index\", query={\n",
    "      \"rule_query\": {\n",
    "          \"organic\": {\n",
    "              \"multi_match\": {\n",
    "                  \"query\": \"reliable wireless charger for iPhone\",\n",
    "                  \"fields\": [ \"name^5\", \"description\" ]\n",
    "              }\n",
    "          },\n",
    "          \"match_criteria\": {\n",
    "            \"my_query\": \"reliable wireless charger for iPhone\",\n",
    "            \"country\": \"uk\"\n",
    "          },\n",
    "          \"ruleset_id\": \"promotion-rules\"\n",
    "      }\n",
    "})\n",
    "\n",
    "pretty_response(response)"
   ]
  },
  {
   "cell_type": "markdown",
   "id": "7e216df3",
   "metadata": {},
   "source": [
    "These examples start to show the power of promoting documents based on contextual query metadata. For more information on how to get started using query rules, check out our [blog post](https://www.elastic.co/blog/introducing-query-rules-elasticsearch-8-10) and [search guide](https://www.elastic.co/guide/en/elasticsearch/reference/current/search-using-query-rules.html)."
   ]
  }
 ],
 "metadata": {
  "colab": {
   "provenance": []
  },
  "kernelspec": {
   "display_name": "Python 3 (ipykernel)",
   "language": "python",
   "name": "python3"
  },
  "language_info": {
   "codemirror_mode": {
    "name": "ipython",
    "version": 3
   },
   "file_extension": ".py",
   "mimetype": "text/x-python",
   "name": "python",
   "nbconvert_exporter": "python",
   "pygments_lexer": "ipython3",
   "version": "3.11.5"
  }
 },
 "nbformat": 4,
 "nbformat_minor": 5
}
