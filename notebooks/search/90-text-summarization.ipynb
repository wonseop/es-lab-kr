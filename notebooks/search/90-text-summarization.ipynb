{
 "cells": [
  {
   "cell_type": "markdown",
   "metadata": {},
   "source": [
    "# Text summarization\n"
   ]
  },
  {
   "cell_type": "code",
   "execution_count": 1,
   "metadata": {},
   "outputs": [
    {
     "name": "stdout",
     "output_type": "stream",
     "text": [
      "Requirement already satisfied: transformers in c:\\tools\\miniconda3\\envs\\vector\\lib\\site-packages (4.28.1)\n",
      "Requirement already satisfied: filelock in c:\\tools\\miniconda3\\envs\\vector\\lib\\site-packages (from transformers) (3.12.2)\n",
      "Requirement already satisfied: huggingface-hub<1.0,>=0.11.0 in c:\\tools\\miniconda3\\envs\\vector\\lib\\site-packages (from transformers) (0.16.4)\n",
      "Requirement already satisfied: numpy>=1.17 in c:\\tools\\miniconda3\\envs\\vector\\lib\\site-packages (from transformers) (1.23.5)\n",
      "Requirement already satisfied: packaging>=20.0 in c:\\tools\\miniconda3\\envs\\vector\\lib\\site-packages (from transformers) (23.1)\n",
      "Requirement already satisfied: pyyaml>=5.1 in c:\\tools\\miniconda3\\envs\\vector\\lib\\site-packages (from transformers) (6.0.1)\n",
      "Requirement already satisfied: regex!=2019.12.17 in c:\\tools\\miniconda3\\envs\\vector\\lib\\site-packages (from transformers) (2023.8.8)\n",
      "Requirement already satisfied: requests in c:\\tools\\miniconda3\\envs\\vector\\lib\\site-packages (from transformers) (2.31.0)\n",
      "Requirement already satisfied: tokenizers!=0.11.3,<0.14,>=0.11.1 in c:\\tools\\miniconda3\\envs\\vector\\lib\\site-packages (from transformers) (0.13.3)\n",
      "Requirement already satisfied: tqdm>=4.27 in c:\\tools\\miniconda3\\envs\\vector\\lib\\site-packages (from transformers) (4.66.1)\n",
      "Requirement already satisfied: fsspec in c:\\tools\\miniconda3\\envs\\vector\\lib\\site-packages (from huggingface-hub<1.0,>=0.11.0->transformers) (2023.6.0)\n",
      "Requirement already satisfied: typing-extensions>=3.7.4.3 in c:\\tools\\miniconda3\\envs\\vector\\lib\\site-packages (from huggingface-hub<1.0,>=0.11.0->transformers) (4.7.1)\n",
      "Requirement already satisfied: colorama in c:\\tools\\miniconda3\\envs\\vector\\lib\\site-packages (from tqdm>=4.27->transformers) (0.4.6)\n",
      "Requirement already satisfied: charset-normalizer<4,>=2 in c:\\tools\\miniconda3\\envs\\vector\\lib\\site-packages (from requests->transformers) (3.2.0)\n",
      "Requirement already satisfied: idna<4,>=2.5 in c:\\tools\\miniconda3\\envs\\vector\\lib\\site-packages (from requests->transformers) (3.4)\n",
      "Requirement already satisfied: urllib3<3,>=1.21.1 in c:\\tools\\miniconda3\\envs\\vector\\lib\\site-packages (from requests->transformers) (1.26.16)\n",
      "Requirement already satisfied: certifi>=2017.4.17 in c:\\tools\\miniconda3\\envs\\vector\\lib\\site-packages (from requests->transformers) (2023.7.22)\n",
      "Note: you may need to restart the kernel to use updated packages.\n"
     ]
    },
    {
     "name": "stderr",
     "output_type": "stream",
     "text": [
      "WARNING: Ignoring invalid distribution -rotobuf (c:\\tools\\miniconda3\\envs\\vector\\lib\\site-packages)\n",
      "WARNING: Ignoring invalid distribution -rotobuf (c:\\tools\\miniconda3\\envs\\vector\\lib\\site-packages)\n",
      "DEPRECATION: pytorch-lightning 1.6.1 has a non-standard dependency specifier torch>=1.8.*. pip 23.3 will enforce this behaviour change. A possible replacement is to upgrade to a newer version of pytorch-lightning or contact the author to suggest that they release a version with a conforming dependency specifiers. Discussion can be found at https://github.com/pypa/pip/issues/12063\n"
     ]
    }
   ],
   "source": [
    "%pip install transformers"
   ]
  },
  {
   "cell_type": "code",
   "execution_count": 2,
   "metadata": {},
   "outputs": [],
   "source": [
    "import os\n",
    "cwd = os.getcwd()\n",
    "\n",
    "try :\n",
    "    os.mkdir(cwd + \"/models\") \n",
    "except:\n",
    "    pass"
   ]
  },
  {
   "cell_type": "code",
   "execution_count": 3,
   "metadata": {},
   "outputs": [],
   "source": [
    "os.chdir(cwd + \"/models\")\n",
    "\n",
    "try :\n",
    "    os.system(\"git clone https://huggingface.co/lcw99/t5-base-korean-text-summary\")\n",
    "except:\n",
    "    print('이미 모델이 존재합니다.')\n",
    "\n",
    "os.chdir(cwd)"
   ]
  },
  {
   "cell_type": "code",
   "execution_count": 8,
   "metadata": {},
   "outputs": [],
   "source": [
    "from transformers import AutoTokenizer, AutoModelForSeq2SeqLM\n",
    "import torch\n",
    "\n",
    "device = 'cuda' if torch.cuda.is_available() else 'cpu'\n",
    "\n",
    "model_dir = cwd + \"/models/t5-base-korean-text-summary\"\n",
    "tokenizer = AutoTokenizer.from_pretrained(model_dir).to(device)\n",
    "model = AutoModelForSeq2SeqLM.from_pretrained(model_dir).to(device)"
   ]
  },
  {
   "cell_type": "code",
   "execution_count": 5,
   "metadata": {},
   "outputs": [],
   "source": [
    "text = \"\"\"\n",
    "“과거 최고경영자(CEO)들이 취임 직후 한 것처럼 몇 천명에 달하는 거대한 규모의 인위적인 구조조정은 올해 생각하지 않고 있습니다.”\n",
    "김영섭 신임 KT 대표이사가 7일 서울 중구 르메르디앙 서울 명동에서 가진 취임 후 첫 기자간담회에서 “현재 판단하기에 대규모 인위적 구조조정을 감행해야 하는 상황은 아니라고 생각한다”며 그동안 제기된 대대적인 인력 감축 가능성을 일축했다.\n",
    "KT그룹의 정기 인사는 11~12월쯤으로 예상되고 있다. 김 대표는 “작년에 못한 인사를 한꺼번에 해야 하는 상황”이라면서도 “빨리 했으면 좋겠지만 여러 사정이 있어 신중해야 한다고 생각한다”고 말했다.\n",
    "\"\"\"\n",
    "\n",
    "inputs = [\"summarize: \" + text]"
   ]
  },
  {
   "cell_type": "code",
   "execution_count": 6,
   "metadata": {},
   "outputs": [
    {
     "name": "stdout",
     "output_type": "stream",
     "text": [
      "김 KT 대표이사는 취임 후 기자간담회에서 대규모 인위적 구조조정을 감행해야 하는 상황은 아니라고 생각한다며 대대적인 인력 감축 가능성을 일축했다.\n"
     ]
    }
   ],
   "source": [
    "tokens = tokenizer(inputs, max_length=512, truncation=True, return_tensors=\"pt\")\n",
    "output = model.generate(**tokens, num_beams=8, do_sample=True, min_length=10, max_length=100)\n",
    "decoded_output = tokenizer.batch_decode(output, skip_special_tokens=True)[0]\n",
    "print(decoded_output)"
   ]
  }
 ],
 "metadata": {
  "kernelspec": {
   "display_name": "vector",
   "language": "python",
   "name": "python3"
  },
  "language_info": {
   "codemirror_mode": {
    "name": "ipython",
    "version": 3
   },
   "file_extension": ".py",
   "mimetype": "text/x-python",
   "name": "python",
   "nbconvert_exporter": "python",
   "pygments_lexer": "ipython3",
   "version": "3.10.12"
  },
  "orig_nbformat": 4
 },
 "nbformat": 4,
 "nbformat_minor": 2
}
