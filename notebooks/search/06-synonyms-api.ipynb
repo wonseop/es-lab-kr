{
  "cells": [
    {
      "cell_type": "markdown",
      "metadata": {
        "id": "87773ce7"
      },
      "source": [
        "# Synonyms API quick start\n",
        "\n",
        "<a target=\"_blank\" href=\"https://colab.research.google.com/github/elastic/elasticsearch-labs/blob/main/notebooks/search/06-synonyms-api.ipynb\"><img src=\"https://colab.research.google.com/assets/colab-badge.svg\" alt=\"Open In Colab\"/></a>\n",
        "\n",
        "이 대화형 노트북은 공식 [Elasticsearch Python client](https://www.elastic.co/guide/en/elasticsearch/client/python-api/current/connecting.html)를 사용하여 Synonyms API([blog post](https://www.elastic.co/blog/update-synonyms-elasticsearch-introducing-synonyms-api), [API documentation](https://www.elastic.co/guide/en/elasticsearch/reference/current/synonyms-apis.html))를 소개합니다. 동의어를 사용하면 유사한 의미를 가진 용어 간의 관계를 정의하여 검색 관련성을 높일 수 있습니다. 이 노트북에서는 동의어 집합을 생성 및 업데이트하고, 동의어를 사용하도록 인덱스를 구성하고, 관련성을 높이기 위해 동의어를 활용하는 쿼리를 실행합니다."
      ]
    },
    {
      "cell_type": "markdown",
      "metadata": {
        "id": "a32202e2"
      },
      "source": [
        "## Elasticsearch/Kibana 실행\n",
        "\n",
        "먼저 Elasticsearch/Kibana를 실행하세요."
      ]
    },
    {
      "cell_type": "markdown",
      "metadata": {
        "id": "52a6a607"
      },
      "source": [
        "## 패키지 설치 및 모듈 가져오기\n",
        "\n",
        "시작하려면 Python 클라이언트를 사용하여 Elastic 배포에 연결해야 합니다.\n",
        "\n",
        "먼저 `elasticsearch` Python 클라이언트를 설치해야 합니다."
      ]
    },
    {
      "cell_type": "code",
      "execution_count": 1,
      "metadata": {
        "colab": {
          "base_uri": "https://localhost:8080/"
        },
        "id": "ffc5fa6f",
        "outputId": "2afe8842-15be-4d34-9e0f-e4de7ffc7a13"
      },
      "outputs": [],
      "source": [
        "!pip install -qU elasticsearch"
      ]
    },
    {
      "cell_type": "markdown",
      "metadata": {
        "id": "0241694c"
      },
      "source": [
        "## Elasticsearch 클라이언트 초기화\n",
        "\n",
        "이제 [Elasticsearch Python 클라이언트](https://www.elastic.co/guide/en/elasticsearch/client/python-api/current/index.html) 인스턴스를 생성합니다.   \n",
        "Eleasticsearch URL, 사용자 ID, 사용자 Password, 인증서 경로 정보가 필요하며, 인증서 경로는 (auto_install 시) `kibana.yml` 하단에 기재되어 있습니다.\n",
        "Elasticsearch에 로컬로 연결하는 방법에 대해  [자세히 알아보세요](https://www.elastic.co/guide/en/elasticsearch/client/python-api/current/connecting.html#_verifying_https_with_certificate_fingerprints_python_3_10_or_later)"
      ]
    },
    {
      "cell_type": "code",
      "execution_count": 2,
      "metadata": {
        "colab": {
          "base_uri": "https://localhost:8080/"
        },
        "id": "f38e0397",
        "outputId": "33239952-fa18-46f0-b4ee-285b0b4054ee"
      },
      "outputs": [],
      "source": [
        "from elasticsearch import Elasticsearch\n",
        "from getpass import getpass\n",
        "\n",
        "ES_URL = input('Elasticsearch URL: ')\n",
        "ES_ID = \"elastic\" \n",
        "ES_PW = getpass('elastic user PW: ')\n",
        "CERT_PATH = input('Elasticsearch cer 파일 경로: ')\n",
        "\n",
        "# Create the client instance\n",
        "client = Elasticsearch(\n",
        "    ES_URL,\n",
        "    basic_auth=(ES_ID, ES_PW),\n",
        "    ca_certs=CERT_PATH\n",
        ")"
      ]
    },
    {
      "cell_type": "markdown",
      "metadata": {
        "id": "1462ebd8"
      },
      "source": [
        "클라이언트가 이 테스트에 연결되었는지 확인합니다."
      ]
    },
    {
      "cell_type": "code",
      "execution_count": 3,
      "metadata": {
        "colab": {
          "base_uri": "https://localhost:8080/"
        },
        "id": "25c618eb",
        "outputId": "9eb26926-d63e-478b-8aa1-8bdb2a5dfbd8"
      },
      "outputs": [
        {
          "name": "stdout",
          "output_type": "stream",
          "text": [
            "{'name': 'DESKTOP-2AKM6J7', 'cluster_name': 'elasticsearch', 'cluster_uuid': '5tEVK4EEQ0WPUotyTCvXYg', 'version': {'number': '8.11.1', 'build_flavor': 'default', 'build_type': 'zip', 'build_hash': '6f9ff581fbcde658e6f69d6ce03050f060d1fd0c', 'build_date': '2023-11-11T10:05:59.421038163Z', 'build_snapshot': False, 'lucene_version': '9.8.0', 'minimum_wire_compatibility_version': '7.17.0', 'minimum_index_compatibility_version': '7.0.0'}, 'tagline': 'You Know, for Search'}\n"
          ]
        }
      ],
      "source": [
        "print(client.info())"
      ]
    },
    {
      "cell_type": "markdown",
      "metadata": {
        "id": "_ROfAyq7CL60"
      },
      "source": [
        "## 일부 테스트 데이터 색인화\n",
        "\n",
        "클라이언트가 설정되어 Elastic 배포에 연결되었습니다.\n",
        "이제 Elasticsearch 쿼리의 기본 사항을 테스트하려면 일부 데이터가 필요합니다.\n",
        "다음 필드와 함께 작은 제품 색인을 사용합니다.:\n",
        "\n",
        "- `title`\n",
        "- `authors`\n",
        "- `publish_date`\n",
        "- `num_reviews`\n",
        "- `publisher`"
      ]
    },
    {
      "cell_type": "markdown",
      "metadata": {},
      "source": [
        "### 동의어 세트 만들기\n",
        "\n",
        "먼저 초기 동의어 세트를 만들어 보겠습니다."
      ]
    },
    {
      "cell_type": "code",
      "execution_count": 4,
      "metadata": {},
      "outputs": [
        {
          "data": {
            "text/plain": [
              "ObjectApiResponse({'result': 'created', 'reload_analyzers_details': {'_shards': {'total': 24, 'successful': 18, 'failed': 0}, 'reload_details': []}})"
            ]
          },
          "execution_count": 4,
          "metadata": {},
          "output_type": "execute_result"
        }
      ],
      "source": [
        "synonyms_set = [\n",
        "    {\n",
        "        \"id\": \"synonym-1\",\n",
        "        \"synonyms\": \"js, javascript, java script\"\n",
        "    }\n",
        "]\n",
        "\n",
        "client.synonyms.put_synonym(id=\"my-synonyms-set\", synonyms_set=synonyms_set)"
      ]
    },
    {
      "cell_type": "markdown",
      "metadata": {
        "id": "-phOM4SOFopW"
      },
      "source": [
        "### 인덱스 구성\n",
        "\n",
        "`book_index`라는 이름으로 이전에 생성된 색인이 없는지 확인하세요."
      ]
    },
    {
      "cell_type": "code",
      "execution_count": 5,
      "metadata": {
        "colab": {
          "base_uri": "https://localhost:8080/"
        },
        "id": "pIl2dCpJGu1R",
        "outputId": "294ae0c4-0cc0-45d8-ffd1-541115fdd31a"
      },
      "outputs": [
        {
          "data": {
            "text/plain": [
              "ObjectApiResponse({'acknowledged': True})"
            ]
          },
          "execution_count": 5,
          "metadata": {},
          "output_type": "execute_result"
        }
      ],
      "source": [
        "client.indices.delete(index=\"book_index\", ignore_unavailable=True)"
      ]
    },
    {
      "cell_type": "markdown",
      "metadata": {
        "id": "0fNVJ_JCHe04"
      },
      "source": [
        "🔐 참고: 언제든지 이 섹션으로 돌아와 위의 `삭제` 기능을 실행하여 색인을 제거하고 처음부터 시작할 수 있습니다."
      ]
    },
    {
      "cell_type": "markdown",
      "metadata": {
        "id": "IRMTg7siGykU"
      },
      "source": [
        "\n",
        "\n",
        "In order to use synonyms, we need to define a [custom analyzer](https://www.elastic.co/guide/en/elasticsearch/reference/current/analysis-custom-analyzer.html) that uses the [`synonym`](https://www.elastic.co/guide/en/elasticsearch/reference/current/analysis-synonym-tokenfilter.html) or [`synonym_graph`](https://www.elastic.co/guide/en/elasticsearch/reference/current/analysis-synonym-graph-tokenfilter.html) token filter. Let's create an index that's configured to use an appropriate custom analyzer.\n",
        "\n",
        "\n",
        "동의어를 사용하려면 [`synonym`](https://www.elastic.co/guide/en/elasticsearch/reference/current/analysis-synonym-tokenfilter.html) 또는 [`synonym_graph`](https://www.elastic.co/guide/en/elasticsearch/reference/current/analysis-synonym-graph-tokenfilter.html) 토큰 필터를 사용하는 [custom analyzer](https://www.elastic.co/guide/en/elasticsearch/reference/current/analysis-custom-analyzer.html) that uses the [`synonym`](https://www.elastic.co/guide/en/elasticsearch/reference/current/analysis-synonym-tokenfilter.html)를 정의해야 합니다. 적절한 custom analyzer를 사용하도록 구성된 인덱스를 만들어 보겠습니다."
      ]
    },
    {
      "cell_type": "code",
      "execution_count": 6,
      "metadata": {
        "colab": {
          "base_uri": "https://localhost:8080/"
        },
        "id": "4AXB9IR8JjCT",
        "outputId": "31d59878-88a8-4294-a727-0271d3890e1c"
      },
      "outputs": [
        {
          "data": {
            "text/plain": [
              "ObjectApiResponse({'acknowledged': True, 'shards_acknowledged': True, 'index': 'book_index'})"
            ]
          },
          "execution_count": 6,
          "metadata": {},
          "output_type": "execute_result"
        }
      ],
      "source": [
        "settings = {\n",
        "    \"analysis\": {\n",
        "        \"analyzer\": {\n",
        "            \"my_custom_index_analyzer\": {\n",
        "                \"tokenizer\": \"standard\",\n",
        "                \"filter\": [\n",
        "                    \"lowercase\"\n",
        "                ]\n",
        "            },\n",
        "            \"my_custom_search_analyzer\": {\n",
        "                \"tokenizer\": \"standard\",\n",
        "                \"filter\": [\n",
        "                    \"lowercase\",\n",
        "                    \"my_synonym_filter\"\n",
        "                ]\n",
        "            }\n",
        "        },\n",
        "        \"filter\": {\n",
        "            \"my_synonym_filter\": {\n",
        "                \"type\": \"synonym_graph\",\n",
        "                \"synonyms_set\": \"my-synonyms-set\",\n",
        "                \"updateable\": True\n",
        "            }\n",
        "        }\n",
        "    }\n",
        "}\n",
        "\n",
        "mappings = {\n",
        "    \"properties\": {\n",
        "        \"title\": {\n",
        "            \"type\": \"text\",\n",
        "            \"analyzer\": \"my_custom_index_analyzer\",\n",
        "            \"search_analyzer\": \"my_custom_search_analyzer\"\n",
        "        },\n",
        "        \"summary\": {\n",
        "            \"type\": \"text\",\n",
        "            \"analyzer\": \"my_custom_index_analyzer\",\n",
        "            \"search_analyzer\": \"my_custom_search_analyzer\"\n",
        "        }\n",
        "    }\n",
        "}\n",
        "\n",
        "client.indices.create(index='book_index', mappings=mappings, settings=settings)"
      ]
    },
    {
      "cell_type": "markdown",
      "metadata": {
        "id": "YYa3kdKvJtZW"
      },
      "source": [
        "구성에서 주의해야 할 몇 가지 사항이 있습니다.\n",
        "\n",
        "- 우리는 [`synonym_graph` token filter](https://www.elastic.co/guide/en/elasticsearch/reference/current/analysis-synonym-graph-tokenfilter.html)를 사용하고 있습니다.\n",
        "- `my_custom_index_analyzer`와 `my_custom_search_analyzer`라는 두 가지 분석기를 정의했습니다.` my_custom_search_analyzer`는 [search analyzer](https://www.elastic.co/guide/en/elasticsearch/reference/current/search-analyzer.html)로 사용됩니다.\n",
        "- `my_synonym_filter`는 `my_custom_search_analyzer`에서만 사용됩니다.\n",
        "\n",
        "Synony_graph 토큰 필터를 사용하면 여러 단어로 된 동의어를 사용할 수 있습니다. 그러나 이 필터는 검색 시에만 적용하는 것이 중요하므로 my_custom_search_analyzer에서만 사용합니다. 그리고 동의어는 검색 시에만 적용되므로 다시 색인화하지 않고도 업데이트할 수 있습니다.\n",
        "\n",
        "동의어 검색 시간에 대한 자세한 배경 정보는 [_The same, but different: Boosting the power of Elasticsearch with synonyms_](https://www.elastic.co/blog/boosting-the-power-of-elasticsearch-with-synonyms)를 참조하세요."
      ]
    },
    {
      "cell_type": "markdown",
      "metadata": {
        "id": "e6uvE1K9GeMm"
      },
      "source": [
        "## 인덱스 채우기\n",
        "\n",
        "다음 명령어를 실행하여 이 [dataset](https://raw.githubusercontent.com/elastic/elasticsearch-labs/main/notebooks/search/data.json)의 인기 프로그래밍 서적에 대한 정보가 포함된 일부 테스트 데이터를 업로드하세요."
      ]
    },
    {
      "cell_type": "code",
      "execution_count": 7,
      "metadata": {
        "colab": {
          "base_uri": "https://localhost:8080/"
        },
        "id": "qX2jo_TzVwqR",
        "outputId": "5a749972-a960-4218-b2df-58060dee265b"
      },
      "outputs": [
        {
          "data": {
            "text/plain": [
              "ObjectApiResponse({'errors': False, 'took': 748, 'items': [{'index': {'_index': 'book_index', '_id': 'WsiDe4wBPi0nl_xGRxHI', '_version': 1, 'result': 'created', 'forced_refresh': True, '_shards': {'total': 2, 'successful': 1, 'failed': 0}, '_seq_no': 0, '_primary_term': 1, 'status': 201}}, {'index': {'_index': 'book_index', '_id': 'W8iDe4wBPi0nl_xGRxHI', '_version': 1, 'result': 'created', 'forced_refresh': True, '_shards': {'total': 2, 'successful': 1, 'failed': 0}, '_seq_no': 1, '_primary_term': 1, 'status': 201}}, {'index': {'_index': 'book_index', '_id': 'XMiDe4wBPi0nl_xGRxHI', '_version': 1, 'result': 'created', 'forced_refresh': True, '_shards': {'total': 2, 'successful': 1, 'failed': 0}, '_seq_no': 2, '_primary_term': 1, 'status': 201}}, {'index': {'_index': 'book_index', '_id': 'XciDe4wBPi0nl_xGRxHI', '_version': 1, 'result': 'created', 'forced_refresh': True, '_shards': {'total': 2, 'successful': 1, 'failed': 0}, '_seq_no': 3, '_primary_term': 1, 'status': 201}}, {'index': {'_index': 'book_index', '_id': 'XsiDe4wBPi0nl_xGRxHI', '_version': 1, 'result': 'created', 'forced_refresh': True, '_shards': {'total': 2, 'successful': 1, 'failed': 0}, '_seq_no': 4, '_primary_term': 1, 'status': 201}}, {'index': {'_index': 'book_index', '_id': 'X8iDe4wBPi0nl_xGRxHI', '_version': 1, 'result': 'created', 'forced_refresh': True, '_shards': {'total': 2, 'successful': 1, 'failed': 0}, '_seq_no': 5, '_primary_term': 1, 'status': 201}}, {'index': {'_index': 'book_index', '_id': 'YMiDe4wBPi0nl_xGRxHI', '_version': 1, 'result': 'created', 'forced_refresh': True, '_shards': {'total': 2, 'successful': 1, 'failed': 0}, '_seq_no': 6, '_primary_term': 1, 'status': 201}}, {'index': {'_index': 'book_index', '_id': 'YciDe4wBPi0nl_xGRxHI', '_version': 1, 'result': 'created', 'forced_refresh': True, '_shards': {'total': 2, 'successful': 1, 'failed': 0}, '_seq_no': 7, '_primary_term': 1, 'status': 201}}, {'index': {'_index': 'book_index', '_id': 'YsiDe4wBPi0nl_xGRxHI', '_version': 1, 'result': 'created', 'forced_refresh': True, '_shards': {'total': 2, 'successful': 1, 'failed': 0}, '_seq_no': 8, '_primary_term': 1, 'status': 201}}, {'index': {'_index': 'book_index', '_id': 'Y8iDe4wBPi0nl_xGRxHI', '_version': 1, 'result': 'created', 'forced_refresh': True, '_shards': {'total': 2, 'successful': 1, 'failed': 0}, '_seq_no': 9, '_primary_term': 1, 'status': 201}}, {'index': {'_index': 'book_index', '_id': 'ZMiDe4wBPi0nl_xGRxHI', '_version': 1, 'result': 'created', 'forced_refresh': True, '_shards': {'total': 2, 'successful': 1, 'failed': 0}, '_seq_no': 10, '_primary_term': 1, 'status': 201}}]})"
            ]
          },
          "execution_count": 7,
          "metadata": {},
          "output_type": "execute_result"
        }
      ],
      "source": [
        "import json\n",
        "import os\n",
        "\n",
        "cwd = os.getcwd()\n",
        "url = cwd + \"/data.json\"\n",
        "response = open(url)\n",
        "books = json.loads(response.read())\n",
        "\n",
        "operations = []\n",
        "for book in books:\n",
        "    operations.append({\"index\": {\"_index\": \"book_index\"}})\n",
        "    operations.append(book)\n",
        "client.bulk(index=\"book_index\", operations=operations, refresh=True)"
      ]
    },
    {
      "cell_type": "markdown",
      "metadata": {
        "id": "50ghTAEYV4Yu"
      },
      "source": [
        "## 참고: Elasticsearch 검색 결과를 예쁘게 인쇄합니다.\n",
        "\n",
        "`search` API 호출은 읽기 어려운 중첩 JSON을 반환합니다.\n",
        "예제에서 사람이 읽을 수 있는 멋진 출력을 반환하기 위해 `pretty_search_response`라는 작은 함수를 만들겠습니다."
      ]
    },
    {
      "cell_type": "code",
      "execution_count": 8,
      "metadata": {
        "id": "e1HgqDC4V_HW"
      },
      "outputs": [],
      "source": [
        "def pretty_search_response(response):\n",
        "    if len(response['hits']['hits']) == 0:\n",
        "        print('Your search returned no results.')\n",
        "    else:\n",
        "        for hit in response['hits']['hits']:\n",
        "            id = hit['_id']\n",
        "            publication_date = hit['_source']['publish_date']\n",
        "            score = hit['_score']\n",
        "            title = hit['_source']['title']\n",
        "            summary = hit['_source']['summary']\n",
        "            publisher = hit[\"_source\"][\"publisher\"]\n",
        "            num_reviews = hit[\"_source\"][\"num_reviews\"]\n",
        "            authors = hit[\"_source\"][\"authors\"]\n",
        "            pretty_output = (f\"\\nID: {id}\\nPublication date: {publication_date}\\nTitle: {title}\\nSummary: {summary}\\nPublisher: {publisher}\\nReviews: {num_reviews}\\nAuthors: {authors}\\nScore: {score}\")\n",
        "            print(pretty_output)"
      ]
    },
    {
      "cell_type": "markdown",
      "metadata": {
        "id": "OGwvVLQMW6lA"
      },
      "source": [
        "## 쿼리 실행\n",
        "\n",
        "일부 Elasticsearch 쿼리에서 동의어를 사용해 보겠습니다. Javascript에 관한 책을 검색하는 것부터 시작하겠습니다."
      ]
    },
    {
      "cell_type": "code",
      "execution_count": 9,
      "metadata": {
        "colab": {
          "base_uri": "https://localhost:8080/"
        },
        "id": "KPvOrmTBYDet",
        "outputId": "8d9f3de5-2508-4ca0-91b1-ece5e6099bea"
      },
      "outputs": [
        {
          "name": "stdout",
          "output_type": "stream",
          "text": [
            "\n",
            "ID: YMiDe4wBPi0nl_xGRxHI\n",
            "Publication date: 2018-12-04\n",
            "Title: Eloquent JavaScript\n",
            "Summary: A modern introduction to programming\n",
            "Publisher: no starch press\n",
            "Reviews: 38\n",
            "Authors: ['marijn haverbeke']\n",
            "Score: 21.44283\n",
            "\n",
            "ID: X8iDe4wBPi0nl_xGRxHI\n",
            "Publication date: 2015-03-27\n",
            "Title: You Don't Know JS: Up & Going\n",
            "Summary: Introduction to JavaScript and programming as a whole\n",
            "Publisher: oreilly\n",
            "Reviews: 36\n",
            "Authors: ['kyle simpson']\n",
            "Score: 20.531933\n",
            "\n",
            "ID: Y8iDe4wBPi0nl_xGRxHI\n",
            "Publication date: 2008-05-15\n",
            "Title: JavaScript: The Good Parts\n",
            "Summary: A deep dive into the parts of JavaScript that are essential to writing maintainable code\n",
            "Publisher: oreilly\n",
            "Reviews: 51\n",
            "Authors: ['douglas crockford']\n",
            "Score: 17.985434\n"
          ]
        }
      ],
      "source": [
        "response = client.search(\n",
        "    index=\"book_index\",\n",
        "    query={\n",
        "        \"multi_match\": {\n",
        "            \"query\": \"java script\",\n",
        "            \"fields\": [\n",
        "                \"title^10\",\n",
        "                \"summary\",\n",
        "            ]\n",
        "        }\n",
        "    }\n",
        ")\n",
        "\n",
        "pretty_search_response(response)"
      ]
    },
    {
      "cell_type": "markdown",
      "metadata": {
        "id": "9KFJaht4Yxvh"
      },
      "source": [
        "\"java script\"라는 용어를 검색했지만 \"JS\" 및 \"JavaScript\"라는 용어가 포함된 결과를 얻었습니다. 우리의 동의어가 작동하고 있습니다!\n",
        "\n",
        "이제 AI에 관한 책을 검색해 보겠습니다."
      ]
    },
    {
      "cell_type": "code",
      "execution_count": 10,
      "metadata": {
        "colab": {
          "base_uri": "https://localhost:8080/"
        },
        "id": "oj1ynL5nZz0u",
        "outputId": "f1968d2c-83a5-4b3c-f397-44b16e7ab46e"
      },
      "outputs": [
        {
          "name": "stdout",
          "output_type": "stream",
          "text": [
            "Your search returned no results.\n"
          ]
        }
      ],
      "source": [
        "response = client.search(\n",
        "    index=\"book_index\",\n",
        "    query={\n",
        "        \"multi_match\": {\n",
        "            \"query\": \"AI\",\n",
        "            \"fields\": [\n",
        "                \"title^10\",\n",
        "                \"summary\",\n",
        "            ]\n",
        "        }\n",
        "    }\n",
        ")\n",
        "\n",
        "pretty_search_response(response)"
      ]
    },
    {
      "cell_type": "markdown",
      "metadata": {
        "id": "RtXj_JwyZ3DZ"
      },
      "source": [
        "결과가 없습니다! 'artificial intelligence'이라는 용어를 사용하지만 'AI'라는 용어는 사용하지 않는 책도 있습니다. 이전 쿼리가 결과를 반환하도록 Synonyms API를 사용하여 \"AI\"에 대한 새 동의어 규칙을 추가해 보겠습니다."
      ]
    },
    {
      "cell_type": "code",
      "execution_count": 11,
      "metadata": {
        "colab": {
          "base_uri": "https://localhost:8080/"
        },
        "id": "8sZ4nkpzgwMy",
        "outputId": "d425906a-3f6e-4dc2-89ed-ca6bbef70b0b"
      },
      "outputs": [
        {
          "data": {
            "text/plain": [
              "ObjectApiResponse({'result': 'created', 'reload_analyzers_details': {'_shards': {'total': 26, 'successful': 19, 'failed': 0}, 'reload_details': [{'index': 'book_index', 'reloaded_analyzers': ['my_custom_search_analyzer'], 'reloaded_node_ids': ['NPC20c3ORmO7ryEMjY7-OA']}]}})"
            ]
          },
          "execution_count": 11,
          "metadata": {},
          "output_type": "execute_result"
        }
      ],
      "source": [
        "client.synonyms.put_synonym_rule(set_id=\"my-synonyms-set\", rule_id=\"synonym-2\", synonyms=\"ai, artificial intelligence\")"
      ]
    },
    {
      "cell_type": "markdown",
      "metadata": {
        "id": "KFgKAma1hMT_"
      },
      "source": [
        "쿼리를 다시 실행하면 이제 몇 가지 결과를 얻을 수 있습니다."
      ]
    },
    {
      "cell_type": "code",
      "execution_count": 12,
      "metadata": {
        "colab": {
          "base_uri": "https://localhost:8080/"
        },
        "id": "KDx_V__QhIiy",
        "outputId": "6d23e7f1-e129-4ee7-edf7-8e55ba1d0355"
      },
      "outputs": [
        {
          "name": "stdout",
          "output_type": "stream",
          "text": [
            "\n",
            "ID: XciDe4wBPi0nl_xGRxHI\n",
            "Publication date: 2020-04-06\n",
            "Title: Artificial Intelligence: A Modern Approach\n",
            "Summary: Comprehensive introduction to the theory and practice of artificial intelligence\n",
            "Publisher: pearson\n",
            "Reviews: 39\n",
            "Authors: ['stuart russell', 'peter norvig']\n",
            "Score: 44.12741\n"
          ]
        }
      ],
      "source": [
        "response = client.search(\n",
        "    index=\"book_index\",\n",
        "    query={\n",
        "        \"multi_match\": {\n",
        "            \"query\": \"AI\",\n",
        "            \"fields\": [\n",
        "                \"title^10\",\n",
        "                \"summary\",\n",
        "            ]\n",
        "        }\n",
        "    }\n",
        ")\n",
        "\n",
        "pretty_search_response(response)"
      ]
    },
    {
      "cell_type": "markdown",
      "metadata": {},
      "source": [
        "## 결론\n",
        "\n",
        "동의어 API를 사용하면 검색 색인에 사용되는 동의어를 실시간으로 동적으로 생성 및 수정할 수 있습니다. 이 노트를 읽고 나면 Synonyms API를 검색 환경에 통합하는 데 필요한 모든 것을 갖추게 될 것입니다!"
      ]
    }
  ],
  "metadata": {
    "colab": {
      "provenance": []
    },
    "kernelspec": {
      "display_name": "Python 3",
      "name": "python3"
    },
    "language_info": {
      "codemirror_mode": {
        "name": "ipython",
        "version": 3
      },
      "file_extension": ".py",
      "mimetype": "text/x-python",
      "name": "python",
      "nbconvert_exporter": "python",
      "pygments_lexer": "ipython3",
      "version": "3.11.5"
    }
  },
  "nbformat": 4,
  "nbformat_minor": 0
}
