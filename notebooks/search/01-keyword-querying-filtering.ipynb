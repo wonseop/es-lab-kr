{
  "cells": [
    {
      "cell_type": "markdown",
      "metadata": {
        "id": "83LdOUCwwHzs"
      },
      "source": [
        "# Keyword querying and filtering\n",
        "\n",
        "<a target=\"_blank\" href=\"https://colab.research.google.com/github/elasticsearch-labs/blob/main/search/01-keyword-querying-filtering.ipynb\"><img src=\"https://colab.research.google.com/assets/colab-badge.svg\" alt=\"Open In Colab\"/></a>\n",
        "\n",
        "이 대화형 노트북은 공식 Elasticsearch Python 클라이언트를 사용하여 기본 Elasticsearch 쿼리를 소개합니다. 이 섹션을 시작하기 전에 [빠른 시작](https://github.com/elastic/elasticsearch-labs/blob/main/notebooks/search/00-quick-start.ipynb)을 통해 작업하는 것이 좋습니다."
      ]
    },
    {
      "cell_type": "markdown",
      "metadata": {},
      "source": [
        "# Install and import libraries"
      ]
    },
    {
      "cell_type": "code",
      "execution_count": null,
      "metadata": {},
      "outputs": [],
      "source": [
        "!pip install elasticsearch"
      ]
    },
    {
      "cell_type": "code",
      "execution_count": null,
      "metadata": {},
      "outputs": [],
      "source": [
        "\n",
        "from elasticsearch import Elasticsearch\n",
        "import pandas as pd\n"
      ]
    },
    {
      "cell_type": "markdown",
      "metadata": {},
      "source": [
        "# Create the client instance\n"
      ]
    },
    {
      "cell_type": "code",
      "execution_count": null,
      "metadata": {},
      "outputs": [],
      "source": [
        "from getpass import getpass\n",
        "\n",
        "ES_URL = getpass('Elasticsearch URL: ')\n",
        "ES_ID = \"elastic\" \n",
        "ES_PW = getpass('elastic user PW: ')\n",
        "CERT_PATH = getpass('Elasticsearch cer 파일 경로: ')\n",
        "\n",
        "# Create the client instance\n",
        "client = Elasticsearch(\n",
        "    ES_URL,\n",
        "    basic_auth=(ES_ID, ES_PW),\n",
        "    ca_certs=CERT_PATH\n",
        ")\n",
        "\n",
        "# Pretty print the response\n",
        "def pretty_response_transform(response):\n",
        "    result = []\n",
        "    for hit in response['hits']['hits']:\n",
        "        result.append({\n",
        "            'id' : hit['_id'],\n",
        "            'publication_date' : hit['_source']['publish_date'],\n",
        "            'score' : hit['_score'],\n",
        "            'title' : hit['_source']['title'],\n",
        "            'summary' : hit['_source']['summary']\n",
        "        })\n",
        "    return result"
      ]
    },
    {
      "cell_type": "markdown",
      "metadata": {
        "id": "22onltbgxxGm"
      },
      "source": [
        "## Querying\n",
        "\n",
        "쿼리 컨텍스트에서 쿼리 절은 \"이 문서가 이 쿼리 절과 얼마나 잘 일치합니까?\"라는 질문에 대답합니다. 문서가 일치하는지 여부를 결정하는 것 외에도 쿼리 절은 `_score` 메타데이터 필드에서 관련성 점수도 계산합니다.\n",
        "\n",
        "### Full text queries\n",
        "\n",
        "전체 텍스트 쿼리를 사용하면 이메일 본문과 같은 분석된 텍스트 필드를 검색할 수 있습니다. 쿼리 문자열은 인덱싱 중에 필드에 적용된 것과 동일한 분석기를 사용하여 처리됩니다.\n",
        "\n",
        "* **match**.   \n",
        "    퍼지 일치(fuzzy matching), 구문(phrase) 또는 근접(proximity) 쿼리를 포함하여 전체 텍스트 쿼리를 수행하기 위한 표준 쿼리입니다.\n",
        "* **multi-match**.   \n",
        "    match query의 다중 필드 버전입니다."
      ]
    },
    {
      "cell_type": "markdown",
      "metadata": {
        "id": "clXQwoFQ6x61"
      },
      "source": [
        "### Match query\n",
        "제공된 텍스트, 숫자, 날짜 또는 부울 값과 `match` 하는 문서를 반환합니다. 제공된 텍스트는 일치 전에 분석됩니다.\n",
        "\n",
        "`match` 쿼리는 유사 항목 일치 옵션을 포함하여 전체 텍스트 검색을 수행하기 위한 표준 쿼리입니다.\n",
        "\n",
        "[자세히 알아보기](https://www.elastic.co/guide/en/elasticsearch/reference/current/query-dsl-match-query.html#match-query-ex-request).\n"
      ]
    },
    {
      "cell_type": "code",
      "execution_count": null,
      "metadata": {
        "colab": {
          "base_uri": "https://localhost:8080/",
          "height": 197
        },
        "id": "q_OE0XVx6_qX",
        "outputId": "6a1d7760-5fb9-4809-e060-e35a398ed3c4"
      },
      "outputs": [],
      "source": [
        "response = client.search(index=\"book_index\", query={\n",
        "    \"match\": {\n",
        "        \"summary\": {\n",
        "            \"query\": \"guide\"\n",
        "            }\n",
        "        }\n",
        "    })\n",
        "\n",
        "pd.DataFrame.from_records(pretty_response_transform(response))"
      ]
    },
    {
      "cell_type": "markdown",
      "metadata": {
        "id": "H-n6hoVsfAqc"
      },
      "source": [
        "### Multi-match query\n",
        "\n",
        "`multi_match` 쿼리는 일치 쿼리를 기반으로 다중 필드 쿼리를 허용합니다.\n",
        "\n",
        "[Read more](https://www.elastic.co/guide/en/elasticsearch/reference/current/query-dsl-multi-match-query.html)."
      ]
    },
    {
      "cell_type": "code",
      "execution_count": null,
      "metadata": {
        "colab": {
          "base_uri": "https://localhost:8080/",
          "height": 154
        },
        "id": "TRmGYM94gCtb",
        "outputId": "dc58b19f-e585-4d0a-d065-ac3fc18ae123"
      },
      "outputs": [],
      "source": [
        "response = client.search(index=\"book_index\", query={\n",
        "    \"multi_match\": {\n",
        "        \"query\": \"javascript\",\n",
        "        \"fields\": [\"summary\", \"title\"]\n",
        "        }\n",
        "    })\n",
        "\n",
        "pd.DataFrame.from_records(pretty_response_transform(response))"
      ]
    },
    {
      "cell_type": "markdown",
      "metadata": {
        "id": "FnBeBIVKiPnS"
      },
      "source": [
        "캐럿(^) 표기법을 사용하여 개별 필드를 강화할 수 있습니다."
      ]
    },
    {
      "cell_type": "code",
      "execution_count": null,
      "metadata": {
        "colab": {
          "base_uri": "https://localhost:8080/",
          "height": 154
        },
        "id": "_aI7hnH0ixkG",
        "outputId": "2af27f3d-f9fd-4c7a-cab5-7cb06132582c"
      },
      "outputs": [],
      "source": [
        "response = client.search(index=\"book_index\", query={\n",
        "    \"multi_match\": {\n",
        "        \"query\": \"javascript\",\n",
        "        \"fields\": [\"summary\", \"title^3\"]\n",
        "        }\n",
        "    })\n",
        "\n",
        "pd.DataFrame.from_records(pretty_response_transform(response))"
      ]
    },
    {
      "cell_type": "markdown",
      "metadata": {
        "id": "yXipv0xSk-nK"
      },
      "source": [
        "### Prefix search\n",
        "\n",
        "제공된 필드에 특정 접두사가 포함된 문서를 반환합니다.\n",
        "\n",
        "[Read more](https://www.elastic.co/guide/en/elasticsearch/reference/current/query-dsl-prefix-query.html)"
      ]
    },
    {
      "cell_type": "code",
      "execution_count": null,
      "metadata": {
        "colab": {
          "base_uri": "https://localhost:8080/",
          "height": 133
        },
        "id": "dCr1pwlqlOE7",
        "outputId": "ae55cd66-0ded-4868-dac5-5815ea317c44"
      },
      "outputs": [],
      "source": [
        "response = client.search(index=\"book_index\", query={\n",
        "    \"prefix\": {\n",
        "        \"title\": {\n",
        "            \"value\": 'java'\n",
        "            }\n",
        "        }\n",
        "    })\n",
        "\n",
        "pd.DataFrame.from_records(pretty_response_transform(response))"
      ]
    },
    {
      "cell_type": "markdown",
      "metadata": {
        "id": "a606YcCmmLHW"
      },
      "source": [
        "### Fuzzy search\n",
        "\n",
        "Levenshtein 편집 거리로 측정된 검색어와 유사한 용어가 포함된 문서를 반환합니다.\n",
        "\n",
        "편집 거리는 한 용어를 다른 용어로 바꾸는 데 필요한 한 문자 변경 횟수입니다. 이러한 변경 사항에는 다음이 포함될 수 있습니다.\n",
        "\n",
        "* 캐릭터 변경 (box → fox)\n",
        "* 캐릭터 삭제 (black → lack)\n",
        "* 문자 삽입 (sic → sick)\n",
        "* 인접한 두 문자 바꾸기 (act → cat)\n",
        "\n",
        "[Read more](https://www.elastic.co/guide/en/elasticsearch/reference/current/query-dsl-fuzzy-query.html)\n",
        "\n"
      ]
    },
    {
      "cell_type": "code",
      "execution_count": null,
      "metadata": {
        "colab": {
          "base_uri": "https://localhost:8080/",
          "height": 133
        },
        "id": "dTMc-IxPmbtC",
        "outputId": "9acf74fd-bc16-45df-80f3-49504860b10a"
      },
      "outputs": [],
      "source": [
        "response = client.search(index=\"book_index\", query={\n",
        "    \"fuzzy\": {\n",
        "        \"title\": {\n",
        "            \"value\": 'pyvascript'\n",
        "            }\n",
        "        }\n",
        "    })\n",
        "\n",
        "pd.DataFrame.from_records(pretty_response_transform(response))"
      ]
    },
    {
      "cell_type": "markdown",
      "metadata": {
        "id": "PG9TYqL-8H29"
      },
      "source": [
        "## Filtering\n",
        "\n",
        "필터 컨텍스트에서 쿼리 절은 *\"이 문서가 이 쿼리 절과 일치합니까?\"*라는 질문에 대답합니다. 대답은 간단하게 예 또는 아니요 입니다. — 점수는 계산되지 않습니다. 필터 컨텍스트는 구조화된 데이터를 필터링하는 데 주로 사용됩니다. 예를 들면 다음과 같습니다.\n",
        "* 이 `timestamp`는 2015년부터 2016년까지의 범위에 속합니까?\n",
        "* `status` 필드가 `\"published\"`으로 설정되어 있나요?\n",
        "\n",
        "필터 컨텍스트는 `bool` 쿼리의 `filter` 또는 `must_not` 매개변수와 같은 `filter` 매개변수에 쿼리 절이 전달될 때마다 적용됩니다.\n",
        "\n",
        "[Read more](https://www.elastic.co/guide/en/elasticsearch/reference/current/query-dsl-bool-query.html)"
      ]
    },
    {
      "cell_type": "markdown",
      "metadata": {
        "id": "7do0lmxA_v25"
      },
      "source": [
        "### **bool.must**\n",
        "\n",
        "절(쿼리)은 일치하는 문서에 나타나야 하며 점수에 영향을 미칩니다."
      ]
    },
    {
      "cell_type": "code",
      "execution_count": null,
      "metadata": {
        "colab": {
          "base_uri": "https://localhost:8080/",
          "height": 111
        },
        "id": "8_C-JHRQFDl7",
        "outputId": "be59d18b-5e20-4db0-8697-2e7746251742"
      },
      "outputs": [],
      "source": [
        "response = client.search(index=\"book_index\", query={\n",
        "    \"bool\": {\n",
        "        \"must\": [{\n",
        "            \"term\": {\n",
        "                \"summary\": \"guide\"\n",
        "                }\n",
        "            }, {\n",
        "            \"term\": {\n",
        "                \"summary\": \"code\"\n",
        "                }\n",
        "            }]\n",
        "        }\n",
        "    })\n",
        "\n",
        "pd.DataFrame.from_records(pretty_response_transform(response))"
      ]
    },
    {
      "cell_type": "markdown",
      "metadata": {
        "id": "eNlncytRIl9h"
      },
      "source": [
        "### **bool.should**\n",
        "\n",
        "해당 절(쿼리)이 일치하는 문서에 나타나야 합니다."
      ]
    },
    {
      "cell_type": "code",
      "execution_count": null,
      "metadata": {
        "colab": {
          "base_uri": "https://localhost:8080/",
          "height": 219
        },
        "id": "GRm9T1vfIsmF",
        "outputId": "d9fb6936-3ffb-4fff-9467-1f7ac7b41490"
      },
      "outputs": [],
      "source": [
        "response = client.search(index=\"book_index\", query={\n",
        "    \"bool\": {\n",
        "        \"should\": [{\n",
        "            \"term\": {\n",
        "                \"summary\": \"guide\"\n",
        "                }\n",
        "            }, {\n",
        "              \"term\": {\n",
        "                  \"summary\": \"code\"\n",
        "                  }\n",
        "            }]\n",
        "        }\n",
        "    })\n",
        "\n",
        "pd.DataFrame.from_records(pretty_response_transform(response))"
      ]
    },
    {
      "cell_type": "markdown",
      "metadata": {
        "id": "PGTFXUIkJG4t"
      },
      "source": [
        "### **bool.filter**\n",
        "\n",
        "절(쿼리)은 일치하는 문서에 나타나야 합니다. **그러나 `must`와 달리 쿼리의 `score`는 무시됩니다.** 필터 절은 필터 컨텍스트에서 실행됩니다. 즉, 점수가 무시되고 절이 캐싱 대상으로 고려됩니다."
      ]
    },
    {
      "cell_type": "code",
      "execution_count": null,
      "metadata": {
        "colab": {
          "base_uri": "https://localhost:8080/",
          "height": 197
        },
        "id": "6RH0OALLJPHv",
        "outputId": "338419b0-3e60-4ac9-ddeb-67cac6202ca2"
      },
      "outputs": [],
      "source": [
        "response = client.search(index=\"book_index\", query={\n",
        "    \"bool\": {\n",
        "        \"filter\": [{\n",
        "            \"term\": {\n",
        "                \"summary\": \"guide\"\n",
        "                }\n",
        "            }]\n",
        "        }\n",
        "    })\n",
        "\n",
        "pd.DataFrame.from_records(pretty_response_transform(response))"
      ]
    }
  ],
  "metadata": {
    "colab": {
      "provenance": []
    },
    "kernelspec": {
      "display_name": "Python 3",
      "name": "python3"
    },
    "language_info": {
      "codemirror_mode": {
        "name": "ipython",
        "version": 3
      },
      "file_extension": ".py",
      "mimetype": "text/x-python",
      "name": "python",
      "nbconvert_exporter": "python",
      "pygments_lexer": "ipython3",
      "version": "3.10.12"
    }
  },
  "nbformat": 4,
  "nbformat_minor": 0
}
