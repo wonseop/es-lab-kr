{
  "cells": [
    {
      "cell_type": "markdown",
      "id": "87773ce7",
      "metadata": {
        "id": "87773ce7"
      },
      "source": [
        "# 시맨틱 검색(Semantic search) quick start\n",
        "\n",
        "<a target=\"_blank\" href=\"https://colab.research.google.com/github/elastic/elasticsearch-labs/blob/main/notebooks/search/00-quick-start.ipynb\"><img src=\"https://colab.research.google.com/assets/colab-badge.svg\" alt=\"Open In Colab\"/></a>\n",
        "\n",
        "이 대화형 노트북은 공식 [Elasticsearch Python 클라이언트](https://www.elastic.co/guide/en/elasticsearch/client/python-api/current/connecting.html)를 사용하여 Elasticsearch의 몇 가지 기본 작업을 소개합니다.\n",
        "텍스트 임베딩을 위해 [Sentence Transformers](https://www.sbert.net)를 사용하여 시맨틱 검색을 수행합니다. 하이브리드 검색 시스템을 위해 기존 텍스트 기반 검색을 시맨틱 검색과 통합하는 방법을 알아보세요."
      ]
    },
    {
      "cell_type": "markdown",
      "id": "a32202e2",
      "metadata": {
        "id": "a32202e2"
      },
      "source": [
        "## Elasticsearch/Kibana 실행\n",
        "\n",
        "먼저 Elasticsearch/Kibana를 실행하세요."
      ]
    },
    {
      "cell_type": "markdown",
      "id": "52a6a607",
      "metadata": {
        "id": "52a6a607"
      },
      "source": [
        "## Install packages and import modules\n",
        "\n",
        "시작하려면 Python 클라이언트를 사용하여 Elastic 배포에 연결해야 합니다.\n",
        "\n",
        "먼저 `elasticsearch` Python 클라이언트를 설치해야 합니다."
      ]
    },
    {
      "cell_type": "code",
      "execution_count": null,
      "id": "ffc5fa6f",
      "metadata": {
        "id": "ffc5fa6f",
        "scrolled": false
      },
      "outputs": [],
      "source": [
        "!pip install -qU elasticsearch sentence-transformers==2.2.2"
      ]
    },
    {
      "cell_type": "markdown",
      "id": "28AH8LhI-0UD",
      "metadata": {
        "id": "28AH8LhI-0UD"
      },
      "source": [
        "# Setup the Embedding Model\n",
        "\n",
        "이 예에서는 `sentence_transformers` 라이브러리의 일부인 `paraphrase-multilingual-MiniLM-L12-v2`를 사용하고 있습니다. 이 모델에 대한 자세한 내용은 [Huggingface](https://huggingface.co/sentence-transformers/paraphrase-multilingual-MiniLM-L12-v2)에서 읽어보실 수 있습니다."
      ]
    },
    {
      "cell_type": "code",
      "execution_count": null,
      "id": "f0d0b4ad",
      "metadata": {},
      "outputs": [],
      "source": [
        "import os\n",
        "cwd = os.getcwd()\n",
        "\n",
        "try :\n",
        "    os.mkdir(cwd + \"/models\") \n",
        "except:\n",
        "    print('해당 경로가 이미 존재합니다.')"
      ]
    },
    {
      "cell_type": "code",
      "execution_count": null,
      "id": "37cc925b",
      "metadata": {},
      "outputs": [],
      "source": [
        "os.chdir(cwd + \"/models\")\n",
        "\n",
        "try :\n",
        "    os.system(\"git clone https://huggingface.co/sentence-transformers/paraphrase-multilingual-MiniLM-L12-v2\")\n",
        "except:\n",
        "    print('해당 경로가 이미 존재합니다.')\n",
        "\n",
        "os.chdir(cwd)"
      ]
    },
    {
      "cell_type": "code",
      "execution_count": null,
      "id": "WHC3hHGW-wbI",
      "metadata": {
        "id": "WHC3hHGW-wbI"
      },
      "outputs": [],
      "source": [
        "from sentence_transformers import SentenceTransformer\n",
        "import torch\n",
        "\n",
        "device = 'cuda' if torch.cuda.is_available() else 'cpu'\n",
        "\n",
        "model = SentenceTransformer(cwd + '/models/paraphrase-multilingual-MiniLM-L12-v2', device=device)\n",
        "model"
      ]
    },
    {
      "cell_type": "markdown",
      "id": "0241694c",
      "metadata": {
        "id": "0241694c"
      },
      "source": [
        "## Elasticsearch 클라이언트 초기화\n",
        "\n",
        "이제 [Elasticsearch Python 클라이언트](https://www.elastic.co/guide/en/elasticsearch/client/python-api/current/index.html) 인스턴스를 생성합니다.   \n",
        "Eleasticsearch URL, 사용자 ID, 사용자 Password, 인증서 경로 정보가 필요하며, 인증서 경로는 (auto_install 시) `kibana.yml` 하단에 기재되어 있습니다.\n",
        "Elasticsearch에 로컬로 연결하는 방법에 대해  [자세히 알아보세요](https://www.elastic.co/guide/en/elasticsearch/client/python-api/current/connecting.html#_verifying_https_with_certificate_fingerprints_python_3_10_or_later)"
      ]
    },
    {
      "cell_type": "code",
      "execution_count": null,
      "id": "f38e0397",
      "metadata": {
        "colab": {
          "base_uri": "https://localhost:8080/"
        },
        "id": "f38e0397",
        "outputId": "ad6df489-d242-4229-a42a-39c5ca19d124"
      },
      "outputs": [],
      "source": [
        "from elasticsearch import Elasticsearch\n",
        "from getpass import getpass\n",
        "\n",
        "ES_URL = getpass('Elasticsearch URL: ')\n",
        "ES_ID = \"elastic\" \n",
        "ES_PW = getpass('elastic user PW: ')\n",
        "CERT_PATH = getpass('Elasticsearch cer 파일 경로: ')\n",
        "\n",
        "# Create the client instance\n",
        "client = Elasticsearch(\n",
        "    ES_URL,\n",
        "    basic_auth=(ES_ID, ES_PW),\n",
        "    ca_certs=CERT_PATH\n",
        ")"
      ]
    },
    {
      "cell_type": "markdown",
      "id": "1462ebd8",
      "metadata": {
        "id": "1462ebd8"
      },
      "source": [
        "클라이언트가 이 테스트에 연결되었는지 확인합니다."
      ]
    },
    {
      "cell_type": "code",
      "execution_count": null,
      "id": "25c618eb",
      "metadata": {
        "colab": {
          "base_uri": "https://localhost:8080/"
        },
        "id": "25c618eb",
        "outputId": "30a6ba5b-5109-4457-ddfe-5633a077ca9b"
      },
      "outputs": [],
      "source": [
        "print(client.info())"
      ]
    },
    {
      "cell_type": "code",
      "execution_count": null,
      "id": "79f35376",
      "metadata": {},
      "outputs": [],
      "source": [
        "if client.indices.exists(index=\"book_index\"):\n",
        "    client.indices.delete(index=\"book_index\")"
      ]
    },
    {
      "cell_type": "markdown",
      "id": "61e1e6d8",
      "metadata": {
        "id": "61e1e6d8"
      },
      "source": [
        "## Index some test data\n",
        "\n",
        "클라이언트가 설정되어 Elastic 배포에 연결되었습니다.\n",
        "이제 Elasticsearch 쿼리의 기본 사항을 테스트하려면 일부 데이터가 필요합니다.\n",
        "다음 필드가 포함된 작은 도서 색인을 사용하겠습니다.\n",
        "\n",
        "- `title`\n",
        "- `authors`\n",
        "- `publish_date`\n",
        "- `num_reviews`\n",
        "- `publisher`\n",
        "\n",
        "### Create index\n",
        "\n",
        "테스트 데이터에 대한 올바른 매핑을 사용하여 Elasticsearch 인덱스를 생성해 보겠습니다."
      ]
    },
    {
      "cell_type": "code",
      "execution_count": null,
      "id": "6bc95238",
      "metadata": {
        "id": "6bc95238"
      },
      "outputs": [],
      "source": [
        "# Create the index\n",
        "client.indices.create(index='book_index', mappings = {\n",
        "    \"properties\": {\n",
        "        \"title_vector\": {\n",
        "            \"type\": \"dense_vector\",\n",
        "            \"dims\": 384,\n",
        "            \"index\": \"true\",\n",
        "            \"similarity\": \"cosine\"\n",
        "        }\n",
        "    }\n",
        "})\n"
      ]
    },
    {
      "cell_type": "markdown",
      "id": "075f5eb6",
      "metadata": {
        "id": "075f5eb6"
      },
      "source": [
        "### Index test data\n",
        "\n",
        "다음 명령을 실행하여 이 [데이터 세트](https://raw.githubusercontent.com/elastic/elasticsearch-labs/main/notebooks/search/data.json)의 인기 프로그래밍 서적 10권에 대한 정보가 포함된 일부 테스트 데이터를 업로드하십시오. ).\n",
        "`model.encode`는 이전에 초기화한 모델을 사용하여 텍스트를 즉시 벡터로 인코딩합니다."
      ]
    },
    {
      "cell_type": "code",
      "execution_count": null,
      "id": "008d723e",
      "metadata": {
        "id": "008d723e"
      },
      "outputs": [],
      "source": [
        "import json\n",
        "from urllib.request import urlopen\n",
        "import os\n",
        "\n",
        "cwd = os.getcwd()\n",
        "url = cwd + \"/data.json\"\n",
        "response = open(url)\n",
        "books = json.load(response)\n",
        "\n",
        "actions = []\n",
        "for book in books:\n",
        "    actions.append({\"index\": {\"_index\": \"book_index\"}})\n",
        "    # Transforming the title into an embedding using the model\n",
        "    book[\"title_vector\"] = model.encode(book[\"title\"]).tolist()\n",
        "    actions.append(book)\n",
        "client.bulk(index=\"book_index\", operations=actions)\n"
      ]
    },
    {
      "cell_type": "markdown",
      "id": "cd8b03e0",
      "metadata": {
        "id": "cd8b03e0"
      },
      "source": [
        "## 참고: Elasticsearch 응답을 예쁘게 인쇄합니다.\n",
        "\n",
        "API 호출은 읽기 어려운 중첩 JSON을 반환합니다.\n",
        "예제에서 사람이 읽을 수 있는 멋진 출력을 반환하기 위해 `pretty_response`라는 작은 함수를 만들겠습니다."
      ]
    },
    {
      "cell_type": "code",
      "execution_count": null,
      "id": "f12ce2c9",
      "metadata": {
        "id": "f12ce2c9"
      },
      "outputs": [],
      "source": [
        "def pretty_response(response):\n",
        "    for hit in response['hits']['hits']:\n",
        "        id = hit['_id']\n",
        "        publication_date = hit['_source']['publish_date']\n",
        "        score = hit['_score']\n",
        "        title = hit['_source']['title']\n",
        "        summary = hit['_source']['summary']\n",
        "        publisher = hit[\"_source\"][\"publisher\"]\n",
        "        num_reviews = hit[\"_source\"][\"num_reviews\"]\n",
        "        authors = hit[\"_source\"][\"authors\"]\n",
        "        pretty_output = (f\"\\nID: {id}\\nPublication date: {publication_date}\\nTitle: {title}\\nSummary: {summary}\\nPublisher: {publisher}\\nReviews: {num_reviews}\\nAuthors: {authors}\\nScore: {score}\")\n",
        "        print(pretty_output)"
      ]
    },
    {
      "cell_type": "markdown",
      "id": "39bdefe0",
      "metadata": {
        "id": "39bdefe0"
      },
      "source": [
        "## Making queries\n",
        "\n",
        "이제 책의 색인을 생성했으므로 주어진 쿼리와 유사한 책에 대한 시맨틱 검색을 수행하려고 합니다.\n",
        "쿼리를 삽입하고 검색을 수행합니다."
      ]
    },
    {
      "cell_type": "code",
      "execution_count": null,
      "id": "Df7hwcIjYwMT",
      "metadata": {
        "colab": {
          "base_uri": "https://localhost:8080/"
        },
        "id": "Df7hwcIjYwMT",
        "outputId": "e63884d7-d4a5-4f5d-ea43-fc2f0793f040"
      },
      "outputs": [],
      "source": [
        "response = client.search(index=\"book_index\",\n",
        "    knn= {\n",
        "      \"field\": \"title_vector\",\n",
        "      \"query_vector\": model.encode(\"가장 좋은 실용주의 프로그래밍 책\"),\n",
        "      \"k\": 3,\n",
        "      \"num_candidates\": 100\n",
        "    }\n",
        ")\n",
        "\n",
        "pretty_response(response)"
      ]
    },
    {
      "cell_type": "markdown",
      "id": "LdJCpbQMeml5",
      "metadata": {
        "id": "LdJCpbQMeml5"
      },
      "source": [
        "## Filtering\n",
        "\n",
        "필터 컨텍스트는 주로 구조화된 데이터를 필터링하는 데 사용됩니다. 예를 들어 필터 컨텍스트를 사용하여 다음과 같은 질문에 답할 수 있습니다.\n",
        "\n",
        "- _이 타임스탬프가 2015년에서 2016년 범위에 속합니까?_\n",
        "- _상태 필드가 '게시됨'으로 설정되어 있나요?_\n",
        "\n",
        "필터 컨텍스트는 'bool' 쿼리의 'filter' 또는 'must_not' 매개변수와 같은 필터 매개변수에 쿼리 절이 전달될 때마다 적용됩니다.\n",
        "\n",
        "Elasticsearch 문서의 필터 컨텍스트에 대해 [자세히 알아보세요](https://www.elastic.co/guide/en/elasticsearch/reference/current/query-filter-context.html#filter-context)."
      ]
    },
    {
      "cell_type": "markdown",
      "id": "dRSrPMyFf7w7",
      "metadata": {
        "id": "dRSrPMyFf7w7"
      },
      "source": [
        "### Example: Keyword Filtering\n",
        "\n",
        "쿼리에 키워드 필터를 추가하는 예시입니다.\n",
        "\n",
        "\"publisher\" 필드가 \"addison\"와 동일한 문서만 포함하여 결과의 ​​범위를 좁힙니다.\n",
        "\n",
        "코드는 \"가장 좋은 실용주의 프로그래밍 책?\"와 유사한 인기 도서를 검색합니다. 제목 벡터를 기반으로 하며 게시자로 \"addison\"를 지정합니다."
      ]
    },
    {
      "cell_type": "code",
      "execution_count": null,
      "id": "WoE0yTchfj3A",
      "metadata": {
        "id": "WoE0yTchfj3A"
      },
      "outputs": [],
      "source": [
        "response = client.search(index=\"book_index\", knn= {\n",
        "    \"field\": \"title_vector\",\n",
        "    \"query_vector\": model.encode(\"가장 좋은 실용주의 프로그래밍 책?\"),\n",
        "    \"k\": 3,\n",
        "    \"num_candidates\": 100,\n",
        "    \"filter\": {\n",
        "        \"bool\": {\n",
        "            \"should\": [{\n",
        "                \"term\": {\n",
        "                    \"publisher\": \"addison\"\n",
        "                }\n",
        "            }]\n",
        "        }\n",
        "    }\n",
        "})\n",
        "\n",
        "pretty_response(response)"
      ]
    },
    {
      "cell_type": "markdown",
      "id": "YY2SrWDtgnF3",
      "metadata": {
        "id": "YY2SrWDtgnF3"
      },
      "source": [
        "### Example: Advanced Filtering\n",
        "\n",
        "Elasticsearch의 고급 필터링을 사용하면 조건을 적용하여 정확한 검색 결과를 구체화할 수 있습니다.\n",
        "다양한 연산자를 지원하며 특정 필드, 범위 또는 조건을 기반으로 결과를 필터링하는 데 사용할 수 있어 검색 결과의 정확성과 관련성을 높일 수 있습니다.\n",
        "이 [쿼리 및 필터 컨텍스트 예시](https://www.elastic.co/guide/en/elasticsearch/reference/current/query-filter-context.html#query-filter-context-ex)에서 자세히 알아보세요."
      ]
    },
    {
      "cell_type": "code",
      "execution_count": null,
      "id": "fcDfiJC9g6AX",
      "metadata": {
        "colab": {
          "base_uri": "https://localhost:8080/"
        },
        "id": "fcDfiJC9g6AX",
        "outputId": "0909515a-5b94-4863-94c6-e67015baeadf"
      },
      "outputs": [],
      "source": [
        "response = client.search(index=\"book_index\", knn = {\n",
        "    \"field\": \"title_vector\",\n",
        "    \"query_vector\": model.encode(\"가장 좋은 실용주의 프로그래밍 책?\"),\n",
        "    \"k\": 10,\n",
        "    \"num_candidates\": 100,\n",
        "    \"filter\": {\n",
        "        \"bool\": {\n",
        "            \"should\": [\n",
        "                {\n",
        "                  \"term\": {\n",
        "                      \"publisher\": \"addison\"\n",
        "                  }\n",
        "                },\n",
        "                {\n",
        "                  \"term\": {\n",
        "                      \"authors\": \"david\"\n",
        "                  }\n",
        "                }\n",
        "            ],\n",
        "\n",
        "        }\n",
        "    }\n",
        "  }\n",
        ")\n",
        "\n",
        "pretty_response(response)"
      ]
    },
    {
      "cell_type": "markdown",
      "id": "IUMOK8h-iYrq",
      "metadata": {
        "id": "IUMOK8h-iYrq"
      },
      "source": [
        "## Hybrid Search\n",
        "\n",
        "이 사례에서는 텍스트 검색을 위한 BM25와 최근접 이웃 검색을 위한 HNSW라는 두 가지 검색 알고리즘의 조합을 조사합니다. BM25와 조밀한 벡터 임베딩을 생성하는 ML 모델과 같은 여러 순위 방법을 결합하면 최상의 순위 결과를 얻을 수 있습니다. 이 접근 방식을 통해 각 알고리즘의 장점을 활용하고 전반적인 검색 성능을 향상시킬 수 있습니다.\n",
        "\n",
        "[Reciprocal Rank Fusion(RRF)](https://www.elastic.co/guide/en/elasticsearch/reference/current/rrf.html)은 다양한 정보 검색 전략 결과를 결합하기 위한 최첨단 순위 알고리즘입니다.\n",
        "RRF는 보정 없이도 다른 모든 순위 알고리즘보다 성능이 뛰어납니다.\n",
        "간단히 말해서, 즉시 사용 가능한 최고의 하이브리드 검색이 가능합니다."
      ]
    },
    {
      "cell_type": "code",
      "execution_count": null,
      "id": "1BwZ-yjli7xA",
      "metadata": {
        "colab": {
          "base_uri": "https://localhost:8080/"
        },
        "id": "1BwZ-yjli7xA",
        "outputId": "26eea86c-5cda-42d0-ba1e-2904e2b7865a"
      },
      "outputs": [],
      "source": [
        "response = client.search(index=\"book_index\",\n",
        "    query= {\n",
        "        \"match\": {\n",
        "            \"summary\": \"python\"\n",
        "        },\n",
        "    },\n",
        "    knn = {\n",
        "        \"field\": \"title_vector\",\n",
        "        # generate embedding for query so it can be compared to `title_vector`\n",
        "        \"query_vector\" : model.encode(\"python 프로그래밍 방법론\").tolist(),\n",
        "        \"k\": 5,\n",
        "        \"num_candidates\": 10\n",
        "    },\n",
        "    rank = {\n",
        "        \"rrf\": {\n",
        "            \"window_size\": 100,\n",
        "            \"rank_constant\": 20\n",
        "        }\n",
        "    }\n",
        ")\n",
        "\n",
        "pretty_response(response)"
      ]
    }
  ],
  "metadata": {
    "colab": {
      "provenance": []
    },
    "kernelspec": {
      "display_name": "Python 3 (ipykernel)",
      "language": "python",
      "name": "python3"
    },
    "language_info": {
      "codemirror_mode": {
        "name": "ipython",
        "version": 3
      },
      "file_extension": ".py",
      "mimetype": "text/x-python",
      "name": "python",
      "nbconvert_exporter": "python",
      "pygments_lexer": "ipython3",
      "version": "3.10.12"
    }
  },
  "nbformat": 4,
  "nbformat_minor": 5
}
