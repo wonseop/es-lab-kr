{
 "cells": [
  {
   "cell_type": "markdown",
   "metadata": {},
   "source": [
    "# RAG using local models\n",
    "\n",
    "\n",
    "\n",
    "https://python.langchain.com/docs/use_cases/question_answering/local_retrieval_qa"
   ]
  },
  {
   "cell_type": "code",
   "execution_count": 1,
   "metadata": {},
   "outputs": [
    {
     "name": "stdout",
     "output_type": "stream",
     "text": [
      "Requirement already satisfied: bs4 in c:\\users\\refar\\appdata\\roaming\\python\\python310\\site-packages (0.0.1)\n",
      "Requirement already satisfied: langchain in c:\\users\\refar\\.conda\\envs\\es\\lib\\site-packages (0.0.285)\n",
      "Requirement already satisfied: fake_useragent in c:\\users\\refar\\.conda\\envs\\es\\lib\\site-packages (1.3.0)\n",
      "Requirement already satisfied: elasticsearch in c:\\users\\refar\\.conda\\envs\\es\\lib\\site-packages (8.9.0)\n",
      "Requirement already satisfied: eland[pytorch]==8.10.1 in c:\\users\\refar\\appdata\\roaming\\python\\python310\\site-packages (8.10.1)\n",
      "Requirement already satisfied: pandas<2,>=1.5 in c:\\users\\refar\\appdata\\roaming\\python\\python310\\site-packages (from eland[pytorch]==8.10.1) (1.5.3)\n",
      "Requirement already satisfied: matplotlib>=3.6 in c:\\users\\refar\\.conda\\envs\\es\\lib\\site-packages (from eland[pytorch]==8.10.1) (3.7.2)\n",
      "Requirement already satisfied: numpy<1.24,>=1.2.0 in c:\\users\\refar\\.conda\\envs\\es\\lib\\site-packages (from eland[pytorch]==8.10.1) (1.23.5)\n",
      "Requirement already satisfied: packaging in c:\\users\\refar\\.conda\\envs\\es\\lib\\site-packages (from eland[pytorch]==8.10.1) (23.1)\n",
      "Requirement already satisfied: torch<2.0,>=1.13.1 in c:\\users\\refar\\.conda\\envs\\es\\lib\\site-packages (from eland[pytorch]==8.10.1) (1.13.1)\n",
      "Requirement already satisfied: sentence-transformers<=2.2.2,>=2.1.0 in c:\\users\\refar\\.conda\\envs\\es\\lib\\site-packages (from eland[pytorch]==8.10.1) (2.2.2)\n",
      "Requirement already satisfied: transformers[torch]<=4.33.2,>=4.31.0 in c:\\users\\refar\\.conda\\envs\\es\\lib\\site-packages (from eland[pytorch]==8.10.1) (4.32.0)\n",
      "Requirement already satisfied: beautifulsoup4 in c:\\users\\refar\\appdata\\roaming\\python\\python310\\site-packages (from bs4) (4.12.2)\n",
      "Requirement already satisfied: PyYAML>=5.3 in c:\\users\\refar\\.conda\\envs\\es\\lib\\site-packages (from langchain) (6.0.1)\n",
      "Requirement already satisfied: SQLAlchemy<3,>=1.4 in c:\\users\\refar\\.conda\\envs\\es\\lib\\site-packages (from langchain) (2.0.20)\n",
      "Requirement already satisfied: aiohttp<4.0.0,>=3.8.3 in c:\\users\\refar\\.conda\\envs\\es\\lib\\site-packages (from langchain) (3.8.5)\n",
      "Requirement already satisfied: async-timeout<5.0.0,>=4.0.0 in c:\\users\\refar\\.conda\\envs\\es\\lib\\site-packages (from langchain) (4.0.3)\n",
      "Requirement already satisfied: dataclasses-json<0.6.0,>=0.5.7 in c:\\users\\refar\\.conda\\envs\\es\\lib\\site-packages (from langchain) (0.5.14)\n",
      "Requirement already satisfied: langsmith<0.1.0,>=0.0.21 in c:\\users\\refar\\.conda\\envs\\es\\lib\\site-packages (from langchain) (0.0.33)\n",
      "Requirement already satisfied: numexpr<3.0.0,>=2.8.4 in c:\\users\\refar\\.conda\\envs\\es\\lib\\site-packages (from langchain) (2.8.5)\n",
      "Requirement already satisfied: pydantic<3,>=1 in c:\\users\\refar\\.conda\\envs\\es\\lib\\site-packages (from langchain) (2.3.0)\n",
      "Requirement already satisfied: requests<3,>=2 in c:\\users\\refar\\.conda\\envs\\es\\lib\\site-packages (from langchain) (2.31.0)\n",
      "Requirement already satisfied: tenacity<9.0.0,>=8.1.0 in c:\\users\\refar\\.conda\\envs\\es\\lib\\site-packages (from langchain) (8.2.3)\n",
      "Requirement already satisfied: elastic-transport<9,>=8 in c:\\users\\refar\\.conda\\envs\\es\\lib\\site-packages (from elasticsearch) (8.4.0)\n",
      "Requirement already satisfied: attrs>=17.3.0 in c:\\users\\refar\\.conda\\envs\\es\\lib\\site-packages (from aiohttp<4.0.0,>=3.8.3->langchain) (23.1.0)\n",
      "Requirement already satisfied: charset-normalizer<4.0,>=2.0 in c:\\users\\refar\\.conda\\envs\\es\\lib\\site-packages (from aiohttp<4.0.0,>=3.8.3->langchain) (3.2.0)\n",
      "Requirement already satisfied: multidict<7.0,>=4.5 in c:\\users\\refar\\.conda\\envs\\es\\lib\\site-packages (from aiohttp<4.0.0,>=3.8.3->langchain) (6.0.4)\n",
      "Requirement already satisfied: yarl<2.0,>=1.0 in c:\\users\\refar\\.conda\\envs\\es\\lib\\site-packages (from aiohttp<4.0.0,>=3.8.3->langchain) (1.9.2)\n",
      "Requirement already satisfied: frozenlist>=1.1.1 in c:\\users\\refar\\.conda\\envs\\es\\lib\\site-packages (from aiohttp<4.0.0,>=3.8.3->langchain) (1.4.0)\n",
      "Requirement already satisfied: aiosignal>=1.1.2 in c:\\users\\refar\\.conda\\envs\\es\\lib\\site-packages (from aiohttp<4.0.0,>=3.8.3->langchain) (1.3.1)\n",
      "Requirement already satisfied: marshmallow<4.0.0,>=3.18.0 in c:\\users\\refar\\.conda\\envs\\es\\lib\\site-packages (from dataclasses-json<0.6.0,>=0.5.7->langchain) (3.20.1)\n",
      "Requirement already satisfied: typing-inspect<1,>=0.4.0 in c:\\users\\refar\\.conda\\envs\\es\\lib\\site-packages (from dataclasses-json<0.6.0,>=0.5.7->langchain) (0.9.0)\n",
      "Requirement already satisfied: urllib3<2,>=1.26.2 in c:\\users\\refar\\.conda\\envs\\es\\lib\\site-packages (from elastic-transport<9,>=8->elasticsearch) (1.26.16)\n",
      "Requirement already satisfied: certifi in c:\\users\\refar\\.conda\\envs\\es\\lib\\site-packages (from elastic-transport<9,>=8->elasticsearch) (2023.7.22)\n",
      "Requirement already satisfied: contourpy>=1.0.1 in c:\\users\\refar\\.conda\\envs\\es\\lib\\site-packages (from matplotlib>=3.6->eland[pytorch]==8.10.1) (1.1.0)\n",
      "Requirement already satisfied: cycler>=0.10 in c:\\users\\refar\\.conda\\envs\\es\\lib\\site-packages (from matplotlib>=3.6->eland[pytorch]==8.10.1) (0.11.0)\n",
      "Requirement already satisfied: fonttools>=4.22.0 in c:\\users\\refar\\.conda\\envs\\es\\lib\\site-packages (from matplotlib>=3.6->eland[pytorch]==8.10.1) (4.42.1)\n",
      "Requirement already satisfied: kiwisolver>=1.0.1 in c:\\users\\refar\\.conda\\envs\\es\\lib\\site-packages (from matplotlib>=3.6->eland[pytorch]==8.10.1) (1.4.5)\n",
      "Requirement already satisfied: pillow>=6.2.0 in c:\\users\\refar\\.conda\\envs\\es\\lib\\site-packages (from matplotlib>=3.6->eland[pytorch]==8.10.1) (10.0.0)\n",
      "Requirement already satisfied: pyparsing<3.1,>=2.3.1 in c:\\users\\refar\\.conda\\envs\\es\\lib\\site-packages (from matplotlib>=3.6->eland[pytorch]==8.10.1) (3.0.9)\n",
      "Requirement already satisfied: python-dateutil>=2.7 in c:\\users\\refar\\.conda\\envs\\es\\lib\\site-packages (from matplotlib>=3.6->eland[pytorch]==8.10.1) (2.8.2)\n",
      "Requirement already satisfied: pytz>=2020.1 in c:\\users\\refar\\.conda\\envs\\es\\lib\\site-packages (from pandas<2,>=1.5->eland[pytorch]==8.10.1) (2023.3)\n",
      "Requirement already satisfied: annotated-types>=0.4.0 in c:\\users\\refar\\.conda\\envs\\es\\lib\\site-packages (from pydantic<3,>=1->langchain) (0.5.0)\n",
      "Requirement already satisfied: pydantic-core==2.6.3 in c:\\users\\refar\\.conda\\envs\\es\\lib\\site-packages (from pydantic<3,>=1->langchain) (2.6.3)\n",
      "Requirement already satisfied: typing-extensions>=4.6.1 in c:\\users\\refar\\.conda\\envs\\es\\lib\\site-packages (from pydantic<3,>=1->langchain) (4.7.1)\n",
      "Requirement already satisfied: idna<4,>=2.5 in c:\\users\\refar\\.conda\\envs\\es\\lib\\site-packages (from requests<3,>=2->langchain) (3.4)\n",
      "Requirement already satisfied: tqdm in c:\\users\\refar\\.conda\\envs\\es\\lib\\site-packages (from sentence-transformers<=2.2.2,>=2.1.0->eland[pytorch]==8.10.1) (4.66.1)\n",
      "Requirement already satisfied: torchvision in c:\\users\\refar\\appdata\\roaming\\python\\python310\\site-packages (from sentence-transformers<=2.2.2,>=2.1.0->eland[pytorch]==8.10.1) (0.14.1)\n",
      "Requirement already satisfied: scikit-learn in c:\\users\\refar\\.conda\\envs\\es\\lib\\site-packages (from sentence-transformers<=2.2.2,>=2.1.0->eland[pytorch]==8.10.1) (1.3.0)\n",
      "Requirement already satisfied: scipy in c:\\users\\refar\\.conda\\envs\\es\\lib\\site-packages (from sentence-transformers<=2.2.2,>=2.1.0->eland[pytorch]==8.10.1) (1.11.2)\n",
      "Requirement already satisfied: nltk in c:\\users\\refar\\.conda\\envs\\es\\lib\\site-packages (from sentence-transformers<=2.2.2,>=2.1.0->eland[pytorch]==8.10.1) (3.8.1)\n",
      "Requirement already satisfied: sentencepiece in c:\\users\\refar\\.conda\\envs\\es\\lib\\site-packages (from sentence-transformers<=2.2.2,>=2.1.0->eland[pytorch]==8.10.1) (0.1.99)\n",
      "Requirement already satisfied: huggingface-hub>=0.4.0 in c:\\users\\refar\\.conda\\envs\\es\\lib\\site-packages (from sentence-transformers<=2.2.2,>=2.1.0->eland[pytorch]==8.10.1) (0.16.4)\n",
      "Requirement already satisfied: greenlet!=0.4.17 in c:\\users\\refar\\.conda\\envs\\es\\lib\\site-packages (from SQLAlchemy<3,>=1.4->langchain) (2.0.2)\n",
      "Requirement already satisfied: filelock in c:\\users\\refar\\.conda\\envs\\es\\lib\\site-packages (from transformers[torch]<=4.33.2,>=4.31.0->eland[pytorch]==8.10.1) (3.12.2)\n",
      "Requirement already satisfied: regex!=2019.12.17 in c:\\users\\refar\\.conda\\envs\\es\\lib\\site-packages (from transformers[torch]<=4.33.2,>=4.31.0->eland[pytorch]==8.10.1) (2023.8.8)\n",
      "Requirement already satisfied: tokenizers!=0.11.3,<0.14,>=0.11.1 in c:\\users\\refar\\.conda\\envs\\es\\lib\\site-packages (from transformers[torch]<=4.33.2,>=4.31.0->eland[pytorch]==8.10.1) (0.13.3)\n",
      "Requirement already satisfied: safetensors>=0.3.1 in c:\\users\\refar\\.conda\\envs\\es\\lib\\site-packages (from transformers[torch]<=4.33.2,>=4.31.0->eland[pytorch]==8.10.1) (0.3.3)\n",
      "Requirement already satisfied: accelerate>=0.20.3 in c:\\users\\refar\\appdata\\roaming\\python\\python310\\site-packages (from transformers[torch]<=4.33.2,>=4.31.0->eland[pytorch]==8.10.1) (0.23.0)\n",
      "Requirement already satisfied: soupsieve>1.2 in c:\\users\\refar\\appdata\\roaming\\python\\python310\\site-packages (from beautifulsoup4->bs4) (2.5)\n",
      "Requirement already satisfied: psutil in c:\\users\\refar\\.conda\\envs\\es\\lib\\site-packages (from accelerate>=0.20.3->transformers[torch]<=4.33.2,>=4.31.0->eland[pytorch]==8.10.1) (5.9.0)\n",
      "Requirement already satisfied: fsspec in c:\\users\\refar\\.conda\\envs\\es\\lib\\site-packages (from huggingface-hub>=0.4.0->sentence-transformers<=2.2.2,>=2.1.0->eland[pytorch]==8.10.1) (2023.6.0)\n",
      "Requirement already satisfied: six>=1.5 in c:\\users\\refar\\.conda\\envs\\es\\lib\\site-packages (from python-dateutil>=2.7->matplotlib>=3.6->eland[pytorch]==8.10.1) (1.16.0)\n",
      "Requirement already satisfied: colorama in c:\\users\\refar\\.conda\\envs\\es\\lib\\site-packages (from tqdm->sentence-transformers<=2.2.2,>=2.1.0->eland[pytorch]==8.10.1) (0.4.6)\n",
      "Requirement already satisfied: mypy-extensions>=0.3.0 in c:\\users\\refar\\.conda\\envs\\es\\lib\\site-packages (from typing-inspect<1,>=0.4.0->dataclasses-json<0.6.0,>=0.5.7->langchain) (1.0.0)\n",
      "Requirement already satisfied: click in c:\\users\\refar\\.conda\\envs\\es\\lib\\site-packages (from nltk->sentence-transformers<=2.2.2,>=2.1.0->eland[pytorch]==8.10.1) (8.1.7)\n",
      "Requirement already satisfied: joblib in c:\\users\\refar\\.conda\\envs\\es\\lib\\site-packages (from nltk->sentence-transformers<=2.2.2,>=2.1.0->eland[pytorch]==8.10.1) (1.3.2)\n",
      "Requirement already satisfied: threadpoolctl>=2.0.0 in c:\\users\\refar\\.conda\\envs\\es\\lib\\site-packages (from scikit-learn->sentence-transformers<=2.2.2,>=2.1.0->eland[pytorch]==8.10.1) (3.2.0)\n"
     ]
    }
   ],
   "source": [
    "!pip install bs4 langchain fake_useragent elasticsearch eland[pytorch]==8.10.1 --user\n"
   ]
  },
  {
   "cell_type": "code",
   "execution_count": 22,
   "metadata": {},
   "outputs": [
    {
     "name": "stderr",
     "output_type": "stream",
     "text": [
      "c:\\Users\\refar\\.conda\\envs\\es\\lib\\site-packages\\urllib3\\connectionpool.py:1056: InsecureRequestWarning: Unverified HTTPS request is being made to host 'lilianweng.github.io'. Adding certificate verification is strongly advised. See: https://urllib3.readthedocs.io/en/1.26.x/advanced-usage.html#ssl-warnings\n",
      "  warnings.warn(\n",
      "Created a chunk of size 2731, which is longer than the specified 500\n",
      "Created a chunk of size 903, which is longer than the specified 500\n",
      "Created a chunk of size 706, which is longer than the specified 500\n",
      "Created a chunk of size 1538, which is longer than the specified 500\n",
      "Created a chunk of size 903, which is longer than the specified 500\n",
      "Created a chunk of size 1380, which is longer than the specified 500\n",
      "Created a chunk of size 623, which is longer than the specified 500\n",
      "Created a chunk of size 542, which is longer than the specified 500\n",
      "Created a chunk of size 2352, which is longer than the specified 500\n",
      "Created a chunk of size 1953, which is longer than the specified 500\n",
      "Created a chunk of size 855, which is longer than the specified 500\n",
      "Created a chunk of size 544, which is longer than the specified 500\n",
      "Created a chunk of size 1067, which is longer than the specified 500\n",
      "Created a chunk of size 602, which is longer than the specified 500\n",
      "Created a chunk of size 971, which is longer than the specified 500\n",
      "Created a chunk of size 997, which is longer than the specified 500\n",
      "Created a chunk of size 948, which is longer than the specified 500\n",
      "Created a chunk of size 1475, which is longer than the specified 500\n",
      "Created a chunk of size 2881, which is longer than the specified 500\n",
      "Created a chunk of size 1980, which is longer than the specified 500\n",
      "Created a chunk of size 4145, which is longer than the specified 500\n",
      "Created a chunk of size 513, which is longer than the specified 500\n",
      "Created a chunk of size 2222, which is longer than the specified 500\n"
     ]
    }
   ],
   "source": [
    "# from langchain.document_loaders import WebBaseLoader\n",
    "\n",
    "# loader = WebBaseLoader(\"https://lilianweng.github.io/posts/2023-06-23-agent/\")\n",
    "# loader.requests_kwargs = {'verify':False}\n",
    "\n",
    "# data = loader.load()\n",
    "\n",
    "# from langchain.text_splitter import CharacterTextSplitter\n",
    "\n",
    "# text_splitter = CharacterTextSplitter(chunk_size=500, chunk_overlap=0)\n",
    "# all_splits = text_splitter.split_documents(data)"
   ]
  },
  {
   "cell_type": "code",
   "execution_count": 3,
   "metadata": {},
   "outputs": [],
   "source": [
    "from getpass import getpass\n",
    "from langchain.vectorstores import ElasticsearchStore\n"
   ]
  },
  {
   "cell_type": "code",
   "execution_count": 6,
   "metadata": {},
   "outputs": [],
   "source": [
    "# ES_URL = input('Elasticsearch URL: ')\n",
    "ES_URL = input('Elasticsearch URL(ex:https://127.0.0.1:9200)')\n",
    "ES_USER = \"elastic\" \n",
    "ES_USER_PASSWORD = getpass('elastic user PW: ')\n",
    "CERT_PATH = input('Elasticsearch pem 파일 경로: ')\n",
    "# pem 생성 방법: https://cdax.ch/2022/02/20/elasticsearch-python-workshop-1-the-basics/"
   ]
  },
  {
   "cell_type": "code",
   "execution_count": 14,
   "metadata": {},
   "outputs": [],
   "source": [
    "from elasticsearch import Elasticsearch\n",
    "\n",
    "client = Elasticsearch(\n",
    "    ES_URL,\n",
    "    basic_auth=(ES_USER, ES_USER_PASSWORD),\n",
    "    ca_certs=CERT_PATH\n",
    ")"
   ]
  },
  {
   "cell_type": "code",
   "execution_count": null,
   "metadata": {},
   "outputs": [],
   "source": [
    "# !eland_import_hub_model --url \"https://127.0.0.1:9200\" -u elastic -p elastic --ca-certs \"D:\\es\\8.10.2\\kibana-8.10.2\\data\\ca_1695716998259.crt\" --hub-model-id \"d:/Projects/es-lab-kr/s-core/models/distilbert-base-multilingual-cased\" --task-type text_embedding --start --clear-previous"
   ]
  },
  {
   "cell_type": "code",
   "execution_count": 8,
   "metadata": {},
   "outputs": [],
   "source": [
    "import os\n",
    "cwd = os.getcwd()\n",
    "\n",
    "try :\n",
    "    os.mkdir(cwd + \"/models\") \n",
    "except:\n",
    "    pass"
   ]
  },
  {
   "cell_type": "code",
   "execution_count": 9,
   "metadata": {},
   "outputs": [],
   "source": [
    "os.chdir(cwd + \"/models\")\n",
    "\n",
    "try :\n",
    "    os.system(\"git clone https://huggingface.co/distilbert-base-multilingual-cased\")\n",
    "except:\n",
    "    print('이미 모델이 존재합니다.')\n",
    "\n",
    "os.chdir(cwd)"
   ]
  },
  {
   "cell_type": "code",
   "execution_count": 10,
   "metadata": {},
   "outputs": [
    {
     "name": "stderr",
     "output_type": "stream",
     "text": [
      "c:\\Users\\refar\\.conda\\envs\\es\\lib\\site-packages\\tqdm\\auto.py:21: TqdmWarning: IProgress not found. Please update jupyter and ipywidgets. See https://ipywidgets.readthedocs.io/en/stable/user_install.html\n",
      "  from .autonotebook import tqdm as notebook_tqdm\n"
     ]
    },
    {
     "name": "stdout",
     "output_type": "stream",
     "text": [
      "c:\\Users\\refar\\Projects\\es-lab-kr\\s-core/models/distilbert-base-multilingual-cased\n"
     ]
    },
    {
     "name": "stderr",
     "output_type": "stream",
     "text": [
      "No sentence-transformers model found with name c:\\Users\\refar\\Projects\\es-lab-kr\\s-core/models/distilbert-base-multilingual-cased. Creating a new one with MEAN pooling.\n",
      "Asking to pad to max_length but no maximum length is provided and the model has no predefined maximum length. Default to no padding.\n",
      "c:\\Users\\refar\\.conda\\envs\\es\\lib\\site-packages\\transformers\\models\\distilbert\\modeling_distilbert.py:223: TracerWarning: torch.tensor results are registered as constants in the trace. You can safely ignore this warning if you use this function to create tensors out of constant variables that would be the same every time you call this function. In any other case, this might cause the trace to be incorrect.\n",
      "  mask, torch.tensor(torch.finfo(scores.dtype).min)\n",
      "100%|██████████| 515/515 [01:04<00:00,  8.02 parts/s]\n"
     ]
    }
   ],
   "source": [
    "import os\n",
    "from pathlib import Path\n",
    "from eland.ml.pytorch import PyTorchModel\n",
    "from eland.common import es_version\n",
    "from eland.ml.pytorch.transformers import TransformerModel\n",
    "\n",
    "# 현재 경로 얻기\n",
    "cwd = os.getcwd()\n",
    "local_model_path = cwd + '/models/distilbert-base-multilingual-cased'\n",
    "\n",
    "\n",
    "print(local_model_path)\n",
    "\n",
    "# 모델 이름 및 작업 유형 설정\n",
    "#tm = TransformerModel(local_model_path, \"text_embedding\")\n",
    "es_cluster_version = es_version(client)\n",
    "tm = TransformerModel(model_id=local_model_path, task_type=\"text_embedding\", es_version=es_cluster_version)\n",
    "\n",
    "# Elasticsearch용 modelID를 설정\n",
    "es_model_id = \"sentence-transformers_distilbert-base-multilingual-cased\"\n",
    "\n",
    "tmp_path = \"models/sentence-transformers_distilbert-base-multilingual-cased\"\n",
    "Path(tmp_path).mkdir(parents=True, exist_ok=True)\n",
    "model_path, config, vocab_path = tm.save(tmp_path)\n",
    "\n",
    "ptm = PyTorchModel(client, es_model_id)\n",
    "ptm.stop()\n",
    "ptm.delete()\n",
    "\n",
    "ptm.import_model(model_path=model_path, config_path=None, vocab_path=vocab_path, config=config) \n",
    "\n",
    "ptm.start()"
   ]
  },
  {
   "cell_type": "code",
   "execution_count": 66,
   "metadata": {},
   "outputs": [],
   "source": [
    "from langchain.vectorstores import ElasticsearchStore\n",
    "from langchain.embeddings.elasticsearch import ElasticsearchEmbeddings\n",
    "\n",
    "embeddings = ElasticsearchEmbeddings.from_es_connection(\n",
    "    es_connection=client,\n",
    "    model_id = es_model_id\n",
    ")\n",
    "\n",
    "vectorstore = ElasticsearchStore(\n",
    "    es_connection=client, \n",
    "    embedding=embeddings, \n",
    "    index_name= \"workplace_index\"\n",
    ")\n"
   ]
  },
  {
   "cell_type": "code",
   "execution_count": 67,
   "metadata": {},
   "outputs": [
    {
     "data": {
      "text/plain": [
       "[{'content': \"Effective: March 2020\\nPurpose\\n\\nThe purpose of this full-time work-from-home policy is to provide guidelines and support for employees to conduct their work remotely, ensuring the continuity and productivity of business operations during the COVID-19 pandemic and beyond.\\nScope\\n\\nThis policy applies to all employees who are eligible for remote work as determined by their role and responsibilities. It is designed to allow employees to work from home full time while maintaining the same level of performance and collaboration as they would in the office.\\nEligibility\\n\\nEmployees who can perform their work duties remotely and have received approval from their direct supervisor and the HR department are eligible for this work-from-home arrangement.\\nEquipment and Resources\\n\\nThe necessary equipment and resources will be provided to employees for remote work, including a company-issued laptop, software licenses, and access to secure communication tools. Employees are responsible for maintaining and protecting the company's equipment and data.\\nWorkspace\\n\\nEmployees working from home are responsible for creating a comfortable and safe workspace that is conducive to productivity. This includes ensuring that their home office is ergonomically designed, well-lit, and free from distractions.\\nCommunication\\n\\nEffective communication is vital for successful remote work. Employees are expected to maintain regular communication with their supervisors, colleagues, and team members through email, phone calls, video conferences, and other approved communication tools.\\nWork Hours and Availability\\n\\nEmployees are expected to maintain their regular work hours and be available during normal business hours, unless otherwise agreed upon with their supervisor. Any changes to work hours or availability must be communicated to the employee's supervisor and the HR department.\\nPerformance Expectations\\n\\nEmployees working from home are expected to maintain the same level of performance and productivity as if they were working in the office. Supervisors and team members will collaborate to establish clear expectations and goals for remote work.\\nTime Tracking and Overtime\\n\\nEmployees are required to accurately track their work hours using the company's time tracking system. Non-exempt employees must obtain approval from their supervisor before working overtime.\\nConfidentiality and Data Security\\n\\nEmployees must adhere to the company's confidentiality and data security policies while working from home. This includes safeguarding sensitive information, securing personal devices and internet connections, and reporting any security breaches to the IT department.\\nHealth and Well-being\\n\\nThe company encourages employees to prioritize their health and well-being while working from home. This includes taking regular breaks, maintaining a work-life balance, and seeking support from supervisors and colleagues when needed.\\nPolicy Review and Updates\\n\\nThis work-from-home policy will be reviewed periodically and updated as necessary, taking into account changes in public health guidance, business needs, and employee feedback.\\nQuestions and Concerns\\n\\nEmployees are encouraged to direct any questions or concerns about this policy to their supervisor or the HR department.\\n\",\n",
       "  'summary': 'This policy outlines the guidelines for full-time remote work, including eligibility, equipment and resources, workspace requirements, communication expectations, performance expectations, time tracking and overtime, confidentiality and data security, health and well-being, and policy reviews and updates. Employees are encouraged to direct any questions or concerns',\n",
       "  'name': 'Work From Home Policy',\n",
       "  'url': './sharepoint/Work from home policy.txt',\n",
       "  'created_on': '2020-03-01',\n",
       "  'updated_at': '2020-03-01',\n",
       "  'category': 'teams',\n",
       "  '_run_ml_inference': True,\n",
       "  'rolePermissions': ['demo', 'manager']},\n",
       " {'content': 'Starting May 2022, the company will be implementing a two-day in-office work requirement per week for all eligible employees. Please coordinate with your supervisor and HR department to schedule your in-office workdays while continuing to follow all safety protocols.\\n',\n",
       "  'summary': 'Starting May 2022, employees will need to work two days a week in the office. Coordinate with your supervisor and HR department for these days while following safety protocols.',\n",
       "  'name': 'April Work From Home Update',\n",
       "  'url': './sharepoint/April work from home update.txt',\n",
       "  'created_on': '2022-04-29',\n",
       "  'updated_at': '2022-04-29',\n",
       "  'category': 'teams',\n",
       "  '_run_ml_inference': True,\n",
       "  'rolePermissions': ['demo', 'manager']},\n",
       " {'content': 'As we continue to prioritize the well-being of our employees, we are making a slight adjustment to our hybrid work policy. Starting May 1, 2023, employees will be required to work from the office three days a week, with two days designated for remote work. Please communicate with your supervisor and HR department to establish your updated in-office workdays.\\n',\n",
       "  'summary': 'Starting May 1, 2023, our hybrid work policy will require employees to work from the office three days a week and two days remotely.',\n",
       "  'name': 'Wfh Policy Update May 2023',\n",
       "  'url': './sharepoint/WFH policy update May 2023.txt',\n",
       "  'created_on': '2023-05-01',\n",
       "  'updated_at': '2023-05-01',\n",
       "  'category': 'teams',\n",
       "  '_run_ml_inference': True,\n",
       "  'rolePermissions': ['demo', 'manager']},\n",
       " {'content': \"Executive Summary:\\nThis sales strategy document outlines the key objectives, focus areas, and action plans for our tech company's sales operations in fiscal year 2024. Our primary goal is to increase revenue, expand market share, and strengthen customer relationships in our target markets.\\n\\nI. Objectives for Fiscal Year 2024\\n\\nIncrease revenue by 20% compared to fiscal year 2023.\\nExpand market share in key segments by 15%.\\nRetain 95% of existing customers and increase customer satisfaction ratings.\\nLaunch at least two new products or services in high-demand market segments.\\n\\nII. Focus Areas\\nA. Target Markets:\\nContinue to serve existing markets with a focus on high-growth industries.\\nIdentify and penetrate new markets with high potential for our products and services.\\n\\nB. Customer Segmentation:\\nStrengthen relationships with key accounts and strategic partners.\\nPursue new customers in underserved market segments.\\nDevelop tailored offerings for different customer segments based on their needs and preferences.\\n\\nC. Product/Service Portfolio:\\nOptimize the existing product/service portfolio by focusing on high-demand solutions.\\nDevelop and launch innovative products/services in emerging technology areas.\\nEnhance post-sales support and customer service to improve customer satisfaction.\\n\\nIII. Action Plans\\nA. Sales Team Development:\\nExpand the sales team to cover new markets and industries.\\nProvide ongoing training to sales staff on product knowledge, sales techniques, and industry trends.\\nImplement a performance-based incentive system to reward top performers.\\n\\nB. Marketing and Promotion:\\nDevelop targeted marketing campaigns for different customer segments and industries.\\nLeverage digital marketing channels to increase brand visibility and lead generation.\\nParticipate in industry events and trade shows to showcase our products and services.\\n\\nC. Partner Ecosystem:\\nStrengthen existing partnerships and establish new strategic alliances to expand market reach.\\nCollaborate with partners on joint marketing and sales initiatives.\\nProvide partner training and support to ensure they effectively represent our products and services.\\n\\nD. Customer Success:\\nImplement a proactive customer success program to improve customer retention and satisfaction.\\nDevelop a dedicated customer support team to address customer inquiries and concerns promptly.\\nCollect and analyze customer feedback to identify areas for improvement in our products, services, and processes.\\n\\nIV. Monitoring and Evaluation\\nEstablish key performance indicators (KPIs) to track progress toward our objectives.\\nConduct regular sales team meetings to review performance, share best practices, and address challenges.\\nConduct quarterly reviews of our sales strategy to ensure alignment with market trends and adjust as needed.\\n\\nBy following this sales strategy for fiscal year 2024, our tech company aims to achieve significant growth and success in our target markets, while also providing exceptional value and service to our customers.\\n\",\n",
       "  'summary': \"This sales strategy document outlines objectives, focus areas, and action plans for our tech company's sales operations in fiscal year 2024. Our primary goal is to increase revenue, expand market share, and strengthen customer relationships in our target markets. Focus areas include targeting new markets, segmenting customers, enhancing\",\n",
       "  'name': 'Fy2024 Company Sales Strategy',\n",
       "  'url': './sharepoint/FY2024 Company Sales Strategy.txt',\n",
       "  'category': 'teams',\n",
       "  'created_on': '2023-04-15',\n",
       "  'updated_at': '2023-04-15',\n",
       "  '_run_ml_inference': True,\n",
       "  'rolePermissions': ['demo', 'manager']},\n",
       " {'content': \"Purpose\\n\\nThe purpose of this vacation policy is to outline the guidelines and procedures for requesting and taking time off from work for personal and leisure purposes. This policy aims to promote a healthy work-life balance and encourage employees to take time to rest and recharge.\\nScope\\n\\nThis policy applies to all full-time and part-time employees who have completed their probationary period.\\nVacation Accrual\\n\\nFull-time employees accrue vacation time at a rate of [X hours] per month, equivalent to [Y days] per year. Part-time employees accrue vacation time on a pro-rata basis, calculated according to their scheduled work hours.\\n\\nVacation time will begin to accrue from the first day of employment, but employees are eligible to take vacation time only after completing their probationary period. Unused vacation time will be carried over to the next year, up to a maximum of [Z days]. Any additional unused vacation time will be forfeited.\\nVacation Scheduling\\n\\nEmployees are required to submit vacation requests to their supervisor at least [A weeks] in advance, specifying the start and end dates of their vacation. Supervisors will review and approve vacation requests based on business needs, ensuring adequate coverage during the employee's absence.\\n\\nEmployees are encouraged to plan their vacations around the company's peak and non-peak periods to minimize disruptions. Vacation requests during peak periods may be subject to limitations and require additional advance notice.\\nVacation Pay\\n\\nEmployees will receive their regular pay during their approved vacation time. Vacation pay will be calculated based on the employee's average earnings over the [B weeks] preceding their vacation.\\nUnplanned Absences and Vacation Time\\n\\nIn the event of an unplanned absence due to illness or personal emergencies, employees may use their accrued vacation time, subject to supervisor approval. Employees must inform their supervisor as soon as possible and provide any required documentation upon their return to work.\\nVacation Time and Termination of Employment\\n\\nIf an employee's employment is terminated, they will be paid out for any unused vacation time, calculated based on their current rate of pay.\\nPolicy Review and Updates\\n\\nThis vacation policy will be reviewed periodically and updated as necessary, taking into account changes in labor laws, business needs, and employee feedback.\\nQuestions and Concerns\\n\\nEmployees are encouraged to direct any questions or concerns about this policy to their supervisor or the HR department.\\n\",\n",
       "  'summary': ': This policy outlines the guidelines and procedures for requesting and taking time off from work for personal and leisure purposes. Full-time employees accrue vacation time at a rate of [X hours] per month, equivalent to [Y days] per year. Vacation requests must be submitted to supervisors at least',\n",
       "  'name': 'Company Vacation Policy',\n",
       "  'url': 'https://enterprisesearch.sharepoint.com/:t:/s/MSBuilddemo/ES6rw9bKZxVBobG1WUoJpikBF9Bhx1pw_GvJWbsg-Z_HNA?e=faSHVt',\n",
       "  'created_on': '2018-04-15',\n",
       "  'updated_at': '2018-04-16',\n",
       "  'category': 'sharepoint',\n",
       "  '_run_ml_inference': True,\n",
       "  'rolePermissions': ['demo', 'manager']},\n",
       " {'content': 'This career leveling matrix provides a framework for understanding the various roles and responsibilities of Software Engineers, as well as the skills and experience required for each level. This matrix is intended to support employee development, facilitate performance evaluations, and provide a clear career progression path.\\nJunior Software Engineer\\n\\nResponsibilities:\\nCollaborate with team members to design, develop, and maintain software applications and components.\\nWrite clean, well-structured, and efficient code following established coding standards.\\nParticipate in code reviews, providing and receiving constructive feedback.\\nTroubleshoot and resolve software defects and issues.\\nAssist with the creation of technical documentation.\\nContinuously learn and stay up-to-date with new technologies and best practices.\\n\\nSkills & Experience:\\nBachelor’s degree in Computer Science or a related field, or equivalent work experience.\\nBasic understanding of software development principles and methodologies.\\nProficiency in at least one programming language.\\nStrong problem-solving and analytical skills.\\nEffective communication and collaboration skills.\\nEagerness to learn and grow within the field.\\nSenior Software Engineer\\n\\nResponsibilities:\\nDesign, develop, and maintain complex software applications and components.\\nLead and mentor junior team members in software development best practices and techniques.\\nConduct code reviews and ensure adherence to coding standards and best practices.\\nCollaborate with cross-functional teams to define, design, and deliver software solutions.\\nIdentify, troubleshoot, and resolve complex software defects and issues.\\nContribute to the creation and maintenance of technical documentation.\\nEvaluate and recommend new technologies, tools, and practices to improve software quality and efficiency.\\n\\nSkills & Experience:\\nBachelor’s degree in Computer Science or a related field, or equivalent work experience.\\n5+ years of software development experience.\\nProficiency in multiple programming languages and technologies.\\nDemonstrated ability to design and implement complex software solutions.\\nStrong leadership, mentoring, and collaboration skills.\\nExcellent problem-solving, analytical, and communication skills.\\nPrincipal Software Engineer\\n\\nResponsibilities:\\nLead the design, development, and maintenance of large-scale, mission-critical software applications and components.\\nProvide technical leadership and mentorship to software engineering teams.\\nDrive the adoption of advanced software development practices and technologies.\\nCollaborate with product management, architecture, and other stakeholders to define and deliver strategic software initiatives.\\nIdentify, troubleshoot, and resolve the most complex software defects and issues.\\nCreate and maintain technical documentation, including architectural designs and best practice guidelines.\\nRepresent [Company Name] as a thought leader in the software engineering community, including speaking at conferences, publishing articles, and contributing to open-source projects.\\n\\nSkills & Experience:\\nBachelor’s degree in Computer Science or a related field, or equivalent work experience.\\n10+ years of software development experience, with a focus on large-scale, mission-critical applications.\\nExpertise in multiple programming languages, technologies, and software development methodologies.\\nProven ability to lead and mentor high-performing software engineering teams.\\nExceptional problem-solving, analytical, and communication skills.\\nStrong business acumen and ability to influence decision-making at the executive level.\\n\\nBy following this career leveling matrix, we aim to support the growth and development of Software Engineers, enabling them to reach their full potential and contribute meaningfully to the success of the organization.\\n',\n",
       "  'summary': '\\nThis career leveling matrix provides a framework for understanding the various roles and responsibilities of Software Engineers, as well as the skills and experience required for each level. It is intended to support employee development, facilitate performance evaluations, and provide a clear career progression path.',\n",
       "  'name': 'Swe Career Matrix',\n",
       "  'url': 'https://enterprisesearch.sharepoint.com/:t:/s/MSBuilddemo/EVYuEyRhHh5Aqc3a39sqbGcBkqKIHRWtJBjjUjNs6snpMg?e=nv1mf4',\n",
       "  'created_on': '2018-04-15',\n",
       "  'category': 'sharepoint',\n",
       "  '_run_ml_inference': True,\n",
       "  'rolePermissions': ['demo', 'manager']},\n",
       " {'content': \"Title: Working with the Sales Team as an Engineer in a Tech Company\\n\\nIntroduction:\\nAs an engineer in a tech company, collaboration with the sales team is essential to ensure the success of the company's products and services. This guidance document aims to provide an overview of how engineers can effectively work with the sales team, fostering a positive and productive working environment.\\nUnderstanding the Sales Team's Role:\\nThe sales team is responsible for promoting and selling the company's products and services to potential clients. Their role involves establishing relationships with customers, understanding their needs, and ensuring that the offered solutions align with their requirements.\\n\\nAs an engineer, it is important to understand the sales team's goals and objectives, as this will help you to provide them with the necessary information, tools, and support to successfully sell your company's products and services.\\nCommunication:\\nEffective communication is key to successfully working with the sales team. Make sure to maintain open lines of communication, and be responsive to their questions and concerns. This includes:\\n\\na. Attending sales meetings and conference calls when required.\\nb. Providing regular product updates and training sessions to the sales team.\\nc. Being available to answer technical questions and clarifications.\\nCollaboration:\\nCollaborate with the sales team in developing and refining sales materials, such as product presentations, demos, and technical documents. This will ensure that the sales team has accurate and up-to-date information to present to clients.\\n\\nAdditionally, work closely with the sales team on customer projects or product customizations, providing technical guidance, and ensuring that the solutions meet the customer's requirements.\\nCustomer Engagement:\\nAt times, engineers may be asked to join sales meetings or calls with potential clients to provide technical expertise. In these situations, it is important to:\\n\\na. Be prepared and understand the customer's needs and pain points.\\nb. Clearly explain the technical aspects of the product or solution in a simple language that the customer can understand.\\nc. Address any concerns or questions the customer may have.\\nContinuous Improvement:\\nActively seek feedback from the sales team regarding product performance, customer experiences, and market trends. Use this feedback to identify areas of improvement and collaborate with other engineers to enhance the product or service offerings.\\nMutual Respect and Support:\\nIt is essential to treat your colleagues in the sales team with respect and professionalism. Recognize and appreciate their efforts in promoting and selling the company's products and services. In turn, the sales team should also respect and appreciate the technical expertise and knowledge of the engineering team.\\n\\nBy working together, both the engineering and sales teams can contribute to the overall success of the company.\\n\\nConclusion:\\nCollaboration between engineers and the sales team is crucial for a tech company's success. By understanding each other's roles, maintaining effective communication, collaborating on projects, and supporting one another, both teams can work together to achieve the company's goals and ensure customer satisfaction.\\n\",\n",
       "  'summary': \": This guide provides an overview of how engineers can effectively collaborate with the sales team to ensure the success of a tech company. It includes understanding the sales team's role, communicating and collaborating on projects, engaging customers, and providing mutual respect and support.\",\n",
       "  'name': 'Sales Engineering Collaboration',\n",
       "  'url': 'https://enterprisesearch.sharepoint.com/:t:/s/MSBuilddemo/EW21-KJnfHBFoRiF49_uJMcBfHyPKimuPOFsCcJypQWaBQ?e=mGdIqe',\n",
       "  'created_on': '2019-04-15',\n",
       "  'category': 'sharepoint',\n",
       "  '_run_ml_inference': True,\n",
       "  'rolePermissions': ['demo', 'manager']},\n",
       " {'content': \"Purpose\\nThe purpose of this Intellectual Property Policy is to establish guidelines and procedures for the ownership, protection, and utilization of intellectual property generated by employees during their employment. This policy aims to encourage creativity and innovation while ensuring that the interests of both the company and its employees are protected.\\n\\nScope\\nThis policy applies to all employees, including full-time, part-time, temporary, and contract employees.\\n\\nDefinitions\\na. Intellectual Property (IP): Refers to creations of the mind, such as inventions, literary and artistic works, designs, symbols, and images, that are protected by copyright, trademark, patent, or other forms of legal protection.\\nb. Company Time: Refers to the time during which an employee is actively engaged in performing their job duties.\\nc. Outside Company Time: Refers to the time during which an employee is not engaged in performing their job duties.\\n\\nOwnership of Intellectual Property\\na. Work Generated on Company Time\\ni. Any intellectual property created, conceived, or developed by an employee during company time or using company resources, equipment, or facilities shall be considered the property of the Company.\\nii. Employees are required to promptly disclose any such intellectual property to their supervisor or the appropriate department head.\\nb. Work Generated Outside Company Time\\ni. Intellectual property created, conceived, or developed by an employee outside of company time and without the use of company resources, equipment, or facilities shall generally remain the property of the employee.\\nii. However, if the intellectual property is directly related to the employee's job responsibilities, or if the employee has used company resources, equipment, or facilities in its creation, it may be considered the property of the Company.\\nProtection and Utilization of Intellectual Property\\na. The Company shall have the right to protect, license, and commercialize any intellectual property owned by the company as it deems appropriate.\\nb. Employees are expected to cooperate with the Company in obtaining any necessary legal protection for intellectual property owned by the company, including by signing any documents or providing any necessary information or assistance.\\nConfidentiality\\nEmployees are expected to maintain the confidentiality of any intellectual property owned by the Company and not disclose it to any third parties without the express written consent of an authorized representative of the company.\\nEmployee Acknowledgment\\nAll employees are required to sign an acknowledgment of this Intellectual Property Policy as a condition of their employment with [Company Name]. By signing the acknowledgment, employees agree to abide by the terms of this policy and understand that any violations may result in disciplinary action, up to and including termination of employment.\\nPolicy Review\\nThis Intellectual Property Policy shall be reviewed periodically and may be amended as necessary to ensure its continued effectiveness and compliance with applicable laws and regulations. Employees will be notified of any significant changes to this policy.\\n\",\n",
       "  'summary': \"This Intellectual Property Policy outlines guidelines and procedures for the ownership, protection, and utilization of intellectual property generated by employees during their employment. It establishes the company's ownership of work generated on company time, while recognizing employee ownership of work generated outside of company time without the use of company resources. The policy\",\n",
       "  'name': 'Intellectual Property Policy',\n",
       "  'url': 'https://enterprisesearch.sharepoint.com/:t:/s/MSBuilddemo/EWz3cYEVdzBNsiHsYbKhms4BVYGhravyrUw3T3lzxL4pTg?e=mPIgbO',\n",
       "  'created_on': '2021-06-15',\n",
       "  'category': 'sharepoint',\n",
       "  '_run_ml_inference': True,\n",
       "  'rolePermissions': ['demo', 'manager']},\n",
       " {'content': \"Code of Conduct\\nPurpose\\n\\nThe purpose of this code of conduct is to establish guidelines for professional and ethical behavior in the workplace. It outlines the principles and values that all employees are expected to uphold in their interactions with colleagues, customers, partners, and other stakeholders.\\nScope\\n\\nThis code of conduct applies to all employees, contractors, and volunteers within the organization, regardless of their role or seniority.\\nCore Values\\n\\nEmployees are expected to adhere to the following core values:\\n\\na. Integrity: Act honestly, ethically, and in the best interests of the organization at all times.\\nb. Respect: Treat all individuals with dignity, courtesy, and fairness, regardless of their background, beliefs, or position.\\nc. Accountability: Take responsibility for one's actions and decisions, and be willing to learn from mistakes.\\nd. Collaboration: Work cooperatively with colleagues and partners to achieve shared goals and promote a positive work environment.\\ne. Excellence: Strive for the highest standards of performance and continuously seek opportunities for improvement.\\nCompliance with Laws and Regulations\\n\\nEmployees must comply with all applicable laws, regulations, and organizational policies in the course of their work. This includes, but is not limited to, employment laws, data protection regulations, and industry-specific guidelines.\\nConflicts of Interest\\n\\nEmployees should avoid situations where their personal interests may conflict with or influence their professional judgment. If a potential conflict of interest arises, employees must disclose it to their supervisor or the appropriate authority within the organization.\\nConfidentiality and Information Security\\n\\nEmployees are responsible for safeguarding the organization's confidential information, as well as any sensitive information entrusted to them by clients, partners, or other third parties. This includes adhering to data protection policies and using secure communication channels.\\nHarassment and Discrimination\\n\\nThe organization is committed to providing a workplace free from harassment, discrimination, and bullying. Employees are expected to treat others with respect and report any incidents of inappropriate behavior to their supervisor or the human resources department.\\nHealth and Safety\\n\\nEmployees must follow all health and safety guidelines and procedures to maintain a safe and healthy work environment. This includes reporting any hazards or unsafe conditions to the appropriate personnel.\\nUse of Company Resources\\n\\nEmployees are expected to use company resources, including time, equipment, and funds, responsibly and for their intended purposes. Misuse or theft of company resources is strictly prohibited.\\nReporting Violations\\n\\nEmployees have a responsibility to report any suspected violations of this code of conduct, as well as any illegal or unethical behavior, to their supervisor or the appropriate authority within the organization. The organization will protect the confidentiality of employees who report violations and will not tolerate retaliation against those who raise concerns.\\nConsequences of Non-Compliance\\n\\nFailure to adhere to this code of conduct may result in disciplinary action, up to and including termination of employment. The organization reserves the right to take legal action against individuals who engage in illegal or unethical conduct.\\nPolicy Review and Updates\\n\\nThis code of conduct will be reviewed periodically and updated as necessary to ensure it remains relevant and effective in promoting ethical behavior and professional standards within the organization.\\nQuestions and Concerns\\n\\nEmployees are encouraged to seek guidance from their supervisor or the human resources department if they have questions or concerns about this code of conduct or its application to specific situations.\\n\",\n",
       "  'summary': 'This code of conduct outlines the principles and values that all employees are expected to uphold in their interactions with colleagues, customers, partners, and other stakeholders. It sets out core values such as integrity, respect, accountability, collaboration and excellence. Employees must comply with all applicable laws, regulations, and organizational',\n",
       "  'name': 'Code Of Conduct',\n",
       "  'url': 'https://enterprisesearch.sharepoint.com/:t:/s/MSBuilddemo/ER3xmeKaZ_pAqPeJWyyNR0QBg6QmoWIGPhwfEyCABWHrPA?e=cvzrgV',\n",
       "  'created_on': '2018-01-12',\n",
       "  'category': 'sharepoint',\n",
       "  '_run_ml_inference': True,\n",
       "  'rolePermissions': ['demo', 'manager']},\n",
       " {'content': \"Content:\\nThe purpose of this office pet policy is to outline the guidelines and procedures for bringing pets into the workplace. This policy aims to create a positive and inclusive work environment while ensuring the comfort, safety, and well-being of all employees, visitors, and pets.\\nScope\\n\\nThis policy applies to all employees who wish to bring their pets to the office. Pets covered under this policy include dogs, cats, and other small, non-exotic animals, subject to approval by the HR department.\\nPet Approval Process\\n\\nEmployees must obtain prior approval from their supervisor and the HR department before bringing their pets to the office. The approval process includes:\\n\\na. Submitting a written request, including a description of the pet, its breed, age, and temperament.\\nb. Providing proof of up-to-date vaccinations and any required licenses or permits.\\nc. Obtaining written consent from all employees who share the workspace with the pet owner.\\n\\nThe HR department reserves the right to deny or revoke pet approval based on the specific circumstances or concerns raised by other employees.\\nPet Behavior and Supervision\\n\\nEmployees are responsible for the behavior and well-being of their pets while in the office. Pets must be:\\n\\na. Well-behaved, non-aggressive, and not disruptive to the work environment.\\nb. House-trained and able to eliminate waste in designated areas outside the office.\\nc. Kept on a leash or in a secure enclosure when not in the employee's immediate work area.\\n\\nEmployees must closely supervise their pets and promptly address any issues or concerns raised by other staff members.\\nAllergies and Phobias\\n\\nEmployees with allergies or phobias related to pets must inform the HR department, which will work with the affected employees and pet owners to find a suitable solution. This may include adjusting workspaces, limiting the number or types of pets allowed, or implementing additional safety measures.\\nCleanliness and Hygiene\\n\\nEmployees are responsible for maintaining a clean and hygienic work environment. This includes:\\n\\na. Cleaning up after their pets, both indoors and outdoors.\\nb. Regularly grooming their pets to minimize shedding and odors.\\nc. Ensuring their pets are free of pests, such as fleas and ticks.\\nLiability\\n\\nPet owners are liable for any damage or injury caused by their pets. Employees are encouraged to obtain pet liability insurance to cover potential incidents.\\nRestricted Areas\\n\\nPets are not allowed in certain areas of the office, including meeting rooms, restrooms, kitchen and dining areas, and any other designated spaces. Signage will be posted to indicate these restricted areas.\\nPolicy Review and Updates\\n\\nThis office pet policy will be reviewed periodically and updated as necessary, taking into account employee feedback, changes in legislation, and best practices for maintaining a safe and inclusive work environment.\\nQuestions and Concerns\\n\\nEmployees are encouraged to direct any questions or concerns about this policy to their supervisor or the HR department.\\n\",\n",
       "  'summary': 'This policy outlines the guidelines and procedures for bringing pets into the workplace. It covers approval process, pet behavior and supervision, allergies and phobias, cleanliness and hygiene, liability, restricted areas, and policy review. Employees must obtain prior approval from their supervisor and the HR department before bringing their',\n",
       "  'name': 'Office Pet Policy',\n",
       "  'url': 'https://enterprisesearch.sharepoint.com/:t:/s/MSBuilddemo/ETf-69wBeaZJpAn3CY7ExRABQWvav-p24VOnB6C0A4l2pQ?e=X72WuK',\n",
       "  'created_on': '2018-01-12',\n",
       "  'category': 'sharepoint',\n",
       "  '_run_ml_inference': True,\n",
       "  'rolePermissions': ['demo', 'manager']},\n",
       " {'content': 'Performance Management Policy\\nPurpose and Scope\\nThe purpose of this Performance Management Policy is to establish a consistent and transparent process for evaluating, recognizing, and rewarding employee performance. This policy applies to all employees and aims to foster a culture of continuous improvement, professional growth, and open communication between employees and management.\\nPerformance Planning and Goal Setting\\nAt the beginning of each performance cycle, employees and their supervisors will collaborate to set clear, achievable, and measurable performance goals. These goals should align with the company’s strategic objectives and take into account the employee’s job responsibilities, professional development, and career aspirations.\\nOngoing Feedback and Communication\\nThroughout the performance cycle, employees and supervisors are encouraged to engage in regular, constructive feedback and open communication. This includes discussing progress towards goals, addressing challenges, and identifying opportunities for improvement or additional support. Regular check-ins and updates help ensure that employees stay on track and receive the guidance they need to succeed.\\nPerformance Evaluation\\nAt the end of each performance cycle, employees will participate in a formal performance evaluation with their supervisor. This evaluation will assess the employee’s overall performance, including their achievements, areas for improvement, and progress towards goals. Both the employee and supervisor should come prepared to discuss specific examples, accomplishments, and challenges from the performance period.\\nPerformance Ratings\\nBased on the performance evaluation, employees will receive a performance rating that reflects their overall performance during the cycle. The rating system should be clearly defined and consistently applied across the organization. Performance ratings will be used to inform decisions regarding promotions, salary increases, and other rewards or recognition.\\nPromotions and Advancements\\nHigh-performing employees who consistently demonstrate strong performance, leadership, and a commitment to the company’s values may be considered for promotions or other advancement opportunities. Promotions will be based on factors such as performance ratings, skills, experience, and the needs of the organization. Employees interested in pursuing a promotion should discuss their career goals and development plans with their supervisor.\\nPerformance Improvement Plans\\nEmployees who receive a low performance rating or are struggling to meet their performance goals may be placed on a Performance Improvement Plan (PIP). A PIP is a structured plan designed to help the employee address specific areas of concern, set achievable improvement goals, and receive additional support or resources as needed. Employees on a PIP will be closely monitored and re-evaluated at the end of the improvement period to determine if satisfactory progress has been made.\\nRecognition and Rewards\\nOur company believes in recognizing and rewarding employees for their hard work and dedication. In addition to promotions and salary increases, employees may be eligible for other forms of recognition or rewards based on their performance. This may include bonuses, awards, or other incentives designed to motivate and celebrate employee achievements. The specific criteria and eligibility for these rewards will be communicated by the HR department or management.\\n',\n",
       "  'summary': 'This Performance Management Policy outlines a consistent and transparent process for evaluating, recognizing, and rewarding employees. It includes goal setting, ongoing feedback, performance evaluations, ratings, promotions, and rewards. The policy applies to all employees and encourages open communication and professional growth.',\n",
       "  'name': 'Performance Management Policy',\n",
       "  'url': 'https://enterprisesearch.sharepoint.com/:t:/s/MSBuilddemo/ERsxt9p1uehJqeJu4JlxkakBavbKwcldrYv_hpv3xHikAw?e=pf5R2C',\n",
       "  'created_on': '2018-01-12',\n",
       "  'category': 'sharepoint',\n",
       "  '_run_ml_inference': True,\n",
       "  'rolePermissions': ['demo', 'manager']},\n",
       " {'content': 'Our sales organization is structured to effectively serve our customers and achieve our business objectives across multiple regions. The organization is divided into the following main regions:\\n\\nThe Americas: This region includes the United States, Canada, Mexico, as well as Central and South America. The North America South America region (NASA) has two Area Vice-Presidents: Laura Martinez is the Area Vice-President of North America, and Gary Johnson is the Area Vice-President of South America.\\n\\nEurope: Our European sales team covers the entire continent, including the United Kingdom, Germany, France, Spain, Italy, and other countries. The team is responsible for understanding the unique market dynamics and cultural nuances, enabling them to effectively target and engage with customers across the region. The Area Vice-President for Europe is Rajesh Patel.\\nAsia-Pacific: This region encompasses countries such as China, Japan, South Korea, India, Australia, and New Zealand. Our sales team in the Asia-Pacific region works diligently to capitalize on growth opportunities and address the diverse needs of customers in this vast and rapidly evolving market. The Area Vice-President for Asia-Pacific is Mei Li.\\nMiddle East & Africa: This region comprises countries across the Middle East and Africa, such as the United Arab Emirates, Saudi Arabia, South Africa, and Nigeria. Our sales team in this region is responsible for navigating the unique market challenges and identifying opportunities to expand our presence and better serve our customers. The Area Vice-President for Middle East & Africa is Jamal Abdi.\\n\\nEach regional sales team consists of dedicated account managers, sales representatives, and support staff, led by their respective Area Vice-Presidents. They are responsible for identifying and pursuing new business opportunities, nurturing existing client relationships, and ensuring customer satisfaction. The teams collaborate closely with other departments, such as marketing, product development, and customer support, to ensure we consistently deliver high-quality products and services to our clients.\\n',\n",
       "  'summary': '\\nOur sales organization is divided into four regions: The Americas, Europe, Asia-Pacific, and Middle East & Africa. Each region is led by an Area Vice-President and consists of dedicated account managers, sales representatives, and support staff. They collaborate with other departments to ensure the delivery of high',\n",
       "  'name': 'Sales Organization Overview',\n",
       "  'url': 'https://enterprisesearch.sharepoint.com/:t:/s/MSBuilddemo/EYsr1eqgn9hMslMJFLR-k54BBX-O3iC26bK7xNEBtYIBkg?e=xeAjiT',\n",
       "  'created_on': '2018-01-15',\n",
       "  'category': 'sharepoint',\n",
       "  '_run_ml_inference': True,\n",
       "  'rolePermissions': ['demo', 'manager']},\n",
       " {'content': \"Introduction:\\nThis document outlines the compensation bands strategy for the various teams within our IT company. The goal is to establish a fair and competitive compensation structure that aligns with industry standards, rewards performance, and attracts top talent. By implementing this strategy, we aim to foster employee satisfaction and retention while ensuring the company's overall success.\\n\\nPurpose:\\nThe purpose of this compensation bands strategy is to:\\na. Define clear guidelines for salary ranges based on job levels and market benchmarks.\\nb. Support equitable compensation practices across different teams.\\nc. Encourage employee growth and performance.\\nd. Enable effective budgeting and resource allocation.\\n\\nJob Levels:\\nTo establish a comprehensive compensation structure, we have defined distinct job levels within each team. These levels reflect varying degrees of skills, experience, and responsibilities. The levels include:\\na. Entry-Level: Employees with limited experience or early career professionals.\\nb. Intermediate-Level: Employees with moderate experience and demonstrated competence.\\nc. Senior-Level: Experienced employees with advanced skills and leadership capabilities.\\nd. Leadership-Level: Managers and team leaders responsible for strategic decision-making.\\n\\nCompensation Bands:\\nBased on the job levels, the following compensation bands have been established:\\na. Entry-Level Band: This band encompasses salary ranges for employees in entry-level positions. It aims to provide competitive compensation for individuals starting their careers within the company.\\n\\nb. Intermediate-Level Band: This band covers salary ranges for employees who have gained moderate experience and expertise in their respective roles. It rewards employees for their growing skill set and contributions.\\n\\nc. Senior-Level Band: The senior-level band includes salary ranges for experienced employees who have attained advanced skills and have a proven track record of delivering results. It reflects the increased responsibilities and expectations placed upon these individuals.\\n\\nd. Leadership-Level Band: This band comprises salary ranges for managers and team leaders responsible for guiding and overseeing their respective teams. It considers their leadership abilities, strategic thinking, and the impact they have on the company's success.\\n\\nMarket Benchmarking:\\nTo ensure our compensation remains competitive, regular market benchmarking will be conducted. This involves analyzing industry salary trends, regional compensation data, and market demand for specific roles. The findings will inform periodic adjustments to our compensation bands to maintain alignment with the market.\\n\\nPerformance-Based Compensation:\\nIn addition to the defined compensation bands, we emphasize a performance-based compensation model. Performance evaluations will be conducted regularly, and employees exceeding performance expectations will be eligible for bonuses, incentives, and salary increases. This approach rewards high achievers and motivates employees to excel in their roles.\\n\\nConclusion:\\nBy implementing this compensation bands strategy, our IT company aims to establish fair and competitive compensation practices that align with market standards and foster employee satisfaction. Regular evaluations and market benchmarking will enable us to adapt and refine the strategy to meet the evolving needs of our organization.\",\n",
       "  'summary': 'This document outlines a compensation framework for IT teams. It includes job levels, compensation bands, and performance-based incentives to ensure fair and competitive wages. Regular market benchmarking will be conducted to adjust the bands according to industry trends.',\n",
       "  'name': 'Compensation Framework For It Teams',\n",
       "  'url': 'https://enterprisesearch.sharepoint.com/:t:/s/MSBuilddemo/EaAFec6004tAg21g4i67rfgBBRqCm1yY7AZLLQyyaMtsEQ?e=wTMb4z',\n",
       "  'created_on': '2018-01-12',\n",
       "  'category': 'sharepoint',\n",
       "  'restricted': True,\n",
       "  '_run_ml_inference': True,\n",
       "  'rolePermissions': ['manager']},\n",
       " {'content': \"As an employee in Canada, it's essential to understand how to update your tax elections forms to ensure accurate tax deductions from your pay. This guide will help you navigate the process of updating your TD1 Personal Tax Credits Return form.\\n\\nStep 1: Access the TD1 form\\nThe TD1 form is available on the Canada Revenue Agency (CRA) website. Your employer might provide you with a paper copy or a link to the online form. You can access the form directly through the following link: https://www.canada.ca/en/revenue-agency/services/forms-publications/td1-personal-tax-credits-returns.html\\n\\nStep 2: Choose the correct form version\\nYou'll need to fill out the federal TD1 form and, if applicable, the provincial or territorial TD1 form. Select the appropriate version based on your province or territory of residence.\\n\\nStep 3: Download and open the form\\nFor the best experience, download and open the TD1 form in Adobe Reader. If you have visual impairments, consider using the large print version available on the CRA website.\\n\\nStep 4: Complete the form\\nFill out the form by entering your personal information, such as your name, Social Insurance Number (SIN), and address. Then, go through each section to claim any personal tax credits that apply to you. These credits may include:\\nBasic personal amount\\nAmount for an eligible dependant\\nAmount for infirm dependants age 18 or older\\nCaregiver amount\\nDisability amount\\nTuition and education amounts\\n\\nRead the instructions carefully for each section to ensure you claim the correct amounts.\\n\\nStep 5: Sign and date the form\\nOnce you've completed the form, sign and date it at the bottom.\\n\\nStep 6: Submit the form to your employer\\nSubmit the completed and signed TD1 form to your employer. You can either scan and send it electronically, or provide a printed copy. Your employer will use the information on your TD1 form to calculate the correct amount of tax to be deducted from your pay.\\n\\nStep 7: Update your TD1 form as needed\\nIt's essential to update your TD1 form whenever your personal circumstances change, such as getting married, having a child, or becoming eligible for a new tax credit. Inform your employer of these changes and submit an updated TD1 form to ensure accurate tax deductions.\\n\\nUpdating your tax elections forms is a crucial step in ensuring the correct tax deductions from your pay as a new employee in Canada. Follow this guide and keep your TD1 form up to date to avoid any discrepancies in your tax filings.\\n\",\n",
       "  'summary': ': This guide gives a step-by-step explanation of how to update your TD1 Personal Tax Credits Return form. Access the form from the CRA website and choose the correct version based on your province or territory of residence. Download and open the form in Adobe Reader, fill out the form by entering',\n",
       "  'name': 'Updating Your Tax Elections Forms',\n",
       "  'url': './github/Updating Your Tax Elections Forms.txt',\n",
       "  'created_on': '2022-12-20',\n",
       "  'category': 'github',\n",
       "  '_run_ml_inference': True,\n",
       "  'rolePermissions': ['demo', 'manager']},\n",
       " {'content': \"Welcome to our team! We are excited to have you on board and look forward to your valuable contributions. This onboarding guide is designed to help you get started by providing essential information about our policies, procedures, and resources. Please read through this guide carefully and reach out to the HR department if you have any questions.\\nIntroduction to Our Company Culture and Values\\nOur company is committed to creating a diverse, inclusive, and supportive work environment. We believe that our employees are our most valuable asset and strive to foster a culture of collaboration, innovation, and continuous learning. Our core values include:\\nIntegrity: We act ethically and honestly in all our interactions.\\nTeamwork: We work together to achieve common goals and support each other's growth.\\nExcellence: We strive for the highest quality in our products, services, and relationships.\\nInnovation: We encourage creativity and embrace change to stay ahead in the market.\\nRespect: We treat each other with dignity and value the unique perspectives of all our colleagues.\\nKey Onboarding Steps\\nTo ensure a smooth onboarding process, please complete the following steps within your first week:\\nAttend orientation: You will be invited to an orientation session to meet your colleagues and learn more about our company's history, mission, and values.\\nReview policies and procedures: Familiarize yourself with our employee handbook, which contains important information about our policies and procedures. Please read it thoroughly and adhere to the guidelines.\\nComplete required training: You may be required to complete mandatory training sessions, such as safety training or anti-harassment training. Ensure that you attend and complete these sessions as soon as possible.\\nUpdating Tax Elections and Documents\\nIt is crucial to ensure your tax information is accurate and up-to-date, regardless of the country you work in. Please follow these steps to update your tax elections and documents:\\nComplete tax forms: Fill out the necessary tax forms for your country or region, which determine the amount of income tax withheld from your paycheck. You should complete new tax forms if your personal or financial situation changes, such as marriage, divorce, or a change in the number of dependents.\\nSubmit regional tax forms: Depending on your location, you may be required to complete additional regional or local tax forms. Check with the HR department to determine which forms are necessary.\\nUpdate your address: If you move, make sure to update your address with the HR department to ensure accurate tax reporting.\\nBenefits Enrollment\\nAs a new employee, you are eligible for various benefits, including health insurance, retirement plans, and paid time off. You will receive detailed information about our benefits package during orientation. To enroll in the benefits, please follow these steps:\\nReview benefits options: Carefully review the benefits package and choose the options that best meet your needs.\\nComplete enrollment forms: Fill out the necessary forms to enroll in your chosen benefits. Submit these forms to the HR department within 30 days of your start date.\\nDesignate beneficiaries: If applicable, designate beneficiaries for your life insurance and retirement plans.\\nGetting Settled in Your Workspace\\nTo help you feel comfortable and productive in your new workspace, take the following steps:\\nSet up your workstation: Organize your desk, chair, and computer according to your preferences. If you require any additional equipment or accommodations, please contact the HR department.\\nObtain necessary supplies: Request any necessary office supplies, such as pens, notepads, or folders, from the designated supply area or by contacting the appropriate department.\\nFamiliarize yourself with office resources: Locate common areas, such as break rooms, restrooms, and meeting rooms. Familiarize yourself with office equipment, including printers, scanners, and telephones.\\n\",\n",
       "  'summary': '\\nThis onboarding guide provides essential information to new employees on our company culture and values, key onboarding steps, tax elections and documents, benefits enrollment, and setting up their workspace.',\n",
       "  'name': 'New Employee Onboarding Guide',\n",
       "  'url': './github/New Employee Onboarding guide.txt',\n",
       "  'created_on': '2018-01-12',\n",
       "  'category': 'github',\n",
       "  '_run_ml_inference': True,\n",
       "  'rolePermissions': ['demo', 'manager']}]"
      ]
     },
     "execution_count": 67,
     "metadata": {},
     "output_type": "execute_result"
    }
   ],
   "source": [
    "from urllib.request import urlopen\n",
    "from langchain.text_splitter import CharacterTextSplitter\n",
    "import json\n",
    "\n",
    "url = \"./data.json\"\n",
    "\n",
    "response = urlopen(\"https://raw.githubusercontent.com/elastic/elasticsearch-labs/main/example-apps/workplace-search/data/data.json\")\n",
    "\n",
    "workplace_docs = json.loads(response.read())\n",
    "\n",
    "workplace_docs"
   ]
  },
  {
   "cell_type": "code",
   "execution_count": 63,
   "metadata": {},
   "outputs": [
    {
     "name": "stderr",
     "output_type": "stream",
     "text": [
      "Created a chunk of size 866, which is longer than the specified 800\n",
      "Created a chunk of size 1120, which is longer than the specified 800\n"
     ]
    }
   ],
   "source": [
    "metadata = []\n",
    "content = []\n",
    "\n",
    "for doc in workplace_docs:\n",
    "  content.append(doc[\"content\"])\n",
    "  metadata.append({\n",
    "      \"name\": doc[\"name\"],\n",
    "      \"summary\": doc[\"summary\"],\n",
    "      \"rolePermissions\":doc[\"rolePermissions\"],\n",
    "  })\n",
    "\n",
    "text_splitter = CharacterTextSplitter(chunk_size=800, chunk_overlap=0)\n",
    "docs = text_splitter.create_documents(content, metadatas=metadata)"
   ]
  },
  {
   "cell_type": "code",
   "execution_count": 69,
   "metadata": {},
   "outputs": [
    {
     "ename": "ConnectionTimeout",
     "evalue": "Connection timed out",
     "output_type": "error",
     "traceback": [
      "\u001b[1;31m---------------------------------------------------------------------------\u001b[0m",
      "\u001b[1;31mConnectionTimeout\u001b[0m                         Traceback (most recent call last)",
      "\u001b[1;32mc:\\Users\\refar\\Projects\\es-lab-kr\\s-core\\quickstart.ipynb 셀 14\u001b[0m line \u001b[0;36m1\n\u001b[1;32m----> <a href='vscode-notebook-cell:/c%3A/Users/refar/Projects/es-lab-kr/s-core/quickstart.ipynb#X14sZmlsZQ%3D%3D?line=0'>1</a>\u001b[0m db \u001b[39m=\u001b[39m vectorstore\u001b[39m.\u001b[39;49mfrom_documents(\n\u001b[0;32m      <a href='vscode-notebook-cell:/c%3A/Users/refar/Projects/es-lab-kr/s-core/quickstart.ipynb#X14sZmlsZQ%3D%3D?line=1'>2</a>\u001b[0m     docs, \n\u001b[0;32m      <a href='vscode-notebook-cell:/c%3A/Users/refar/Projects/es-lab-kr/s-core/quickstart.ipynb#X14sZmlsZQ%3D%3D?line=2'>3</a>\u001b[0m     embeddings, \n\u001b[0;32m      <a href='vscode-notebook-cell:/c%3A/Users/refar/Projects/es-lab-kr/s-core/quickstart.ipynb#X14sZmlsZQ%3D%3D?line=3'>4</a>\u001b[0m     es_connection\u001b[39m=\u001b[39;49mclient,\n\u001b[0;32m      <a href='vscode-notebook-cell:/c%3A/Users/refar/Projects/es-lab-kr/s-core/quickstart.ipynb#X14sZmlsZQ%3D%3D?line=4'>5</a>\u001b[0m     index_name\u001b[39m=\u001b[39;49m \u001b[39m\"\u001b[39;49m\u001b[39mworkplace_index\u001b[39;49m\u001b[39m\"\u001b[39;49m\n\u001b[0;32m      <a href='vscode-notebook-cell:/c%3A/Users/refar/Projects/es-lab-kr/s-core/quickstart.ipynb#X14sZmlsZQ%3D%3D?line=5'>6</a>\u001b[0m )\n",
      "File \u001b[1;32mc:\\Users\\refar\\.conda\\envs\\es\\lib\\site-packages\\langchain\\vectorstores\\elasticsearch.py:1027\u001b[0m, in \u001b[0;36mElasticsearchStore.from_documents\u001b[1;34m(cls, documents, embedding, **kwargs)\u001b[0m\n\u001b[0;32m   1023\u001b[0m elasticsearchStore \u001b[39m=\u001b[39m ElasticsearchStore\u001b[39m.\u001b[39m_create_cls_from_kwargs(\n\u001b[0;32m   1024\u001b[0m     embedding\u001b[39m=\u001b[39membedding, \u001b[39m*\u001b[39m\u001b[39m*\u001b[39mkwargs\n\u001b[0;32m   1025\u001b[0m )\n\u001b[0;32m   1026\u001b[0m \u001b[39m# Encode the provided texts and add them to the newly created index.\u001b[39;00m\n\u001b[1;32m-> 1027\u001b[0m elasticsearchStore\u001b[39m.\u001b[39;49madd_documents(documents)\n\u001b[0;32m   1029\u001b[0m \u001b[39mreturn\u001b[39;00m elasticsearchStore\n",
      "File \u001b[1;32mc:\\Users\\refar\\.conda\\envs\\es\\lib\\site-packages\\langchain\\vectorstores\\base.py:101\u001b[0m, in \u001b[0;36mVectorStore.add_documents\u001b[1;34m(self, documents, **kwargs)\u001b[0m\n\u001b[0;32m     99\u001b[0m texts \u001b[39m=\u001b[39m [doc\u001b[39m.\u001b[39mpage_content \u001b[39mfor\u001b[39;00m doc \u001b[39min\u001b[39;00m documents]\n\u001b[0;32m    100\u001b[0m metadatas \u001b[39m=\u001b[39m [doc\u001b[39m.\u001b[39mmetadata \u001b[39mfor\u001b[39;00m doc \u001b[39min\u001b[39;00m documents]\n\u001b[1;32m--> 101\u001b[0m \u001b[39mreturn\u001b[39;00m \u001b[39mself\u001b[39m\u001b[39m.\u001b[39madd_texts(texts, metadatas, \u001b[39m*\u001b[39m\u001b[39m*\u001b[39mkwargs)\n",
      "File \u001b[1;32mc:\\Users\\refar\\.conda\\envs\\es\\lib\\site-packages\\langchain\\vectorstores\\elasticsearch.py:825\u001b[0m, in \u001b[0;36mElasticsearchStore.add_texts\u001b[1;34m(self, texts, metadatas, ids, refresh_indices, create_index_if_not_exists, **kwargs)\u001b[0m\n\u001b[0;32m    820\u001b[0m requests \u001b[39m=\u001b[39m []\n\u001b[0;32m    822\u001b[0m \u001b[39mif\u001b[39;00m \u001b[39mself\u001b[39m\u001b[39m.\u001b[39membedding \u001b[39mis\u001b[39;00m \u001b[39mnot\u001b[39;00m \u001b[39mNone\u001b[39;00m:\n\u001b[0;32m    823\u001b[0m     \u001b[39m# If no search_type requires inference, we use the provided\u001b[39;00m\n\u001b[0;32m    824\u001b[0m     \u001b[39m# embedding function to embed the texts.\u001b[39;00m\n\u001b[1;32m--> 825\u001b[0m     embeddings \u001b[39m=\u001b[39m \u001b[39mself\u001b[39;49m\u001b[39m.\u001b[39;49membedding\u001b[39m.\u001b[39;49membed_documents(\u001b[39mlist\u001b[39;49m(texts))\n\u001b[0;32m    826\u001b[0m     dims_length \u001b[39m=\u001b[39m \u001b[39mlen\u001b[39m(embeddings[\u001b[39m0\u001b[39m])\n\u001b[0;32m    828\u001b[0m     \u001b[39mif\u001b[39;00m create_index_if_not_exists:\n",
      "File \u001b[1;32mc:\\Users\\refar\\.conda\\envs\\es\\lib\\site-packages\\langchain\\embeddings\\elasticsearch.py:210\u001b[0m, in \u001b[0;36mElasticsearchEmbeddings.embed_documents\u001b[1;34m(self, texts)\u001b[0m\n\u001b[0;32m    198\u001b[0m \u001b[39mdef\u001b[39;00m \u001b[39membed_documents\u001b[39m(\u001b[39mself\u001b[39m, texts: List[\u001b[39mstr\u001b[39m]) \u001b[39m-\u001b[39m\u001b[39m>\u001b[39m List[List[\u001b[39mfloat\u001b[39m]]:\n\u001b[0;32m    199\u001b[0m \u001b[39m    \u001b[39m\u001b[39m\"\"\"\u001b[39;00m\n\u001b[0;32m    200\u001b[0m \u001b[39m    Generate embeddings for a list of documents.\u001b[39;00m\n\u001b[0;32m    201\u001b[0m \n\u001b[1;32m   (...)\u001b[0m\n\u001b[0;32m    208\u001b[0m \u001b[39m            list.\u001b[39;00m\n\u001b[0;32m    209\u001b[0m \u001b[39m    \"\"\"\u001b[39;00m\n\u001b[1;32m--> 210\u001b[0m     \u001b[39mreturn\u001b[39;00m \u001b[39mself\u001b[39;49m\u001b[39m.\u001b[39;49m_embedding_func(texts)\n",
      "File \u001b[1;32mc:\\Users\\refar\\.conda\\envs\\es\\lib\\site-packages\\langchain\\embeddings\\elasticsearch.py:191\u001b[0m, in \u001b[0;36mElasticsearchEmbeddings._embedding_func\u001b[1;34m(self, texts)\u001b[0m\n\u001b[0;32m    180\u001b[0m \u001b[39mdef\u001b[39;00m \u001b[39m_embedding_func\u001b[39m(\u001b[39mself\u001b[39m, texts: List[\u001b[39mstr\u001b[39m]) \u001b[39m-\u001b[39m\u001b[39m>\u001b[39m List[List[\u001b[39mfloat\u001b[39m]]:\n\u001b[0;32m    181\u001b[0m \u001b[39m    \u001b[39m\u001b[39m\"\"\"\u001b[39;00m\n\u001b[0;32m    182\u001b[0m \u001b[39m    Generate embeddings for the given texts using the Elasticsearch model.\u001b[39;00m\n\u001b[0;32m    183\u001b[0m \n\u001b[1;32m   (...)\u001b[0m\n\u001b[0;32m    189\u001b[0m \u001b[39m            list.\u001b[39;00m\n\u001b[0;32m    190\u001b[0m \u001b[39m    \"\"\"\u001b[39;00m\n\u001b[1;32m--> 191\u001b[0m     response \u001b[39m=\u001b[39m \u001b[39mself\u001b[39;49m\u001b[39m.\u001b[39;49mclient\u001b[39m.\u001b[39;49minfer_trained_model(\n\u001b[0;32m    192\u001b[0m         model_id\u001b[39m=\u001b[39;49m\u001b[39mself\u001b[39;49m\u001b[39m.\u001b[39;49mmodel_id, docs\u001b[39m=\u001b[39;49m[{\u001b[39mself\u001b[39;49m\u001b[39m.\u001b[39;49minput_field: text} \u001b[39mfor\u001b[39;49;00m text \u001b[39min\u001b[39;49;00m texts]\n\u001b[0;32m    193\u001b[0m     )\n\u001b[0;32m    195\u001b[0m     embeddings \u001b[39m=\u001b[39m [doc[\u001b[39m\"\u001b[39m\u001b[39mpredicted_value\u001b[39m\u001b[39m\"\u001b[39m] \u001b[39mfor\u001b[39;00m doc \u001b[39min\u001b[39;00m response[\u001b[39m\"\u001b[39m\u001b[39minference_results\u001b[39m\u001b[39m\"\u001b[39m]]\n\u001b[0;32m    196\u001b[0m     \u001b[39mreturn\u001b[39;00m embeddings\n",
      "File \u001b[1;32mc:\\Users\\refar\\.conda\\envs\\es\\lib\\site-packages\\elasticsearch\\_sync\\client\\utils.py:414\u001b[0m, in \u001b[0;36m_rewrite_parameters.<locals>.wrapper.<locals>.wrapped\u001b[1;34m(*args, **kwargs)\u001b[0m\n\u001b[0;32m    411\u001b[0m         \u001b[39mexcept\u001b[39;00m \u001b[39mKeyError\u001b[39;00m:\n\u001b[0;32m    412\u001b[0m             \u001b[39mpass\u001b[39;00m\n\u001b[1;32m--> 414\u001b[0m \u001b[39mreturn\u001b[39;00m api(\u001b[39m*\u001b[39margs, \u001b[39m*\u001b[39m\u001b[39m*\u001b[39mkwargs)\n",
      "File \u001b[1;32mc:\\Users\\refar\\.conda\\envs\\es\\lib\\site-packages\\elasticsearch\\_sync\\client\\ml.py:2287\u001b[0m, in \u001b[0;36mMlClient.infer_trained_model\u001b[1;34m(self, model_id, docs, error_trace, filter_path, human, inference_config, pretty, timeout)\u001b[0m\n\u001b[0;32m   2285\u001b[0m     __query[\u001b[39m\"\u001b[39m\u001b[39mtimeout\u001b[39m\u001b[39m\"\u001b[39m] \u001b[39m=\u001b[39m timeout\n\u001b[0;32m   2286\u001b[0m __headers \u001b[39m=\u001b[39m {\u001b[39m\"\u001b[39m\u001b[39maccept\u001b[39m\u001b[39m\"\u001b[39m: \u001b[39m\"\u001b[39m\u001b[39mapplication/json\u001b[39m\u001b[39m\"\u001b[39m, \u001b[39m\"\u001b[39m\u001b[39mcontent-type\u001b[39m\u001b[39m\"\u001b[39m: \u001b[39m\"\u001b[39m\u001b[39mapplication/json\u001b[39m\u001b[39m\"\u001b[39m}\n\u001b[1;32m-> 2287\u001b[0m \u001b[39mreturn\u001b[39;00m \u001b[39mself\u001b[39;49m\u001b[39m.\u001b[39;49mperform_request(  \u001b[39m# type: ignore[return-value]\u001b[39;49;00m\n\u001b[0;32m   2288\u001b[0m     \u001b[39m\"\u001b[39;49m\u001b[39mPOST\u001b[39;49m\u001b[39m\"\u001b[39;49m, __path, params\u001b[39m=\u001b[39;49m__query, headers\u001b[39m=\u001b[39;49m__headers, body\u001b[39m=\u001b[39;49m__body\n\u001b[0;32m   2289\u001b[0m )\n",
      "File \u001b[1;32mc:\\Users\\refar\\.conda\\envs\\es\\lib\\site-packages\\elasticsearch\\_sync\\client\\_base.py:389\u001b[0m, in \u001b[0;36mNamespacedClient.perform_request\u001b[1;34m(self, method, path, params, headers, body)\u001b[0m\n\u001b[0;32m    378\u001b[0m \u001b[39mdef\u001b[39;00m \u001b[39mperform_request\u001b[39m(\n\u001b[0;32m    379\u001b[0m     \u001b[39mself\u001b[39m,\n\u001b[0;32m    380\u001b[0m     method: \u001b[39mstr\u001b[39m,\n\u001b[1;32m   (...)\u001b[0m\n\u001b[0;32m    387\u001b[0m     \u001b[39m# Use the internal clients .perform_request() implementation\u001b[39;00m\n\u001b[0;32m    388\u001b[0m     \u001b[39m# so we take advantage of their transport options.\u001b[39;00m\n\u001b[1;32m--> 389\u001b[0m     \u001b[39mreturn\u001b[39;00m \u001b[39mself\u001b[39;49m\u001b[39m.\u001b[39;49m_client\u001b[39m.\u001b[39;49mperform_request(\n\u001b[0;32m    390\u001b[0m         method, path, params\u001b[39m=\u001b[39;49mparams, headers\u001b[39m=\u001b[39;49mheaders, body\u001b[39m=\u001b[39;49mbody\n\u001b[0;32m    391\u001b[0m     )\n",
      "File \u001b[1;32mc:\\Users\\refar\\.conda\\envs\\es\\lib\\site-packages\\elasticsearch\\_sync\\client\\_base.py:285\u001b[0m, in \u001b[0;36mBaseClient.perform_request\u001b[1;34m(self, method, path, params, headers, body)\u001b[0m\n\u001b[0;32m    282\u001b[0m \u001b[39melse\u001b[39;00m:\n\u001b[0;32m    283\u001b[0m     target \u001b[39m=\u001b[39m path\n\u001b[1;32m--> 285\u001b[0m meta, resp_body \u001b[39m=\u001b[39m \u001b[39mself\u001b[39;49m\u001b[39m.\u001b[39;49mtransport\u001b[39m.\u001b[39;49mperform_request(\n\u001b[0;32m    286\u001b[0m     method,\n\u001b[0;32m    287\u001b[0m     target,\n\u001b[0;32m    288\u001b[0m     headers\u001b[39m=\u001b[39;49mrequest_headers,\n\u001b[0;32m    289\u001b[0m     body\u001b[39m=\u001b[39;49mbody,\n\u001b[0;32m    290\u001b[0m     request_timeout\u001b[39m=\u001b[39;49m\u001b[39mself\u001b[39;49m\u001b[39m.\u001b[39;49m_request_timeout,\n\u001b[0;32m    291\u001b[0m     max_retries\u001b[39m=\u001b[39;49m\u001b[39mself\u001b[39;49m\u001b[39m.\u001b[39;49m_max_retries,\n\u001b[0;32m    292\u001b[0m     retry_on_status\u001b[39m=\u001b[39;49m\u001b[39mself\u001b[39;49m\u001b[39m.\u001b[39;49m_retry_on_status,\n\u001b[0;32m    293\u001b[0m     retry_on_timeout\u001b[39m=\u001b[39;49m\u001b[39mself\u001b[39;49m\u001b[39m.\u001b[39;49m_retry_on_timeout,\n\u001b[0;32m    294\u001b[0m     client_meta\u001b[39m=\u001b[39;49m\u001b[39mself\u001b[39;49m\u001b[39m.\u001b[39;49m_client_meta,\n\u001b[0;32m    295\u001b[0m )\n\u001b[0;32m    297\u001b[0m \u001b[39m# HEAD with a 404 is returned as a normal response\u001b[39;00m\n\u001b[0;32m    298\u001b[0m \u001b[39m# since this is used as an 'exists' functionality.\u001b[39;00m\n\u001b[0;32m    299\u001b[0m \u001b[39mif\u001b[39;00m \u001b[39mnot\u001b[39;00m (method \u001b[39m==\u001b[39m \u001b[39m\"\u001b[39m\u001b[39mHEAD\u001b[39m\u001b[39m\"\u001b[39m \u001b[39mand\u001b[39;00m meta\u001b[39m.\u001b[39mstatus \u001b[39m==\u001b[39m \u001b[39m404\u001b[39m) \u001b[39mand\u001b[39;00m (\n\u001b[0;32m    300\u001b[0m     \u001b[39mnot\u001b[39;00m \u001b[39m200\u001b[39m \u001b[39m<\u001b[39m\u001b[39m=\u001b[39m meta\u001b[39m.\u001b[39mstatus \u001b[39m<\u001b[39m \u001b[39m299\u001b[39m\n\u001b[0;32m    301\u001b[0m     \u001b[39mand\u001b[39;00m (\n\u001b[1;32m   (...)\u001b[0m\n\u001b[0;32m    305\u001b[0m     )\n\u001b[0;32m    306\u001b[0m ):\n",
      "File \u001b[1;32mc:\\Users\\refar\\.conda\\envs\\es\\lib\\site-packages\\elastic_transport\\_transport.py:329\u001b[0m, in \u001b[0;36mTransport.perform_request\u001b[1;34m(self, method, target, body, headers, max_retries, retry_on_status, retry_on_timeout, request_timeout, client_meta)\u001b[0m\n\u001b[0;32m    327\u001b[0m start_time \u001b[39m=\u001b[39m time\u001b[39m.\u001b[39mtime()\n\u001b[0;32m    328\u001b[0m \u001b[39mtry\u001b[39;00m:\n\u001b[1;32m--> 329\u001b[0m     meta, raw_data \u001b[39m=\u001b[39m node\u001b[39m.\u001b[39;49mperform_request(\n\u001b[0;32m    330\u001b[0m         method,\n\u001b[0;32m    331\u001b[0m         target,\n\u001b[0;32m    332\u001b[0m         body\u001b[39m=\u001b[39;49mrequest_body,\n\u001b[0;32m    333\u001b[0m         headers\u001b[39m=\u001b[39;49mrequest_headers,\n\u001b[0;32m    334\u001b[0m         request_timeout\u001b[39m=\u001b[39;49mrequest_timeout,\n\u001b[0;32m    335\u001b[0m     )\n\u001b[0;32m    336\u001b[0m     _logger\u001b[39m.\u001b[39minfo(\n\u001b[0;32m    337\u001b[0m         \u001b[39m\"\u001b[39m\u001b[39m%s\u001b[39;00m\u001b[39m \u001b[39m\u001b[39m%s\u001b[39;00m\u001b[39m%s\u001b[39;00m\u001b[39m [status:\u001b[39m\u001b[39m%s\u001b[39;00m\u001b[39m duration:\u001b[39m\u001b[39m%.3f\u001b[39;00m\u001b[39ms]\u001b[39m\u001b[39m\"\u001b[39m\n\u001b[0;32m    338\u001b[0m         \u001b[39m%\u001b[39m (\n\u001b[1;32m   (...)\u001b[0m\n\u001b[0;32m    344\u001b[0m         )\n\u001b[0;32m    345\u001b[0m     )\n\u001b[0;32m    347\u001b[0m     \u001b[39mif\u001b[39;00m method \u001b[39m!=\u001b[39m \u001b[39m\"\u001b[39m\u001b[39mHEAD\u001b[39m\u001b[39m\"\u001b[39m:\n",
      "File \u001b[1;32mc:\\Users\\refar\\.conda\\envs\\es\\lib\\site-packages\\elastic_transport\\_node\\_http_urllib3.py:199\u001b[0m, in \u001b[0;36mUrllib3HttpNode.perform_request\u001b[1;34m(self, method, target, body, headers, request_timeout)\u001b[0m\n\u001b[0;32m    191\u001b[0m         err \u001b[39m=\u001b[39m \u001b[39mConnectionError\u001b[39;00m(\u001b[39mstr\u001b[39m(e), errors\u001b[39m=\u001b[39m(e,))\n\u001b[0;32m    192\u001b[0m     \u001b[39mself\u001b[39m\u001b[39m.\u001b[39m_log_request(\n\u001b[0;32m    193\u001b[0m         method\u001b[39m=\u001b[39mmethod,\n\u001b[0;32m    194\u001b[0m         target\u001b[39m=\u001b[39mtarget,\n\u001b[1;32m   (...)\u001b[0m\n\u001b[0;32m    197\u001b[0m         exception\u001b[39m=\u001b[39merr,\n\u001b[0;32m    198\u001b[0m     )\n\u001b[1;32m--> 199\u001b[0m     \u001b[39mraise\u001b[39;00m err \u001b[39mfrom\u001b[39;00m \u001b[39mNone\u001b[39;00m\n\u001b[0;32m    201\u001b[0m meta \u001b[39m=\u001b[39m ApiResponseMeta(\n\u001b[0;32m    202\u001b[0m     node\u001b[39m=\u001b[39m\u001b[39mself\u001b[39m\u001b[39m.\u001b[39mconfig,\n\u001b[0;32m    203\u001b[0m     duration\u001b[39m=\u001b[39mduration,\n\u001b[1;32m   (...)\u001b[0m\n\u001b[0;32m    206\u001b[0m     headers\u001b[39m=\u001b[39mresponse_headers,\n\u001b[0;32m    207\u001b[0m )\n\u001b[0;32m    208\u001b[0m \u001b[39mself\u001b[39m\u001b[39m.\u001b[39m_log_request(\n\u001b[0;32m    209\u001b[0m     method\u001b[39m=\u001b[39mmethod,\n\u001b[0;32m    210\u001b[0m     target\u001b[39m=\u001b[39mtarget,\n\u001b[1;32m   (...)\u001b[0m\n\u001b[0;32m    214\u001b[0m     response\u001b[39m=\u001b[39mdata,\n\u001b[0;32m    215\u001b[0m )\n",
      "\u001b[1;31mConnectionTimeout\u001b[0m: Connection timed out"
     ]
    }
   ],
   "source": [
    "db = vectorstore.from_documents(\n",
    "    docs, \n",
    "    embeddings, \n",
    "    es_connection=client,\n",
    "    index_name= \"workplace_index\"\n",
    ")"
   ]
  },
  {
   "cell_type": "code",
   "execution_count": 72,
   "metadata": {},
   "outputs": [
    {
     "ename": "NotFoundError",
     "evalue": "NotFoundError(404, 'index_not_found_exception', 'no such index [workplace_index]', workplace_index, index_or_alias)",
     "output_type": "error",
     "traceback": [
      "\u001b[1;31m---------------------------------------------------------------------------\u001b[0m",
      "\u001b[1;31mNotFoundError\u001b[0m                             Traceback (most recent call last)",
      "\u001b[1;32mc:\\Users\\refar\\Projects\\es-lab-kr\\s-core\\quickstart.ipynb 셀 15\u001b[0m line \u001b[0;36m1\n\u001b[1;32m----> <a href='vscode-notebook-cell:/c%3A/Users/refar/Projects/es-lab-kr/s-core/quickstart.ipynb#X20sZmlsZQ%3D%3D?line=0'>1</a>\u001b[0m vectorstore\u001b[39m.\u001b[39;49mclient\u001b[39m.\u001b[39;49mindices\u001b[39m.\u001b[39;49mrefresh(index\u001b[39m=\u001b[39;49m\u001b[39m\"\u001b[39;49m\u001b[39mworkplace_index\u001b[39;49m\u001b[39m\"\u001b[39;49m)\n\u001b[0;32m      <a href='vscode-notebook-cell:/c%3A/Users/refar/Projects/es-lab-kr/s-core/quickstart.ipynb#X20sZmlsZQ%3D%3D?line=2'>3</a>\u001b[0m query \u001b[39m=\u001b[39m \u001b[39m\"\u001b[39m\u001b[39mWhat did the president say about Ketanji Brown Jackson\u001b[39m\u001b[39m\"\u001b[39m\n\u001b[0;32m      <a href='vscode-notebook-cell:/c%3A/Users/refar/Projects/es-lab-kr/s-core/quickstart.ipynb#X20sZmlsZQ%3D%3D?line=3'>4</a>\u001b[0m results \u001b[39m=\u001b[39m vectorstore\u001b[39m.\u001b[39msimilarity_search(query)\n",
      "File \u001b[1;32mc:\\Users\\refar\\.conda\\envs\\es\\lib\\site-packages\\elasticsearch\\_sync\\client\\utils.py:414\u001b[0m, in \u001b[0;36m_rewrite_parameters.<locals>.wrapper.<locals>.wrapped\u001b[1;34m(*args, **kwargs)\u001b[0m\n\u001b[0;32m    411\u001b[0m         \u001b[39mexcept\u001b[39;00m \u001b[39mKeyError\u001b[39;00m:\n\u001b[0;32m    412\u001b[0m             \u001b[39mpass\u001b[39;00m\n\u001b[1;32m--> 414\u001b[0m \u001b[39mreturn\u001b[39;00m api(\u001b[39m*\u001b[39margs, \u001b[39m*\u001b[39m\u001b[39m*\u001b[39mkwargs)\n",
      "File \u001b[1;32mc:\\Users\\refar\\.conda\\envs\\es\\lib\\site-packages\\elasticsearch\\_sync\\client\\indices.py:3281\u001b[0m, in \u001b[0;36mIndicesClient.refresh\u001b[1;34m(self, index, allow_no_indices, error_trace, expand_wildcards, filter_path, human, ignore_unavailable, pretty)\u001b[0m\n\u001b[0;32m   3279\u001b[0m     __query[\u001b[39m\"\u001b[39m\u001b[39mpretty\u001b[39m\u001b[39m\"\u001b[39m] \u001b[39m=\u001b[39m pretty\n\u001b[0;32m   3280\u001b[0m __headers \u001b[39m=\u001b[39m {\u001b[39m\"\u001b[39m\u001b[39maccept\u001b[39m\u001b[39m\"\u001b[39m: \u001b[39m\"\u001b[39m\u001b[39mapplication/json\u001b[39m\u001b[39m\"\u001b[39m}\n\u001b[1;32m-> 3281\u001b[0m \u001b[39mreturn\u001b[39;00m \u001b[39mself\u001b[39;49m\u001b[39m.\u001b[39;49mperform_request(  \u001b[39m# type: ignore[return-value]\u001b[39;49;00m\n\u001b[0;32m   3282\u001b[0m     \u001b[39m\"\u001b[39;49m\u001b[39mPOST\u001b[39;49m\u001b[39m\"\u001b[39;49m, __path, params\u001b[39m=\u001b[39;49m__query, headers\u001b[39m=\u001b[39;49m__headers\n\u001b[0;32m   3283\u001b[0m )\n",
      "File \u001b[1;32mc:\\Users\\refar\\.conda\\envs\\es\\lib\\site-packages\\elasticsearch\\_sync\\client\\_base.py:389\u001b[0m, in \u001b[0;36mNamespacedClient.perform_request\u001b[1;34m(self, method, path, params, headers, body)\u001b[0m\n\u001b[0;32m    378\u001b[0m \u001b[39mdef\u001b[39;00m \u001b[39mperform_request\u001b[39m(\n\u001b[0;32m    379\u001b[0m     \u001b[39mself\u001b[39m,\n\u001b[0;32m    380\u001b[0m     method: \u001b[39mstr\u001b[39m,\n\u001b[1;32m   (...)\u001b[0m\n\u001b[0;32m    387\u001b[0m     \u001b[39m# Use the internal clients .perform_request() implementation\u001b[39;00m\n\u001b[0;32m    388\u001b[0m     \u001b[39m# so we take advantage of their transport options.\u001b[39;00m\n\u001b[1;32m--> 389\u001b[0m     \u001b[39mreturn\u001b[39;00m \u001b[39mself\u001b[39;49m\u001b[39m.\u001b[39;49m_client\u001b[39m.\u001b[39;49mperform_request(\n\u001b[0;32m    390\u001b[0m         method, path, params\u001b[39m=\u001b[39;49mparams, headers\u001b[39m=\u001b[39;49mheaders, body\u001b[39m=\u001b[39;49mbody\n\u001b[0;32m    391\u001b[0m     )\n",
      "File \u001b[1;32mc:\\Users\\refar\\.conda\\envs\\es\\lib\\site-packages\\elasticsearch\\_sync\\client\\_base.py:320\u001b[0m, in \u001b[0;36mBaseClient.perform_request\u001b[1;34m(self, method, path, params, headers, body)\u001b[0m\n\u001b[0;32m    317\u001b[0m         \u001b[39mexcept\u001b[39;00m (\u001b[39mValueError\u001b[39;00m, \u001b[39mKeyError\u001b[39;00m, \u001b[39mTypeError\u001b[39;00m):\n\u001b[0;32m    318\u001b[0m             \u001b[39mpass\u001b[39;00m\n\u001b[1;32m--> 320\u001b[0m     \u001b[39mraise\u001b[39;00m HTTP_EXCEPTIONS\u001b[39m.\u001b[39mget(meta\u001b[39m.\u001b[39mstatus, ApiError)(\n\u001b[0;32m    321\u001b[0m         message\u001b[39m=\u001b[39mmessage, meta\u001b[39m=\u001b[39mmeta, body\u001b[39m=\u001b[39mresp_body\n\u001b[0;32m    322\u001b[0m     )\n\u001b[0;32m    324\u001b[0m \u001b[39m# 'X-Elastic-Product: Elasticsearch' should be on every 2XX response.\u001b[39;00m\n\u001b[0;32m    325\u001b[0m \u001b[39mif\u001b[39;00m \u001b[39mnot\u001b[39;00m \u001b[39mself\u001b[39m\u001b[39m.\u001b[39m_verified_elasticsearch:\n\u001b[0;32m    326\u001b[0m     \u001b[39m# If the header is set we mark the server as verified.\u001b[39;00m\n",
      "\u001b[1;31mNotFoundError\u001b[0m: NotFoundError(404, 'index_not_found_exception', 'no such index [workplace_index]', workplace_index, index_or_alias)"
     ]
    }
   ],
   "source": [
    "vectorstore.client.indices.refresh(index=\"workplace_index\")\n",
    "\n",
    "query = \"What did the president say about Ketanji Brown Jackson\"\n",
    "results = vectorstore.similarity_search(query)\n",
    "print(results)"
   ]
  }
 ],
 "metadata": {
  "kernelspec": {
   "display_name": "chatbot",
   "language": "python",
   "name": "python3"
  },
  "language_info": {
   "codemirror_mode": {
    "name": "ipython",
    "version": 3
   },
   "file_extension": ".py",
   "mimetype": "text/x-python",
   "name": "python",
   "nbconvert_exporter": "python",
   "pygments_lexer": "ipython3",
   "version": "3.10.12"
  }
 },
 "nbformat": 4,
 "nbformat_minor": 2
}
