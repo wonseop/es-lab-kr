{
 "cells": [
  {
   "cell_type": "code",
   "execution_count": 1,
   "metadata": {},
   "outputs": [
    {
     "name": "stdout",
     "output_type": "stream",
     "text": [
      "Requirement already satisfied: langchain in c:\\users\\refar\\.conda\\envs\\chatbot\\lib\\site-packages (0.0.305)\n",
      "Requirement already satisfied: llama-cpp-python in c:\\users\\refar\\.conda\\envs\\chatbot\\lib\\site-packages (0.2.9)\n",
      "Requirement already satisfied: cchardet in c:\\users\\refar\\.conda\\envs\\chatbot\\lib\\site-packages (2.1.7)\n",
      "Requirement already satisfied: PyYAML>=5.3 in c:\\users\\refar\\.conda\\envs\\chatbot\\lib\\site-packages (from langchain) (6.0.1)\n",
      "Requirement already satisfied: SQLAlchemy<3,>=1.4 in c:\\users\\refar\\.conda\\envs\\chatbot\\lib\\site-packages (from langchain) (2.0.21)\n",
      "Requirement already satisfied: aiohttp<4.0.0,>=3.8.3 in c:\\users\\refar\\.conda\\envs\\chatbot\\lib\\site-packages (from langchain) (3.8.5)\n",
      "Requirement already satisfied: anyio<4.0 in c:\\users\\refar\\.conda\\envs\\chatbot\\lib\\site-packages (from langchain) (3.7.1)\n",
      "Requirement already satisfied: async-timeout<5.0.0,>=4.0.0 in c:\\users\\refar\\.conda\\envs\\chatbot\\lib\\site-packages (from langchain) (4.0.3)\n",
      "Requirement already satisfied: dataclasses-json<0.7,>=0.5.7 in c:\\users\\refar\\.conda\\envs\\chatbot\\lib\\site-packages (from langchain) (0.6.1)\n",
      "Requirement already satisfied: jsonpatch<2.0,>=1.33 in c:\\users\\refar\\.conda\\envs\\chatbot\\lib\\site-packages (from langchain) (1.33)\n",
      "Requirement already satisfied: langsmith<0.1.0,>=0.0.38 in c:\\users\\refar\\.conda\\envs\\chatbot\\lib\\site-packages (from langchain) (0.0.41)\n",
      "Requirement already satisfied: numexpr<3.0.0,>=2.8.4 in c:\\users\\refar\\.conda\\envs\\chatbot\\lib\\site-packages (from langchain) (2.8.7)\n",
      "Requirement already satisfied: numpy<2,>=1 in c:\\users\\refar\\.conda\\envs\\chatbot\\lib\\site-packages (from langchain) (1.25.2)\n",
      "Requirement already satisfied: pydantic<3,>=1 in c:\\users\\refar\\.conda\\envs\\chatbot\\lib\\site-packages (from langchain) (2.4.2)\n",
      "Requirement already satisfied: requests<3,>=2 in c:\\users\\refar\\.conda\\envs\\chatbot\\lib\\site-packages (from langchain) (2.31.0)\n",
      "Requirement already satisfied: tenacity<9.0.0,>=8.1.0 in c:\\users\\refar\\.conda\\envs\\chatbot\\lib\\site-packages (from langchain) (8.2.3)\n",
      "Requirement already satisfied: typing-extensions>=4.5.0 in c:\\users\\refar\\.conda\\envs\\chatbot\\lib\\site-packages (from llama-cpp-python) (4.7.1)\n",
      "Requirement already satisfied: diskcache>=5.6.1 in c:\\users\\refar\\.conda\\envs\\chatbot\\lib\\site-packages (from llama-cpp-python) (5.6.3)\n",
      "Requirement already satisfied: attrs>=17.3.0 in c:\\users\\refar\\.conda\\envs\\chatbot\\lib\\site-packages (from aiohttp<4.0.0,>=3.8.3->langchain) (23.1.0)\n",
      "Requirement already satisfied: charset-normalizer<4.0,>=2.0 in c:\\users\\refar\\.conda\\envs\\chatbot\\lib\\site-packages (from aiohttp<4.0.0,>=3.8.3->langchain) (2.0.4)\n",
      "Requirement already satisfied: multidict<7.0,>=4.5 in c:\\users\\refar\\.conda\\envs\\chatbot\\lib\\site-packages (from aiohttp<4.0.0,>=3.8.3->langchain) (6.0.4)\n",
      "Requirement already satisfied: yarl<2.0,>=1.0 in c:\\users\\refar\\.conda\\envs\\chatbot\\lib\\site-packages (from aiohttp<4.0.0,>=3.8.3->langchain) (1.9.2)\n",
      "Requirement already satisfied: frozenlist>=1.1.1 in c:\\users\\refar\\.conda\\envs\\chatbot\\lib\\site-packages (from aiohttp<4.0.0,>=3.8.3->langchain) (1.4.0)\n",
      "Requirement already satisfied: aiosignal>=1.1.2 in c:\\users\\refar\\.conda\\envs\\chatbot\\lib\\site-packages (from aiohttp<4.0.0,>=3.8.3->langchain) (1.3.1)\n",
      "Requirement already satisfied: idna>=2.8 in c:\\users\\refar\\.conda\\envs\\chatbot\\lib\\site-packages (from anyio<4.0->langchain) (3.4)\n",
      "Requirement already satisfied: sniffio>=1.1 in c:\\users\\refar\\.conda\\envs\\chatbot\\lib\\site-packages (from anyio<4.0->langchain) (1.3.0)\n",
      "Requirement already satisfied: exceptiongroup in c:\\users\\refar\\.conda\\envs\\chatbot\\lib\\site-packages (from anyio<4.0->langchain) (1.1.3)\n",
      "Requirement already satisfied: marshmallow<4.0.0,>=3.18.0 in c:\\users\\refar\\.conda\\envs\\chatbot\\lib\\site-packages (from dataclasses-json<0.7,>=0.5.7->langchain) (3.20.1)\n",
      "Requirement already satisfied: typing-inspect<1,>=0.4.0 in c:\\users\\refar\\.conda\\envs\\chatbot\\lib\\site-packages (from dataclasses-json<0.7,>=0.5.7->langchain) (0.9.0)\n",
      "Requirement already satisfied: jsonpointer>=1.9 in c:\\users\\refar\\.conda\\envs\\chatbot\\lib\\site-packages (from jsonpatch<2.0,>=1.33->langchain) (2.4)\n",
      "Requirement already satisfied: annotated-types>=0.4.0 in c:\\users\\refar\\.conda\\envs\\chatbot\\lib\\site-packages (from pydantic<3,>=1->langchain) (0.5.0)\n",
      "Requirement already satisfied: pydantic-core==2.10.1 in c:\\users\\refar\\.conda\\envs\\chatbot\\lib\\site-packages (from pydantic<3,>=1->langchain) (2.10.1)\n",
      "Requirement already satisfied: urllib3<3,>=1.21.1 in c:\\users\\refar\\.conda\\envs\\chatbot\\lib\\site-packages (from requests<3,>=2->langchain) (1.26.16)\n",
      "Requirement already satisfied: certifi>=2017.4.17 in c:\\users\\refar\\.conda\\envs\\chatbot\\lib\\site-packages (from requests<3,>=2->langchain) (2023.7.22)\n",
      "Requirement already satisfied: greenlet!=0.4.17 in c:\\users\\refar\\.conda\\envs\\chatbot\\lib\\site-packages (from SQLAlchemy<3,>=1.4->langchain) (2.0.2)\n",
      "Requirement already satisfied: packaging>=17.0 in c:\\users\\refar\\.conda\\envs\\chatbot\\lib\\site-packages (from marshmallow<4.0.0,>=3.18.0->dataclasses-json<0.7,>=0.5.7->langchain) (23.1)\n",
      "Requirement already satisfied: mypy-extensions>=0.3.0 in c:\\users\\refar\\.conda\\envs\\chatbot\\lib\\site-packages (from typing-inspect<1,>=0.4.0->dataclasses-json<0.7,>=0.5.7->langchain) (1.0.0)\n"
     ]
    }
   ],
   "source": [
    "!pip install langchain llama-cpp-python cchardet"
   ]
  },
  {
   "cell_type": "code",
   "execution_count": 2,
   "metadata": {},
   "outputs": [
    {
     "name": "stderr",
     "output_type": "stream",
     "text": [
      "AVX = 1 | AVX2 = 1 | AVX512 = 0 | AVX512_VBMI = 0 | AVX512_VNNI = 0 | FMA = 1 | NEON = 0 | ARM_FMA = 0 | F16C = 1 | FP16_VA = 0 | WASM_SIMD = 0 | BLAS = 0 | SSE3 = 1 | SSSE3 = 0 | VSX = 0 | \n"
     ]
    }
   ],
   "source": [
    "from langchain.llms import LlamaCpp\n",
    "from langchain import PromptTemplate, LLMChain\n",
    "from langchain.callbacks.manager import CallbackManager \n",
    "from langchain.callbacks.streaming_stdout import StreamingStdOutCallbackHandler\n",
    "\n",
    "template = \"\"\"Question: {question}\n",
    "Answer: 올바른 답을 얻을 수 있도록 단계별로 이 문제를 해결해 보겠습니다.\"\"\"\n",
    "prompt = PromptTemplate(template=template, input_variables=[\"question\"])\n",
    "\n",
    "callback_manager = CallbackManager([StreamingStdOutCallbackHandler()])\n",
    "\n",
    "# llm = LlamaCpp(\n",
    "# \t# model_path: 로컬머신에 다운로드 받은 모델의 위치\n",
    "#     model_path=\"./openbuddy-llama2-34b-v11.1-bf16.Q4_K_M.gguf\",\n",
    "#     temperature=0.5,\n",
    "#     top_p=1,\n",
    "#     max_tokens=8192,\n",
    "#     verbose=True,\n",
    "#     # n_ctx: 모델이 한 번에 처리할 수 있는 최대 컨텍스트 길이\n",
    "#     n_ctx=4096,\n",
    "#     n_gpu_layers=40,\n",
    "#     n_batch=50,\n",
    "#     callback_manager=callback_manager\n",
    "# )\n",
    "\n",
    "llm = LlamaCpp(\n",
    "\t# model_path: 로컬머신에 다운로드 받은 모델의 위치\n",
    "    model_path=\"./openbuddy-llama2-13b-v11.1.Q4_0.gguf\",\n",
    "    temperature=0.0,\n",
    "    top_p=1,\n",
    "    max_tokens=4096,\n",
    "    verbose=True,\n",
    "    # n_ctx: 모델이 한 번에 처리할 수 있는 최대 컨텍스트 길이\n",
    "    n_ctx=4096,\n",
    "    callback_manager=callback_manager\n",
    ")\n",
    "\n",
    "llm_chain = LLMChain(prompt=prompt, llm=llm)"
   ]
  },
  {
   "cell_type": "code",
   "execution_count": 3,
   "metadata": {},
   "outputs": [
    {
     "name": "stdout",
     "output_type": "stream",
     "text": [
      "\n",
      "\n",
      "1. 인생의 정의에 대한 기본적인 이해\n",
      "인생은 어떤 것일까요? 이 질문에 대한 답을 찾기 위해서는 우선 인생의 정의를 이해해야 합니다. 인생은 사람이 태어나서부터 죽게 되는 과정을 말하며, 이 과정에서 경험하는 모든 것들을 포함합니다.\n",
      "\n",
      "2. 인생의 목적과 의미\n",
      "인생은 무엇을 위해 있을까요? 이 질문에 대한 답을 찾기 위해서는 우선 인생의 목적과 의미를 파악해야 합니다. 인생의 목적은 개인마다 다르며, 일반적으로는 행복, 성취감, 가족, 사랑, 자유 등을 추구하는 것입니다. 인생의 의미는 개인이 자신의 삶에서 어떤 역할을 수행하고 있는지를 결정하는 데 중요한 역할을 합니다.\n",
      "\n",
      "3. 인생의 과제와 도전\n",
      "인생은 어떤 과제와 도전을 포함하고 있을까요? 이 질문에 대한 답을 찾기 위해서는 우선 인생의 과제와 도전을 파악해야 합니다. 인생은 여러 가지 과제와 도전을 포함하고 있습니다. 이를테면, 개인적인 성장, 사회적인 책임, 경제적인 안정 등이 있습니다.\n",
      "\n",
      "4. 인생의 가치와 의미\n",
      "인생은 어떤 가치와 의미를 지니고 있을까요? 이 질문에 대한 답을 찾기 위해서는 우선 인생의 가치와 의미를 파악해야 합니다. 인생은 개인과 사회 모두에게 중요한 가치와 의미를 지니고 있습니다. 이를테면, 인간의 존엄성, 자유, 평등, 공정 등이 있습니다.\n",
      "\n",
      "5. 인생의 목표와 비전\n",
      "인생은 어떤 목표와 비전을 가지고 있을까요? 이 질문에 대한 답을 찾기 위해서는 우선 인생의 목표와 비전을 파악해야 합니다. 인생은 개인마다 다른 목표와 비전을 가지고 있습니다. 이를테면, 일자리 찾기, 가족 구축, 여행하는 것 등이 있습니다.\n",
      "\n",
      "6. 인생의 방향과 목표\n",
      "인생은 어떤 방향과 목표를 가지고 있을까요? 이 질문에 대한 답을 찾기 위해서는 우선 인생의 방향과 목표를 파악해야 합니다. 인생은 개인마다 다른 방향과 목표를 가지고 있습니다. 이를테면, 경제적인 안정을 위한 노력, 자신의 꿈을 이루기 위한 노력 등이 있습니다.\n",
      "\n",
      "7. 인생의 목표와 방향\n",
      "인생은 어떤 목표와 방향을 가지고 있을까요? 이 질문에 대한 답을 찾기 위해서는 우선 인생의 목표와 방향을 파악해야 합니다. 인생은 개인마다 다른 목표와 방향을 가지고 있습니다. 이를테면, 자신의 꿈을 이루기 위한 노력, 가족과 함께하는 것 등이 있습니다.\n",
      "\n",
      "8. 인생의 목표와 방향\n",
      "인생은 어떤 목표와 방향을 가지고 있을까요? 이 질문에 대한 답을 찾기 위해서는 우선 인생의 목표와 방향을 파악해야 합니다. 인생은 개인마다 다른 목표와 방향을 가지고 있습니다. 이를테면, 자신의 꿈을 이루기 위한 노력, 가족과 함께하는 것 등이 있습니다.\n",
      "\n",
      "9. 인생의 목표와 방향\n",
      "인생은 어떤 목표와 방향을 가지고 있을까요? 이 질문에 대한 답을 찾기 위해서는 우선 인생의 목표와 방향을 파악해야 합니다. 인생은 개인마다 다른 목표와 방향을 가지고 있습니다. 이를테면, 자신의 꿈을 이루기 위한 노력, 가족과 함께하는 것 등이 있습니다.\n",
      "\n",
      "10. 인생의 목표와 방향\n",
      "인생은 어떤 목표와 방향을 가지고 있을까요? 이 질문에 대한 답을 찾기 위해서는 우선 인생의 목표와 방향을 파악해야 합니다. 인생은 개인마다 다른 목표와 방향을 가지고 있습니다. 이를테면, 자신의 꿈을 이루기 위한 노력, 가족과 함께하는 것 등이 있습니다.\n"
     ]
    }
   ],
   "source": [
    "prompt = \"\"\"\n",
    "인생이란 무엇일까?\n",
    "\"\"\"\n",
    "\n",
    "response = llm_chain.run(prompt)\n",
    "# print(response)"
   ]
  },
  {
   "cell_type": "code",
   "execution_count": 4,
   "metadata": {},
   "outputs": [
    {
     "name": "stderr",
     "output_type": "stream",
     "text": [
      "Llama.generate: prefix-match hit\n"
     ]
    },
    {
     "name": "stdout",
     "output_type": "stream",
     "text": [
      "\n",
      "\n",
      "1. Elasticsearch는 무엇인가요?\n",
      "Elasticsearch는 오픈소스 검색 엔진으로, 대용량 데이터를 빠르게 검색하고 분석할 수 있도록 합니다. 이것은 일반적으로 분산형 시스템에서 사용되며, 다양한 데이터 소스와 통합됩니다.\n",
      "2. Elasticsearch의 주요 기능은 무엇인가요?\n",
      "Elasticsearch는 다음과 같은 주요 기능을 제공합니다:\n",
      "* 분산형 검색 및 분석\n",
      "* 실시간 데이터 처리\n",
      "* 대용량 데이터 처리\n",
      "* 다양한 데이터 소스와의 통합\n",
      "* 다양한 쿼리 언어를 지원하는 검색 API\n",
      "3. Elasticsearch는 어떤 종류의 데이터에 사용될까요?\n",
      "Elasticsearch는 다양한 데이터 유형에 사용됩니다. 일부 예시는 다음과 같습니다:\n",
      "* 텍스트 데이터 (문서, 메일, 소셜 미디어 등)\n",
      "* 이미지 및 비디오 데이터\n",
      "* 시계열 데이터 (로그, 센서 데이터 등)\n",
      "* 구조화된 데이터 (데이터베이스, CSV 파일 등)\n",
      "4. Elasticsearch는 어떻게 사용되나요?\n",
      "Elasticsearch는 다양한 방법으로 사용됩니다. 몇 가지 예시는 다음과 같습니다:\n",
      "* 웹 검색: Elasticsearch를 사용하여 웹 사이트에서 검색을 수행할 수 있습니다.\n",
      "* 데이터 분석: Elasticsearch를 사용하여 대용량 데이터를 분석하고 통계를 생성할 수 있습니다.\n",
      "* 데이터 시각화: Elasticsearch를 사용하여 데이터를 시각적으로 표현할 수 있습니다.\n",
      "* 데이터 마이닝: Elasticsearch를 사용하여 패턴을 식별하고 예측을 수행할 수 있습니다.\n",
      "5. Elasticsearch는 어떻게 설치되나요?\n",
      "Elasticsearch는 Java로 작성된 오픈소스 프로젝트이므로, 다양한 방법으로 설치할 수 있습니다. 가장 일반적인 방법은 다음과 같습니다:\n",
      "* 다운로드 및 설치 Elasticsearch를 위한 소프트웨어 패키지 (예: apt, yum 등)\n",
      "* Elasticsearch를 실행하기 위해 필요한 모든 구성 요소를 설치합니다.\n",
      "6. Elasticsearch는 무엇과 비교할 수 있나요?\n",
      "Elasticsearch는 다음과 같은 검색 엔진과 비교될 수 있습니다:\n",
      "* Solr: Apache Lucene를 기반으로한 오픈소스 검색 엔진입니다.\n",
      "* Sphinx: 대규모 데이터베이스에서 빠르게 문서를 검색하는 데 사용되는 오픈소스 검색 엔진입니다.\n",
      "* Whoosh: Python로 작성된 검색 엔진으로, 대규모 텍스트 데이터를 빠르게 검색할 수 있습니다.\n",
      "7. Elasticsearch와 함께 사용되는 기술은 무엇인가요?\n",
      "Elasticsearch는 다양한 기술과 통합됩니다. 일부 예시는 다음과 같습니다:\n",
      "* Logstash: Elasticsearch에 데이터를 수집하고 처리하는 데 사용되는 데이터 수집 도구입니다.\n",
      "* Kibana: Elasticsearch의 데이터를 시각적으로 표현하고 분석할 수 있는 데이터 분석 플랫폼입니다.\n",
      "* Beats: 다양한 소스에서 데이터를 수집하고 Elasticsearch에 전송하는 데 사용되는 데이터 수집 도구입니다.\n",
      "8. Elasticsearch의 장점은 무엇인가요?\n",
      "Elasticsearch의 몇 가지 주요 장점은 다음과 같습니다:\n",
      "* 빠른 검색 및 분석 속도\n",
      "* 대용량 데이터 처리 능력\n",
      "* 다양한 데이터 소스와의 통합 기능\n",
      "* 다양한 쿼리 언어를 지원하는 검색 API\n",
      "* 확장성과 유연성을 위한 분산형 아키텍처\n",
      "9. Elasticsearch의 단점은 무엇인가요?\n",
      "Elasticsearch의 몇 가지 주요 단점은 다음과 같습니다:\n",
      "* 복잡성: Elasticsearch는 복잡한 시스템으로, 설치하고 구성하는 데 어려움이 있을 수 있습니다.\n",
      "* 비용: Elasticsearch를 사용하면 서버 리소스를 많이 필요로 합니다. 따라서 비용이 높아질 수 있습니다.\n",
      "* 학습 곡선: Elasticsearch는 복잡한 기술을 사용하므로, 사용자가 익숙해지기까지 시간이 걸릴 수 있습니다.\n",
      "10. Elasticsearch를 사용하는 데 어떤 전략이 있나요?\n",
      "Elasticsearch를 사용하는 데 몇 가지 전략은 다음과 같습니다:\n",
      "* 분산형 시스템에서 사용하기: Elasticsearch는 대규모 데이터를 처리하고 분석할 수 있는 분산형 시스템에서 사용됩니다.\n",
      "* 실시간 데이터 처리: Elasticsearch는 실시간 데이터 처리에 특화되어 있으므로, 이를 최적화하는 것이 중요합니다.\n",
      "* 대용량 데이터 처리: Elasticsearch는 대용량 데이터를 처리할 수 있는 능력을 가지고 있으므로, 이를 최적화하는 것이 중요합니다.\n",
      "* 다양한 데이터 소스와의 통합: Elasticsearch는 다양한 데이터 소스와 통합할 수 있으므로, 이를 최적화하는 것이 중요합니다.\n"
     ]
    }
   ],
   "source": [
    "response = llm_chain.run(\"could you tell me about Elasticsearch?\")\n",
    "# print(response)"
   ]
  }
 ],
 "metadata": {
  "kernelspec": {
   "display_name": "chatbot",
   "language": "python",
   "name": "python3"
  },
  "language_info": {
   "codemirror_mode": {
    "name": "ipython",
    "version": 3
   },
   "file_extension": ".py",
   "mimetype": "text/x-python",
   "name": "python",
   "nbconvert_exporter": "python",
   "pygments_lexer": "ipython3",
   "version": "0.0.0"
  },
  "orig_nbformat": 4
 },
 "nbformat": 4,
 "nbformat_minor": 2
}
